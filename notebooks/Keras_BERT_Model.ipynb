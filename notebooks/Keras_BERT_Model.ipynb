{
  "nbformat": 4,
  "nbformat_minor": 0,
  "metadata": {
    "colab": {
      "name": "Keras BERT Model (local).ipynb",
      "version": "0.3.2",
      "provenance": [],
      "collapsed_sections": []
    },
    "kernelspec": {
      "name": "python3",
      "display_name": "Python 3"
    },
    "accelerator": "GPU"
  },
  "cells": [
    {
      "cell_type": "code",
      "metadata": {
        "id": "A6cf1WTfEGFs",
        "colab_type": "code",
        "colab": {}
      },
      "source": [
        "import csv\n",
        "import pandas as pd\n",
        "import numpy as np\n",
        "import os\n",
        "import pandas as pd\n",
        "import tensorflow as tf\n",
        "import tensorflow_hub as hub\n",
        "from datetime import datetime\n",
        "from sklearn.metrics import roc_auc_score, f1_score\n",
        "\n",
        "from tensorflow.keras import backend as K"
      ],
      "execution_count": 0,
      "outputs": []
    },
    {
      "cell_type": "code",
      "metadata": {
        "id": "mOIC3gguESlA",
        "colab_type": "code",
        "colab": {}
      },
      "source": [
        "import bert\n",
        "from bert import run_classifier\n",
        "from bert import optimization\n",
        "from bert import tokenization"
      ],
      "execution_count": 0,
      "outputs": []
    },
    {
      "cell_type": "code",
      "metadata": {
        "id": "ls6z_U-6KDJu",
        "colab_type": "code",
        "colab": {}
      },
      "source": [
        "RETRAIN_MODEL = False"
      ],
      "execution_count": 0,
      "outputs": []
    },
    {
      "cell_type": "code",
      "metadata": {
        "id": "jrzBsKLQSb7t",
        "colab_type": "code",
        "colab": {}
      },
      "source": [
        "# Hparams\n",
        "\n",
        "TRAINABLE_LAYERS = 6\n",
        "FC_LAYERS = [256, 128, 64]\n",
        "DROPOUT_RATE = 0.5\n",
        "EPOCHS = 2"
      ],
      "execution_count": 0,
      "outputs": []
    },
    {
      "cell_type": "code",
      "metadata": {
        "id": "zg_-yZZlyPE7",
        "colab_type": "code",
        "colab": {}
      },
      "source": [
        "# Initialize session\n",
        "sess = tf.Session()\n",
        "\n",
        "# This is a path to an uncased (all lowercase) version of BERT\n",
        "BERT_MODEL_PATH = \"https://tfhub.dev/google/bert_uncased_L-12_H-768_A-12/1\"\n",
        "\n",
        "# We'll set sequences to be at most 256 tokens long.\n",
        "max_seq_length = 256"
      ],
      "execution_count": 0,
      "outputs": []
    },
    {
      "cell_type": "code",
      "metadata": {
        "id": "K87DT5TlEb83",
        "colab_type": "code",
        "colab": {}
      },
      "source": [
        "# TODO(varada): Please change the paths in this cell to the appropriate local path\n",
        "TRAIN_DATA = # 'gs://sfu-jigsaw/new/C3_train.csv'\n",
        "TEST_DATA = # 'gs://sfu-jigsaw/new/C3_test.csv'\n",
        "NYT_DATA = # 'gs://sfu-jigsaw/new/NYT_YNACC_feats_preprocessed.csv'\n",
        "SOCC_DATA = # 'gs://sfu-jigsaw/new/SOCC_constructiveness_annotations_feats_preprocessed.csv'\n",
        "MODEL_OUTPUT_DIR = #??"
      ],
      "execution_count": 0,
      "outputs": []
    },
    {
      "cell_type": "code",
      "metadata": {
        "id": "YLS_hnAKF4uJ",
        "colab_type": "code",
        "colab": {}
      },
      "source": [
        "def df_from_path(path):\n",
        "  df = pd.read_csv(tf.gfile.Open(path, 'r'))\n",
        "  return df"
      ],
      "execution_count": 0,
      "outputs": []
    },
    {
      "cell_type": "code",
      "metadata": {
        "id": "t6VBl1DwhHu5",
        "colab_type": "code",
        "colab": {}
      },
      "source": [
        "train = df_from_path(TRAIN_DATA)\n",
        "test = df_from_path(TEST_DATA)"
      ],
      "execution_count": 0,
      "outputs": []
    },
    {
      "cell_type": "code",
      "metadata": {
        "id": "KP7pQIFAHily",
        "colab_type": "code",
        "colab": {}
      },
      "source": [
        "DATA_COLUMN = 'comment_text'\n",
        "LABEL_COLUMN = 'constructive_binary'\n",
        "label_list = [0, 1]"
      ],
      "execution_count": 0,
      "outputs": []
    },
    {
      "cell_type": "code",
      "metadata": {
        "id": "67yHSZT1Ifsj",
        "colab_type": "code",
        "colab": {}
      },
      "source": [
        "rain_InputExamples = train.apply(lambda x: bert.run_classifier.InputExample(guid=None,\n",
        "                                                                   text_a = x[DATA_COLUMN], \n",
        "                                                                   text_b = None, \n",
        "                                                                   label = x[LABEL_COLUMN]), axis = 1)\n",
        "\n",
        "test_InputExamples = test.apply(lambda x: bert.run_classifier.InputExample(guid=None, \n",
        "                                                                   text_a = x[DATA_COLUMN], \n",
        "                                                                   text_b = None, \n",
        "                                                                   label = x[LABEL_COLUMN]), axis = 1)"
      ],
      "execution_count": 0,
      "outputs": []
    },
    {
      "cell_type": "code",
      "metadata": {
        "id": "rZgh_zmJIjOl",
        "colab_type": "code",
        "colab": {}
      },
      "source": [
        "def create_tokenizer_from_hub_module(model_path):\n",
        "  \"\"\"Get the vocab file and casing info from the Hub module.\"\"\"\n",
        "  with tf.Graph().as_default():\n",
        "    bert_module = hub.Module(model_path)\n",
        "    tokenization_info = bert_module(signature=\"tokenization_info\", as_dict=True)\n",
        "    with tf.Session() as sess:\n",
        "      vocab_file, do_lower_case = sess.run([tokenization_info[\"vocab_file\"],\n",
        "                                            tokenization_info[\"do_lower_case\"]])\n",
        "      \n",
        "  return bert.tokenization.FullTokenizer(\n",
        "      vocab_file=vocab_file, do_lower_case=do_lower_case)\n",
        "\n",
        "tokenizer = create_tokenizer_from_hub_module(BERT_MODEL_PATH)"
      ],
      "execution_count": 0,
      "outputs": []
    },
    {
      "cell_type": "code",
      "metadata": {
        "id": "eH4KXsiuImyw",
        "colab_type": "code",
        "colab": {}
      },
      "source": [
        "%%time\n",
        "# Convert our train and test features to InputFeatures that BERT understands.\n",
        "train_features = bert.run_classifier.convert_examples_to_features(train_InputExamples, label_list, max_seq_length, tokenizer)\n",
        "test_features = bert.run_classifier.convert_examples_to_features(test_InputExamples, label_list, max_seq_length, tokenizer)"
      ],
      "execution_count": 0,
      "outputs": []
    },
    {
      "cell_type": "code",
      "metadata": {
        "id": "RNas9qSeIq0-",
        "colab_type": "code",
        "colab": {}
      },
      "source": [
        "class BertLayer(tf.keras.layers.Layer):\n",
        "    def __init__(self, n_fine_tune_layers, **kwargs):\n",
        "        self.n_fine_tune_layers = n_fine_tune_layers\n",
        "        self.trainable = True\n",
        "        self.output_size = 768\n",
        "        super(BertLayer, self).__init__(**kwargs)\n",
        "\n",
        "    def build(self, input_shape):\n",
        "        self.bert = hub.Module(\n",
        "            BERT_MODEL_PATH,\n",
        "            trainable=self.trainable,\n",
        "            name=\"{}_module\".format(self.name)\n",
        "        )\n",
        "\n",
        "        trainable_vars = self.bert.variables\n",
        "\n",
        "        # Remove unused layers\n",
        "        trainable_vars = [var for var in trainable_vars if not \"/cls/\" in var.name]\n",
        "\n",
        "        print(trainable_vars)\n",
        "        print(len(trainable_vars))\n",
        "        # Select how many layers to fine tune\n",
        "        if self.n_fine_tune_layers is not None:\n",
        "          if self.n_fine_tune_layers > 0:\n",
        "            trainable_vars = trainable_vars[-self.n_fine_tune_layers :]\n",
        "          elif self.n_fine_tune_layers == 0:\n",
        "            trainable_vars = []\n",
        "          else:\n",
        "            raise ValueError('n_fine_tune_layers must be >= 0 or None.')\n",
        "\n",
        "\n",
        "        # Add to trainable weights\n",
        "        for var in trainable_vars:\n",
        "            self._trainable_weights.append(var)\n",
        "            \n",
        "        for var in self.bert.variables:\n",
        "            if var not in self._trainable_weights:\n",
        "                self._non_trainable_weights.append(var)\n",
        "\n",
        "        super(BertLayer, self).build(input_shape)\n",
        "\n",
        "    def call(self, inputs):\n",
        "        inputs = [K.cast(x, dtype=\"int32\") for x in inputs]\n",
        "        input_ids, input_mask, segment_ids = inputs\n",
        "        bert_inputs = dict(\n",
        "            input_ids=input_ids, input_mask=input_mask, segment_ids=segment_ids\n",
        "        )\n",
        "        result = self.bert(inputs=bert_inputs, signature=\"tokens\", as_dict=True)[\n",
        "            \"pooled_output\"\n",
        "        ]\n",
        "        return result\n",
        "\n",
        "    def get_config(self):\n",
        "      config = super().get_config()\n",
        "      config['n_fine_tune_layers'] = self.n_fine_tune_layers\n",
        "      return config\n",
        "\n",
        "    def compute_output_shape(self, input_shape):\n",
        "        return (input_shape[0], self.output_size)"
      ],
      "execution_count": 0,
      "outputs": []
    },
    {
      "cell_type": "code",
      "metadata": {
        "id": "74GGMv30JGjb",
        "colab_type": "code",
        "colab": {}
      },
      "source": [
        "# Build model\n",
        "def build_model(max_seq_length): \n",
        "    in_id = tf.keras.layers.Input(shape=(max_seq_length,), name=\"input_ids\")\n",
        "    in_mask = tf.keras.layers.Input(shape=(max_seq_length,), name=\"input_masks\")\n",
        "    in_segment = tf.keras.layers.Input(shape=(max_seq_length,), name=\"segment_ids\")\n",
        "    bert_inputs = [in_id, in_mask, in_segment]\n",
        "    \n",
        "    dense = BertLayer(n_fine_tune_layers=TRAINABLE_LAYERS)(bert_inputs)\n",
        "    for layers in FC_LAYERS:\n",
        "      dense = tf.keras.layers.Dense(layers, activation='relu')(dense)\n",
        "      dense = tf.keras.layers.Dropout(DROPOUT_RATE)(dense)\n",
        "    pred = tf.keras.layers.Dense(1, activation='sigmoid')(dense)\n",
        "    \n",
        "    model = tf.keras.models.Model(inputs=bert_inputs, outputs=pred)\n",
        "    model.compile(loss='binary_crossentropy', optimizer='adam', metrics=['accuracy'])\n",
        "    model.summary()\n",
        "    \n",
        "    return model\n",
        "\n",
        "def initialize_vars(sess):\n",
        "    sess.run(tf.local_variables_initializer())\n",
        "    sess.run(tf.global_variables_initializer())\n",
        "    sess.run(tf.tables_initializer())\n",
        "    K.set_session(sess)"
      ],
      "execution_count": 0,
      "outputs": []
    },
    {
      "cell_type": "code",
      "metadata": {
        "id": "N41NH2dpzOmN",
        "colab_type": "code",
        "colab": {}
      },
      "source": [
        "def get_features(features):\n",
        "  input_ids, input_masks, segment_ids, labels = [], [], [], []\n",
        "  for f in features:\n",
        "    input_ids.append(f.input_ids)\n",
        "    input_masks.append(f.input_mask)\n",
        "    segment_ids.append(f.segment_ids)\n",
        "    labels.append(f.label_id)\n",
        "  return (\n",
        "    np.array(input_ids),\n",
        "    np.array(input_masks),\n",
        "    np.array(segment_ids),\n",
        "    np.array(labels).reshape(-1, 1),\n",
        "  )"
      ],
      "execution_count": 0,
      "outputs": []
    },
    {
      "cell_type": "code",
      "metadata": {
        "id": "KWFtjwIWJIWc",
        "colab_type": "code",
        "colab": {}
      },
      "source": [
        "train_input_ids, train_input_masks, train_segment_ids, train_labels = get_features(train_features)\n",
        "test_input_ids, test_input_masks, test_segment_ids, test_labels = get_features(test_features)\n",
        "\n",
        "model = build_model(max_seq_length)"
      ],
      "execution_count": 0,
      "outputs": []
    },
    {
      "cell_type": "code",
      "metadata": {
        "id": "OPlwojaR1US2",
        "colab_type": "code",
        "colab": {}
      },
      "source": [
        "# Instantiate variables\n",
        "initialize_vars(sess)"
      ],
      "execution_count": 0,
      "outputs": []
    },
    {
      "cell_type": "code",
      "metadata": {
        "id": "z9XdWQ6gLwUo",
        "colab_type": "code",
        "colab": {}
      },
      "source": [
        "%%time\n",
        "if RETRAIN_MODEL:\n",
        "  model.fit(\n",
        "      [train_input_ids, train_input_masks, train_segment_ids], \n",
        "      train_labels,\n",
        "      validation_data=([test_input_ids, test_input_masks, test_segment_ids], test_labels),\n",
        "      epochs=EPOCHS,\n",
        "      batch_size=32\n",
        "  )"
      ],
      "execution_count": 0,
      "outputs": []
    },
    {
      "cell_type": "code",
      "metadata": {
        "id": "GNeqzFbiJJ9e",
        "colab_type": "code",
        "colab": {}
      },
      "source": [
        "model_filename = 'BertModel_B%s_F%s_D%s_E%s.h5' % (TRAINABLE_LAYERS, len(FC_LAYERS), DROPOUT_RATE, EPOCHS)\n",
        "if RETRAIN_MODEL:\n",
        "  model.save_weights(os.path.join(MODEL_OUTPUT_DIR, model_filename))\n",
        "else:\n",
        "  model.load_weights(os.path.join(MODEL_OUTPUT_DIR, model_filename))"
      ],
      "execution_count": 0,
      "outputs": []
    },
    {
      "cell_type": "markdown",
      "metadata": {
        "id": "aJPBU7cXQCIn",
        "colab_type": "text"
      },
      "source": [
        "### Eval on Test Sets"
      ]
    },
    {
      "cell_type": "code",
      "metadata": {
        "id": "GJuqST51Zblg",
        "colab_type": "code",
        "colab": {}
      },
      "source": [
        "def predictions_from_df(bert_model, df, data_col, label_col):\n",
        "  test_InputExamples = df.apply(lambda x: bert.run_classifier.InputExample(guid=None, \n",
        "                                                                   text_a = x[data_col], \n",
        "                                                                   text_b = None, \n",
        "                                                                   label = x[label_col]), axis = 1)\n",
        "  test_features = bert.run_classifier.convert_examples_to_features(test_InputExamples, label_list, max_seq_length, tokenizer)\n",
        "  test_input_ids, test_input_masks, test_segment_ids, test_labels = get_features(test_features)\n",
        "  predictions = bert_model.predict([test_input_ids, \n",
        "                                test_input_masks, \n",
        "                                test_segment_ids]\n",
        "                              )\n",
        "  labels = df[label_col]\n",
        "  return predictions, labels"
      ],
      "execution_count": 0,
      "outputs": []
    },
    {
      "cell_type": "code",
      "metadata": {
        "id": "z3gvy8hjRS5E",
        "colab_type": "code",
        "colab": {}
      },
      "source": [
        "def metrics_from_df(bert_model, df, data_col = DATA_COLUMN, label_col = LABEL_COLUMN):\n",
        "  predictions, labels = predictions_from_df(bert_model, df, data_col, label_col)\n",
        "  auc = roc_auc_score(labels, predictions)\n",
        "  f1 = f1_score(labels, np.round(predictions))\n",
        "  return auc, f1"
      ],
      "execution_count": 0,
      "outputs": []
    },
    {
      "cell_type": "code",
      "metadata": {
        "id": "tRmI3GfrIy9L",
        "colab_type": "code",
        "colab": {}
      },
      "source": [
        "c3_test = df_from_path(TEST_DATA)"
      ],
      "execution_count": 0,
      "outputs": []
    },
    {
      "cell_type": "code",
      "metadata": {
        "id": "37qSM6UWR-4t",
        "colab_type": "code",
        "colab": {}
      },
      "source": [
        "metrics_from_df(model, c3_test)"
      ],
      "execution_count": 0,
      "outputs": []
    },
    {
      "cell_type": "code",
      "metadata": {
        "id": "iFRp_P9kJ8FD",
        "colab_type": "code",
        "colab": {}
      },
      "source": [
        "nyt_test = df_from_path(NYT_DATA)"
      ],
      "execution_count": 0,
      "outputs": []
    },
    {
      "cell_type": "code",
      "metadata": {
        "id": "uFtjhwNTh6qo",
        "colab_type": "code",
        "colab": {}
      },
      "source": [
        "nyt_test.shape"
      ],
      "execution_count": 0,
      "outputs": []
    },
    {
      "cell_type": "code",
      "metadata": {
        "id": "V3CdED7jewj4",
        "colab_type": "code",
        "colab": {}
      },
      "source": [
        "%%time\n",
        "if RETRAIN_MODEL:\n",
        "  metrics_from_df(model, nyt_test)"
      ],
      "execution_count": 0,
      "outputs": []
    },
    {
      "cell_type": "code",
      "metadata": {
        "id": "fObYEBhWe-zv",
        "colab_type": "code",
        "colab": {}
      },
      "source": [
        "socc_test = df_from_path(SOCC_DATA)"
      ],
      "execution_count": 0,
      "outputs": []
    },
    {
      "cell_type": "code",
      "metadata": {
        "id": "Ppz2-tPSiMit",
        "colab_type": "code",
        "colab": {}
      },
      "source": [
        "socc_test['constructive_binary'] = np.round(socc_test['constructive'])"
      ],
      "execution_count": 0,
      "outputs": []
    },
    {
      "cell_type": "code",
      "metadata": {
        "id": "aqVWeXtKh-3Y",
        "colab_type": "code",
        "colab": {}
      },
      "source": [
        "socc_test.shape"
      ],
      "execution_count": 0,
      "outputs": []
    },
    {
      "cell_type": "code",
      "metadata": {
        "id": "MbyHkvd0iANG",
        "colab_type": "code",
        "colab": {}
      },
      "source": [
        "%%time\n",
        "metrics_from_df(model, socc_test)"
      ],
      "execution_count": 0,
      "outputs": []
    },
    {
      "cell_type": "markdown",
      "metadata": {
        "id": "ms-nXXC8jBhc",
        "colab_type": "text"
      },
      "source": [
        "### Save Predictions for Length Analysis"
      ]
    },
    {
      "cell_type": "code",
      "metadata": {
        "id": "c0TaRkXGjE_u",
        "colab_type": "code",
        "colab": {}
      },
      "source": [
        "predictions, labels = predictions_from_df(model, c3_test, DATA_COLUMN, LABEL_COLUMN)"
      ],
      "execution_count": 0,
      "outputs": []
    },
    {
      "cell_type": "code",
      "metadata": {
        "id": "Xz9VnHG_jcJT",
        "colab_type": "code",
        "colab": {}
      },
      "source": [
        "output_df = c3_test[['comment_text', 'constructive_binary']]"
      ],
      "execution_count": 0,
      "outputs": []
    },
    {
      "cell_type": "code",
      "metadata": {
        "id": "-u4QkUY8kAYo",
        "colab_type": "code",
        "colab": {}
      },
      "source": [
        "output_df['comment_len'] = output_df.comment_text.apply(lambda x: len(x.strip().split()))"
      ],
      "execution_count": 0,
      "outputs": []
    },
    {
      "cell_type": "code",
      "metadata": {
        "id": "3ElzoXCDkOzj",
        "colab_type": "code",
        "colab": {}
      },
      "source": [
        "# Sanity Check\n",
        "assert all(output_df['constructive_binary'] == labels)"
      ],
      "execution_count": 0,
      "outputs": []
    },
    {
      "cell_type": "code",
      "metadata": {
        "id": "-8g0b_Wykf5A",
        "colab_type": "code",
        "colab": {}
      },
      "source": [
        "output_df['prediction proba'] = predictions"
      ],
      "execution_count": 0,
      "outputs": []
    },
    {
      "cell_type": "code",
      "metadata": {
        "id": "L2PlzfqTkrB4",
        "colab_type": "code",
        "colab": {}
      },
      "source": [
        "output_df['prediction'] = np.round(predictions)"
      ],
      "execution_count": 0,
      "outputs": []
    },
    {
      "cell_type": "code",
      "metadata": {
        "id": "A5r-ZagbkvQK",
        "colab_type": "code",
        "colab": {}
      },
      "source": [
        "output_df.to_csv(tf.gfile.Open('gs://sfu-jigsaw/new/bert_scored_c3_test.csv', 'w'), index=False)"
      ],
      "execution_count": 0,
      "outputs": []
    }
  ]
}