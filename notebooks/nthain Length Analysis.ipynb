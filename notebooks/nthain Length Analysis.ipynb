{
 "cells": [
  {
   "cell_type": "code",
   "execution_count": 1,
   "metadata": {},
   "outputs": [
    {
     "name": "stderr",
     "output_type": "stream",
     "text": [
      "/Users/nthain/homebrew/Cellar/python/3.6.5/Frameworks/Python.framework/Versions/3.6/lib/python3.6/importlib/_bootstrap.py:219: RuntimeWarning: numpy.dtype size changed, may indicate binary incompatibility. Expected 96, got 88\n",
      "  return f(*args, **kwds)\n",
      "/Users/nthain/homebrew/Cellar/python/3.6.5/Frameworks/Python.framework/Versions/3.6/lib/python3.6/importlib/_bootstrap.py:219: RuntimeWarning: numpy.dtype size changed, may indicate binary incompatibility. Expected 96, got 88\n",
      "  return f(*args, **kwds)\n"
     ]
    }
   ],
   "source": [
    "import pandas as pd\n",
    "import numpy as np\n",
    "import seaborn as sns\n",
    "import matplotlib.pyplot as plt\n",
    "from sklearn import metrics"
   ]
  },
  {
   "cell_type": "code",
   "execution_count": 2,
   "metadata": {},
   "outputs": [],
   "source": [
    "pd.set_option('max_colwidth', 1000)"
   ]
  },
  {
   "cell_type": "code",
   "execution_count": 3,
   "metadata": {},
   "outputs": [],
   "source": [
    "def plot_hist(df, bins = None):\n",
    "    c_vals = [0,1]\n",
    "    plt.hist([df.loc[df.constructive_binary == x, 'comment_len'] for x in c_vals], bins = bins)\n",
    "    plt.legend(['FP', 'FN'])\n",
    "    plt.show()"
   ]
  },
  {
   "cell_type": "markdown",
   "metadata": {},
   "source": [
    "### Analysis"
   ]
  },
  {
   "cell_type": "code",
   "execution_count": 4,
   "metadata": {},
   "outputs": [],
   "source": [
    "lb_scored = pd.read_csv('data/scored/CNN_LB_predictions.csv')\n",
    "c3_scored = pd.read_csv('data/scored/CNN_C3_test_predictions.csv')"
   ]
  },
  {
   "cell_type": "code",
   "execution_count": 7,
   "metadata": {},
   "outputs": [
    {
     "data": {
      "image/png": "[encoded data removed]",
      "text/plain": [
       "<Figure size 432x288 with 1 Axes>"
      ]
     },
     "metadata": {},
     "output_type": "display_data"
    }
   ],
   "source": [
    "plot_hist(lb_scored, bins=[10, 20, 30, 40, 50, 60, 70, 80, 90, 100, 110, 120, 130])"
   ]
  },
  {
   "cell_type": "code",
   "execution_count": 8,
   "metadata": {},
   "outputs": [
    {
     "data": {
      "image/png": "[encoded data removed]",
      "text/plain": [
       "<Figure size 432x288 with 1 Axes>"
      ]
     },
     "metadata": {},
     "output_type": "display_data"
    }
   ],
   "source": [
    "plot_hist(c3_scored, bins=[10, 20, 30, 40, 50, 60, 70, 80, 90, 100, 110, 120, 130])"
   ]
  },
  {
   "cell_type": "code",
   "execution_count": 9,
   "metadata": {},
   "outputs": [],
   "source": [
    "def roc_f1(df, threshold = 0.5):\n",
    "    roc = metrics.roc_auc_score(df['constructive_binary'], df['prediction proba'])\n",
    "    f1 = metrics.f1_score(df['constructive_binary'], df['prediction proba'] >= threshold)\n",
    "    return roc, f1"
   ]
  },
  {
   "cell_type": "code",
   "execution_count": 10,
   "metadata": {},
   "outputs": [
    {
     "data": {
      "text/plain": [
       "(0.6152735884626261, 0.222680412371134)"
      ]
     },
     "execution_count": 10,
     "metadata": {},
     "output_type": "execute_result"
    }
   ],
   "source": [
    "roc_f1(lb_scored)"
   ]
  },
  {
   "cell_type": "code",
   "execution_count": 11,
   "metadata": {},
   "outputs": [
    {
     "data": {
      "text/plain": [
       "(0.9657999609394414, 0.9204501358168413)"
      ]
     },
     "execution_count": 11,
     "metadata": {},
     "output_type": "execute_result"
    }
   ],
   "source": [
    "roc_f1(c3_scored)"
   ]
  },
  {
   "cell_type": "code",
   "execution_count": 12,
   "metadata": {},
   "outputs": [],
   "source": [
    "all_c3 = pd.read_csv('data/processed/C3_preprocessed.csv')"
   ]
  },
  {
   "cell_type": "code",
   "execution_count": 13,
   "metadata": {},
   "outputs": [],
   "source": [
    "all_c3['comment_len'] = all_c3.comment_text.apply(lambda x: len(x.strip().split()))"
   ]
  },
  {
   "cell_type": "code",
   "execution_count": 14,
   "metadata": {},
   "outputs": [
    {
     "data": {
      "text/html": [
       "<div>\n",
       "<style scoped>\n",
       "    .dataframe tbody tr th:only-of-type {\n",
       "        vertical-align: middle;\n",
       "    }\n",
       "\n",
       "    .dataframe tbody tr th {\n",
       "        vertical-align: top;\n",
       "    }\n",
       "\n",
       "    .dataframe thead th {\n",
       "        text-align: right;\n",
       "    }\n",
       "</style>\n",
       "<table border=\"1\" class=\"dataframe\">\n",
       "  <thead>\n",
       "    <tr style=\"text-align: right;\">\n",
       "      <th></th>\n",
       "      <th>constructive</th>\n",
       "      <th>comment_len</th>\n",
       "    </tr>\n",
       "  </thead>\n",
       "  <tbody>\n",
       "    <tr>\n",
       "      <th>constructive</th>\n",
       "      <td>1.000000</td>\n",
       "      <td>0.648976</td>\n",
       "    </tr>\n",
       "    <tr>\n",
       "      <th>comment_len</th>\n",
       "      <td>0.648976</td>\n",
       "      <td>1.000000</td>\n",
       "    </tr>\n",
       "  </tbody>\n",
       "</table>\n",
       "</div>"
      ],
      "text/plain": [
       "              constructive  comment_len\n",
       "constructive      1.000000     0.648976\n",
       "comment_len       0.648976     1.000000"
      ]
     },
     "execution_count": 14,
     "metadata": {},
     "output_type": "execute_result"
    }
   ],
   "source": [
    "all_c3[['constructive', 'comment_len']].corr()"
   ]
  },
  {
   "cell_type": "markdown",
   "metadata": {},
   "source": [
    "### CNN Analysis"
   ]
  },
  {
   "cell_type": "code",
   "execution_count": 52,
   "metadata": {},
   "outputs": [
    {
     "data": {
      "text/html": [
       "<div>\n",
       "<style scoped>\n",
       "    .dataframe tbody tr th:only-of-type {\n",
       "        vertical-align: middle;\n",
       "    }\n",
       "\n",
       "    .dataframe tbody tr th {\n",
       "        vertical-align: top;\n",
       "    }\n",
       "\n",
       "    .dataframe thead th {\n",
       "        text-align: right;\n",
       "    }\n",
       "</style>\n",
       "<table border=\"1\" class=\"dataframe\">\n",
       "  <thead>\n",
       "    <tr style=\"text-align: right;\">\n",
       "      <th></th>\n",
       "      <th>constructive</th>\n",
       "      <th>prediction proba</th>\n",
       "      <th>comment_len</th>\n",
       "    </tr>\n",
       "  </thead>\n",
       "  <tbody>\n",
       "    <tr>\n",
       "      <th>constructive</th>\n",
       "      <td>1.000000</td>\n",
       "      <td>0.874362</td>\n",
       "      <td>0.661836</td>\n",
       "    </tr>\n",
       "    <tr>\n",
       "      <th>prediction proba</th>\n",
       "      <td>0.874362</td>\n",
       "      <td>1.000000</td>\n",
       "      <td>0.650867</td>\n",
       "    </tr>\n",
       "    <tr>\n",
       "      <th>comment_len</th>\n",
       "      <td>0.661836</td>\n",
       "      <td>0.650867</td>\n",
       "      <td>1.000000</td>\n",
       "    </tr>\n",
       "  </tbody>\n",
       "</table>\n",
       "</div>"
      ],
      "text/plain": [
       "                  constructive  prediction proba  comment_len\n",
       "constructive          1.000000          0.874362     0.661836\n",
       "prediction proba      0.874362          1.000000     0.650867\n",
       "comment_len           0.661836          0.650867     1.000000"
      ]
     },
     "execution_count": 52,
     "metadata": {},
     "output_type": "execute_result"
    }
   ],
   "source": [
    "c3_scored[['constructive', 'prediction proba', 'comment_len']].corr()"
   ]
  },
  {
   "cell_type": "code",
   "execution_count": 17,
   "metadata": {},
   "outputs": [],
   "source": [
    "# Histogram of false positives and false negatives by length\n",
    "c3_errors = c3_scored.query('constructive_binary != prediction')"
   ]
  },
  {
   "cell_type": "code",
   "execution_count": 18,
   "metadata": {},
   "outputs": [
    {
     "data": {
      "text/plain": [
       "(2400, 76)"
      ]
     },
     "execution_count": 18,
     "metadata": {},
     "output_type": "execute_result"
    }
   ],
   "source": [
    "c3_scored.shape"
   ]
  },
  {
   "cell_type": "code",
   "execution_count": 19,
   "metadata": {},
   "outputs": [
    {
     "data": {
      "text/plain": [
       "(205, 76)"
      ]
     },
     "execution_count": 19,
     "metadata": {},
     "output_type": "execute_result"
    }
   ],
   "source": [
    "c3_errors.shape"
   ]
  },
  {
   "cell_type": "code",
   "execution_count": 20,
   "metadata": {},
   "outputs": [
    {
     "data": {
      "text/plain": [
       "<matplotlib.axes._subplots.AxesSubplot at 0x10eb44240>"
      ]
     },
     "execution_count": 20,
     "metadata": {},
     "output_type": "execute_result"
    },
    {
     "data": {
      "image/png": "[encoded data removed]",
      "text/plain": [
       "<Figure size 432x288 with 1 Axes>"
      ]
     },
     "metadata": {},
     "output_type": "display_data"
    }
   ],
   "source": [
    "# Verifying that c3_scored includes ambiguous instances\n",
    "c3_scored.constructive.hist()"
   ]
  },
  {
   "cell_type": "code",
   "execution_count": 21,
   "metadata": {},
   "outputs": [
    {
     "data": {
      "image/png": "[encoded data removed]",
      "text/plain": [
       "<Figure size 432x288 with 1 Axes>"
      ]
     },
     "metadata": {},
     "output_type": "display_data"
    }
   ],
   "source": [
    "# Legend corresponds to true labels\n",
    "# So blue is False Positive (label = 0.0, prediction = 1.0)\n",
    "# Orange is False Negative (label = 1.0, prediction = 0.0)\n",
    "plot_hist(c3_errors, bins = [10, 20, 30, 40, 50, 60, 70, 80, 90, 100, 110, 120, 130])"
   ]
  },
  {
   "cell_type": "code",
   "execution_count": 22,
   "metadata": {},
   "outputs": [
    {
     "data": {
      "text/plain": [
       "48.96694214876033"
      ]
     },
     "execution_count": 22,
     "metadata": {},
     "output_type": "execute_result"
    }
   ],
   "source": [
    "# False Negatives\n",
    "c3_errors.query('prediction == 0').comment_len.mean()"
   ]
  },
  {
   "cell_type": "code",
   "execution_count": 23,
   "metadata": {},
   "outputs": [
    {
     "data": {
      "text/plain": [
       "59.32142857142857"
      ]
     },
     "execution_count": 23,
     "metadata": {},
     "output_type": "execute_result"
    }
   ],
   "source": [
    "# False Positives\n",
    "c3_errors.query('prediction == 1').comment_len.mean()"
   ]
  },
  {
   "cell_type": "code",
   "execution_count": 51,
   "metadata": {},
   "outputs": [
    {
     "data": {
      "text/html": [
       "<div>\n",
       "<style scoped>\n",
       "    .dataframe tbody tr th:only-of-type {\n",
       "        vertical-align: middle;\n",
       "    }\n",
       "\n",
       "    .dataframe tbody tr th {\n",
       "        vertical-align: top;\n",
       "    }\n",
       "\n",
       "    .dataframe thead th {\n",
       "        text-align: right;\n",
       "    }\n",
       "</style>\n",
       "<table border=\"1\" class=\"dataframe\">\n",
       "  <thead>\n",
       "    <tr style=\"text-align: right;\">\n",
       "      <th></th>\n",
       "      <th>constructive</th>\n",
       "      <th>prediction proba</th>\n",
       "      <th>comment_len</th>\n",
       "    </tr>\n",
       "  </thead>\n",
       "  <tbody>\n",
       "    <tr>\n",
       "      <th>constructive</th>\n",
       "      <td>1.000000</td>\n",
       "      <td>-0.742278</td>\n",
       "      <td>-0.067491</td>\n",
       "    </tr>\n",
       "    <tr>\n",
       "      <th>prediction proba</th>\n",
       "      <td>-0.742278</td>\n",
       "      <td>1.000000</td>\n",
       "      <td>0.327476</td>\n",
       "    </tr>\n",
       "    <tr>\n",
       "      <th>comment_len</th>\n",
       "      <td>-0.067491</td>\n",
       "      <td>0.327476</td>\n",
       "      <td>1.000000</td>\n",
       "    </tr>\n",
       "  </tbody>\n",
       "</table>\n",
       "</div>"
      ],
      "text/plain": [
       "                  constructive  prediction proba  comment_len\n",
       "constructive          1.000000         -0.742278    -0.067491\n",
       "prediction proba     -0.742278          1.000000     0.327476\n",
       "comment_len          -0.067491          0.327476     1.000000"
      ]
     },
     "execution_count": 51,
     "metadata": {},
     "output_type": "execute_result"
    }
   ],
   "source": [
    "c3_errors[['constructive', 'prediction proba', 'comment_len']].corr()"
   ]
  },
  {
   "cell_type": "markdown",
   "metadata": {},
   "source": [
    "### Gru Analysis"
   ]
  },
  {
   "cell_type": "code",
   "execution_count": 25,
   "metadata": {},
   "outputs": [],
   "source": [
    "c3_gru = pd.read_csv('data/scored/biLSTM_C3_test_predictions.csv')"
   ]
  },
  {
   "cell_type": "code",
   "execution_count": 26,
   "metadata": {},
   "outputs": [
    {
     "data": {
      "text/html": [
       "<div>\n",
       "<style scoped>\n",
       "    .dataframe tbody tr th:only-of-type {\n",
       "        vertical-align: middle;\n",
       "    }\n",
       "\n",
       "    .dataframe tbody tr th {\n",
       "        vertical-align: top;\n",
       "    }\n",
       "\n",
       "    .dataframe thead th {\n",
       "        text-align: right;\n",
       "    }\n",
       "</style>\n",
       "<table border=\"1\" class=\"dataframe\">\n",
       "  <thead>\n",
       "    <tr style=\"text-align: right;\">\n",
       "      <th></th>\n",
       "      <th>constructive</th>\n",
       "      <th>prediction proba</th>\n",
       "      <th>comment_len</th>\n",
       "    </tr>\n",
       "  </thead>\n",
       "  <tbody>\n",
       "    <tr>\n",
       "      <th>constructive</th>\n",
       "      <td>1.000000</td>\n",
       "      <td>0.914334</td>\n",
       "      <td>0.661836</td>\n",
       "    </tr>\n",
       "    <tr>\n",
       "      <th>prediction proba</th>\n",
       "      <td>0.914334</td>\n",
       "      <td>1.000000</td>\n",
       "      <td>0.703055</td>\n",
       "    </tr>\n",
       "    <tr>\n",
       "      <th>comment_len</th>\n",
       "      <td>0.661836</td>\n",
       "      <td>0.703055</td>\n",
       "      <td>1.000000</td>\n",
       "    </tr>\n",
       "  </tbody>\n",
       "</table>\n",
       "</div>"
      ],
      "text/plain": [
       "                  constructive  prediction proba  comment_len\n",
       "constructive          1.000000          0.914334     0.661836\n",
       "prediction proba      0.914334          1.000000     0.703055\n",
       "comment_len           0.661836          0.703055     1.000000"
      ]
     },
     "execution_count": 26,
     "metadata": {},
     "output_type": "execute_result"
    }
   ],
   "source": [
    "c3_gru[['constructive', 'prediction proba', 'comment_len']].corr()"
   ]
  },
  {
   "cell_type": "code",
   "execution_count": 27,
   "metadata": {},
   "outputs": [],
   "source": [
    "gru_errors = c3_gru.query('constructive_binary != prediction')"
   ]
  },
  {
   "cell_type": "code",
   "execution_count": 28,
   "metadata": {},
   "outputs": [
    {
     "name": "stdout",
     "output_type": "stream",
     "text": [
      "(2400, 76)\n",
      "(174, 76)\n"
     ]
    }
   ],
   "source": [
    "print(c3_gru.shape)\n",
    "print(gru_errors.shape)"
   ]
  },
  {
   "cell_type": "code",
   "execution_count": 29,
   "metadata": {},
   "outputs": [
    {
     "data": {
      "image/png": "[encoded data removed]",
      "text/plain": [
       "<Figure size 432x288 with 1 Axes>"
      ]
     },
     "metadata": {},
     "output_type": "display_data"
    }
   ],
   "source": [
    "# Legend corresponds to true labels\n",
    "# So blue is False Positive (label = 0.0, prediction = 1.0)\n",
    "# Orange is False Negative (label = 1.0, prediction = 0.0)\n",
    "plot_hist(gru_errors, bins = [10, 20, 30, 40, 50, 60, 70, 80, 90, 100, 110, 120, 130])"
   ]
  },
  {
   "cell_type": "code",
   "execution_count": 30,
   "metadata": {
    "scrolled": true
   },
   "outputs": [
    {
     "name": "stdout",
     "output_type": "stream",
     "text": [
      "FN: 45.44\n",
      "FP: 69.3265306122449\n"
     ]
    }
   ],
   "source": [
    "print('FN: %s' % gru_errors.query('prediction == 0').comment_len.mean())\n",
    "print('FP: %s' % gru_errors.query('prediction == 1').comment_len.mean())"
   ]
  },
  {
   "cell_type": "code",
   "execution_count": 31,
   "metadata": {
    "scrolled": true
   },
   "outputs": [
    {
     "data": {
      "text/html": [
       "<div>\n",
       "<style scoped>\n",
       "    .dataframe tbody tr th:only-of-type {\n",
       "        vertical-align: middle;\n",
       "    }\n",
       "\n",
       "    .dataframe tbody tr th {\n",
       "        vertical-align: top;\n",
       "    }\n",
       "\n",
       "    .dataframe thead th {\n",
       "        text-align: right;\n",
       "    }\n",
       "</style>\n",
       "<table border=\"1\" class=\"dataframe\">\n",
       "  <thead>\n",
       "    <tr style=\"text-align: right;\">\n",
       "      <th></th>\n",
       "      <th>constructive</th>\n",
       "      <th>prediction proba</th>\n",
       "      <th>comment_len</th>\n",
       "    </tr>\n",
       "  </thead>\n",
       "  <tbody>\n",
       "    <tr>\n",
       "      <th>constructive</th>\n",
       "      <td>1.000000</td>\n",
       "      <td>-0.609921</td>\n",
       "      <td>-0.413265</td>\n",
       "    </tr>\n",
       "    <tr>\n",
       "      <th>prediction proba</th>\n",
       "      <td>-0.609921</td>\n",
       "      <td>1.000000</td>\n",
       "      <td>0.759133</td>\n",
       "    </tr>\n",
       "    <tr>\n",
       "      <th>comment_len</th>\n",
       "      <td>-0.413265</td>\n",
       "      <td>0.759133</td>\n",
       "      <td>1.000000</td>\n",
       "    </tr>\n",
       "  </tbody>\n",
       "</table>\n",
       "</div>"
      ],
      "text/plain": [
       "                  constructive  prediction proba  comment_len\n",
       "constructive          1.000000         -0.609921    -0.413265\n",
       "prediction proba     -0.609921          1.000000     0.759133\n",
       "comment_len          -0.413265          0.759133     1.000000"
      ]
     },
     "execution_count": 31,
     "metadata": {},
     "output_type": "execute_result"
    }
   ],
   "source": [
    "gru_errors[['constructive', 'prediction proba', 'comment_len']].corr()"
   ]
  },
  {
   "cell_type": "markdown",
   "metadata": {},
   "source": [
    "### Feature Based"
   ]
  },
  {
   "cell_type": "code",
   "execution_count": 32,
   "metadata": {},
   "outputs": [],
   "source": [
    "c3_feature = pd.read_csv('data/scored/feature_based_model_predictions.csv')"
   ]
  },
  {
   "cell_type": "code",
   "execution_count": 33,
   "metadata": {},
   "outputs": [
    {
     "data": {
      "text/plain": [
       "Index(['comment_counter', 'comment_text', 'pp_comment_text',\n",
       "       'constructive_binary', 'predictions', 'prediction_proba',\n",
       "       'comment_len'],\n",
       "      dtype='object')"
      ]
     },
     "execution_count": 33,
     "metadata": {},
     "output_type": "execute_result"
    }
   ],
   "source": [
    "c3_feature.columns"
   ]
  },
  {
   "cell_type": "code",
   "execution_count": 34,
   "metadata": {},
   "outputs": [],
   "source": [
    "c3_feature['prediction_proba_1'] = c3_feature['prediction_proba'].apply(lambda x: float(x.split()[1][:-1]))"
   ]
  },
  {
   "cell_type": "code",
   "execution_count": 35,
   "metadata": {},
   "outputs": [
    {
     "data": {
      "text/html": [
       "<div>\n",
       "<style scoped>\n",
       "    .dataframe tbody tr th:only-of-type {\n",
       "        vertical-align: middle;\n",
       "    }\n",
       "\n",
       "    .dataframe tbody tr th {\n",
       "        vertical-align: top;\n",
       "    }\n",
       "\n",
       "    .dataframe thead th {\n",
       "        text-align: right;\n",
       "    }\n",
       "</style>\n",
       "<table border=\"1\" class=\"dataframe\">\n",
       "  <thead>\n",
       "    <tr style=\"text-align: right;\">\n",
       "      <th></th>\n",
       "      <th>constructive_binary</th>\n",
       "      <th>predictions</th>\n",
       "      <th>prediction_proba_1</th>\n",
       "      <th>comment_len</th>\n",
       "    </tr>\n",
       "  </thead>\n",
       "  <tbody>\n",
       "    <tr>\n",
       "      <th>constructive_binary</th>\n",
       "      <td>1.000000</td>\n",
       "      <td>0.868264</td>\n",
       "      <td>0.895111</td>\n",
       "      <td>0.615793</td>\n",
       "    </tr>\n",
       "    <tr>\n",
       "      <th>predictions</th>\n",
       "      <td>0.868264</td>\n",
       "      <td>1.000000</td>\n",
       "      <td>0.974913</td>\n",
       "      <td>0.636432</td>\n",
       "    </tr>\n",
       "    <tr>\n",
       "      <th>prediction_proba_1</th>\n",
       "      <td>0.895111</td>\n",
       "      <td>0.974913</td>\n",
       "      <td>1.000000</td>\n",
       "      <td>0.684537</td>\n",
       "    </tr>\n",
       "    <tr>\n",
       "      <th>comment_len</th>\n",
       "      <td>0.615793</td>\n",
       "      <td>0.636432</td>\n",
       "      <td>0.684537</td>\n",
       "      <td>1.000000</td>\n",
       "    </tr>\n",
       "  </tbody>\n",
       "</table>\n",
       "</div>"
      ],
      "text/plain": [
       "                     constructive_binary  predictions  prediction_proba_1  \\\n",
       "constructive_binary             1.000000     0.868264            0.895111   \n",
       "predictions                     0.868264     1.000000            0.974913   \n",
       "prediction_proba_1              0.895111     0.974913            1.000000   \n",
       "comment_len                     0.615793     0.636432            0.684537   \n",
       "\n",
       "                     comment_len  \n",
       "constructive_binary     0.615793  \n",
       "predictions             0.636432  \n",
       "prediction_proba_1      0.684537  \n",
       "comment_len             1.000000  "
      ]
     },
     "execution_count": 35,
     "metadata": {},
     "output_type": "execute_result"
    }
   ],
   "source": [
    "c3_feature[['constructive_binary', 'predictions', 'prediction_proba_1', 'comment_len']].corr()"
   ]
  },
  {
   "cell_type": "code",
   "execution_count": 36,
   "metadata": {},
   "outputs": [],
   "source": [
    "feature_errors = c3_feature.query('constructive_binary != predictions')"
   ]
  },
  {
   "cell_type": "code",
   "execution_count": 37,
   "metadata": {},
   "outputs": [
    {
     "name": "stdout",
     "output_type": "stream",
     "text": [
      "(2400, 8)\n",
      "(157, 8)\n"
     ]
    }
   ],
   "source": [
    "print(c3_feature.shape)\n",
    "print(feature_errors.shape)"
   ]
  },
  {
   "cell_type": "code",
   "execution_count": 38,
   "metadata": {},
   "outputs": [
    {
     "data": {
      "image/png": "[encoded data removed]",
      "text/plain": [
       "<Figure size 432x288 with 1 Axes>"
      ]
     },
     "metadata": {},
     "output_type": "display_data"
    }
   ],
   "source": [
    "# Legend corresponds to true labels\n",
    "# So blue is False Positive (label = 0.0, prediction = 1.0)\n",
    "# Orange is False Negative (label = 1.0, prediction = 0.0)\n",
    "plot_hist(feature_errors, bins = [10, 20, 30, 40, 50, 60, 70, 80, 90, 100, 110, 120, 130])"
   ]
  },
  {
   "cell_type": "code",
   "execution_count": 39,
   "metadata": {},
   "outputs": [
    {
     "name": "stdout",
     "output_type": "stream",
     "text": [
      "FN: 41.80952380952381\n",
      "FP: 63.465753424657535\n"
     ]
    }
   ],
   "source": [
    "print('FN: %s' % feature_errors.query('predictions == 0').comment_len.mean())\n",
    "print('FP: %s' % feature_errors.query('predictions == 1').comment_len.mean())"
   ]
  },
  {
   "cell_type": "code",
   "execution_count": 40,
   "metadata": {},
   "outputs": [
    {
     "data": {
      "text/html": [
       "<div>\n",
       "<style scoped>\n",
       "    .dataframe tbody tr th:only-of-type {\n",
       "        vertical-align: middle;\n",
       "    }\n",
       "\n",
       "    .dataframe tbody tr th {\n",
       "        vertical-align: top;\n",
       "    }\n",
       "\n",
       "    .dataframe thead th {\n",
       "        text-align: right;\n",
       "    }\n",
       "</style>\n",
       "<table border=\"1\" class=\"dataframe\">\n",
       "  <thead>\n",
       "    <tr style=\"text-align: right;\">\n",
       "      <th></th>\n",
       "      <th>constructive_binary</th>\n",
       "      <th>predictions</th>\n",
       "      <th>prediction_proba_1</th>\n",
       "      <th>comment_len</th>\n",
       "    </tr>\n",
       "  </thead>\n",
       "  <tbody>\n",
       "    <tr>\n",
       "      <th>constructive_binary</th>\n",
       "      <td>1.000000</td>\n",
       "      <td>-1.000000</td>\n",
       "      <td>-0.863442</td>\n",
       "      <td>-0.560345</td>\n",
       "    </tr>\n",
       "    <tr>\n",
       "      <th>predictions</th>\n",
       "      <td>-1.000000</td>\n",
       "      <td>1.000000</td>\n",
       "      <td>0.863442</td>\n",
       "      <td>0.560345</td>\n",
       "    </tr>\n",
       "    <tr>\n",
       "      <th>prediction_proba_1</th>\n",
       "      <td>-0.863442</td>\n",
       "      <td>0.863442</td>\n",
       "      <td>1.000000</td>\n",
       "      <td>0.750736</td>\n",
       "    </tr>\n",
       "    <tr>\n",
       "      <th>comment_len</th>\n",
       "      <td>-0.560345</td>\n",
       "      <td>0.560345</td>\n",
       "      <td>0.750736</td>\n",
       "      <td>1.000000</td>\n",
       "    </tr>\n",
       "  </tbody>\n",
       "</table>\n",
       "</div>"
      ],
      "text/plain": [
       "                     constructive_binary  predictions  prediction_proba_1  \\\n",
       "constructive_binary             1.000000    -1.000000           -0.863442   \n",
       "predictions                    -1.000000     1.000000            0.863442   \n",
       "prediction_proba_1             -0.863442     0.863442            1.000000   \n",
       "comment_len                    -0.560345     0.560345            0.750736   \n",
       "\n",
       "                     comment_len  \n",
       "constructive_binary    -0.560345  \n",
       "predictions             0.560345  \n",
       "prediction_proba_1      0.750736  \n",
       "comment_len             1.000000  "
      ]
     },
     "execution_count": 40,
     "metadata": {},
     "output_type": "execute_result"
    }
   ],
   "source": [
    "feature_errors[['constructive_binary', 'predictions', 'prediction_proba_1', 'comment_len']].corr()"
   ]
  },
  {
   "cell_type": "markdown",
   "metadata": {},
   "source": [
    "### BERT"
   ]
  },
  {
   "cell_type": "code",
   "execution_count": 41,
   "metadata": {},
   "outputs": [],
   "source": [
    "c3_bert = pd.read_csv('data/scored/bert_scored_c3_test.csv')"
   ]
  },
  {
   "cell_type": "code",
   "execution_count": 42,
   "metadata": {},
   "outputs": [
    {
     "data": {
      "text/html": [
       "<div>\n",
       "<style scoped>\n",
       "    .dataframe tbody tr th:only-of-type {\n",
       "        vertical-align: middle;\n",
       "    }\n",
       "\n",
       "    .dataframe tbody tr th {\n",
       "        vertical-align: top;\n",
       "    }\n",
       "\n",
       "    .dataframe thead th {\n",
       "        text-align: right;\n",
       "    }\n",
       "</style>\n",
       "<table border=\"1\" class=\"dataframe\">\n",
       "  <thead>\n",
       "    <tr style=\"text-align: right;\">\n",
       "      <th></th>\n",
       "      <th>constructive_binary</th>\n",
       "      <th>comment_len</th>\n",
       "      <th>prediction proba</th>\n",
       "      <th>prediction</th>\n",
       "    </tr>\n",
       "  </thead>\n",
       "  <tbody>\n",
       "    <tr>\n",
       "      <th>constructive_binary</th>\n",
       "      <td>1.000000</td>\n",
       "      <td>0.622105</td>\n",
       "      <td>0.879112</td>\n",
       "      <td>0.842165</td>\n",
       "    </tr>\n",
       "    <tr>\n",
       "      <th>comment_len</th>\n",
       "      <td>0.622105</td>\n",
       "      <td>1.000000</td>\n",
       "      <td>0.693989</td>\n",
       "      <td>0.622780</td>\n",
       "    </tr>\n",
       "    <tr>\n",
       "      <th>prediction proba</th>\n",
       "      <td>0.879112</td>\n",
       "      <td>0.693989</td>\n",
       "      <td>1.000000</td>\n",
       "      <td>0.960820</td>\n",
       "    </tr>\n",
       "    <tr>\n",
       "      <th>prediction</th>\n",
       "      <td>0.842165</td>\n",
       "      <td>0.622780</td>\n",
       "      <td>0.960820</td>\n",
       "      <td>1.000000</td>\n",
       "    </tr>\n",
       "  </tbody>\n",
       "</table>\n",
       "</div>"
      ],
      "text/plain": [
       "                     constructive_binary  comment_len  prediction proba  \\\n",
       "constructive_binary             1.000000     0.622105          0.879112   \n",
       "comment_len                     0.622105     1.000000          0.693989   \n",
       "prediction proba                0.879112     0.693989          1.000000   \n",
       "prediction                      0.842165     0.622780          0.960820   \n",
       "\n",
       "                     prediction  \n",
       "constructive_binary    0.842165  \n",
       "comment_len            0.622780  \n",
       "prediction proba       0.960820  \n",
       "prediction             1.000000  "
      ]
     },
     "execution_count": 42,
     "metadata": {},
     "output_type": "execute_result"
    }
   ],
   "source": [
    "c3_bert.corr()"
   ]
  },
  {
   "cell_type": "code",
   "execution_count": 43,
   "metadata": {},
   "outputs": [],
   "source": [
    "bert_errors = c3_bert.query('constructive_binary != prediction')"
   ]
  },
  {
   "cell_type": "code",
   "execution_count": 44,
   "metadata": {},
   "outputs": [
    {
     "name": "stdout",
     "output_type": "stream",
     "text": [
      "(2400, 5)\n",
      "(188, 5)\n"
     ]
    }
   ],
   "source": [
    "print(c3_bert.shape)\n",
    "print(bert_errors.shape)"
   ]
  },
  {
   "cell_type": "code",
   "execution_count": 45,
   "metadata": {},
   "outputs": [
    {
     "data": {
      "image/png": "[encoded data removed]",
      "text/plain": [
       "<Figure size 432x288 with 1 Axes>"
      ]
     },
     "metadata": {},
     "output_type": "display_data"
    }
   ],
   "source": [
    "# Legend corresponds to true labels\n",
    "# So blue is False Positive (label = 0.0, prediction = 1.0)\n",
    "# Orange is False Negative (label = 1.0, prediction = 0.0)\n",
    "plot_hist(bert_errors, bins = [10, 20, 30, 40, 50, 60, 70, 80, 90, 100, 110, 120, 130])"
   ]
  },
  {
   "cell_type": "code",
   "execution_count": 46,
   "metadata": {},
   "outputs": [
    {
     "name": "stdout",
     "output_type": "stream",
     "text": [
      "FN: 36.91549295774648\n",
      "FP: 48.84615384615385\n"
     ]
    }
   ],
   "source": [
    "print('FN: %s' % bert_errors.query('prediction == 0').comment_len.mean())\n",
    "print('FP: %s' % bert_errors.query('prediction == 1').comment_len.mean())"
   ]
  },
  {
   "cell_type": "code",
   "execution_count": 47,
   "metadata": {},
   "outputs": [
    {
     "data": {
      "text/html": [
       "<div>\n",
       "<style scoped>\n",
       "    .dataframe tbody tr th:only-of-type {\n",
       "        vertical-align: middle;\n",
       "    }\n",
       "\n",
       "    .dataframe tbody tr th {\n",
       "        vertical-align: top;\n",
       "    }\n",
       "\n",
       "    .dataframe thead th {\n",
       "        text-align: right;\n",
       "    }\n",
       "</style>\n",
       "<table border=\"1\" class=\"dataframe\">\n",
       "  <thead>\n",
       "    <tr style=\"text-align: right;\">\n",
       "      <th></th>\n",
       "      <th>constructive_binary</th>\n",
       "      <th>comment_len</th>\n",
       "      <th>prediction proba</th>\n",
       "      <th>prediction</th>\n",
       "    </tr>\n",
       "  </thead>\n",
       "  <tbody>\n",
       "    <tr>\n",
       "      <th>constructive_binary</th>\n",
       "      <td>1.000000</td>\n",
       "      <td>-0.363415</td>\n",
       "      <td>-0.832806</td>\n",
       "      <td>-1.000000</td>\n",
       "    </tr>\n",
       "    <tr>\n",
       "      <th>comment_len</th>\n",
       "      <td>-0.363415</td>\n",
       "      <td>1.000000</td>\n",
       "      <td>0.556085</td>\n",
       "      <td>0.363415</td>\n",
       "    </tr>\n",
       "    <tr>\n",
       "      <th>prediction proba</th>\n",
       "      <td>-0.832806</td>\n",
       "      <td>0.556085</td>\n",
       "      <td>1.000000</td>\n",
       "      <td>0.832806</td>\n",
       "    </tr>\n",
       "    <tr>\n",
       "      <th>prediction</th>\n",
       "      <td>-1.000000</td>\n",
       "      <td>0.363415</td>\n",
       "      <td>0.832806</td>\n",
       "      <td>1.000000</td>\n",
       "    </tr>\n",
       "  </tbody>\n",
       "</table>\n",
       "</div>"
      ],
      "text/plain": [
       "                     constructive_binary  comment_len  prediction proba  \\\n",
       "constructive_binary             1.000000    -0.363415         -0.832806   \n",
       "comment_len                    -0.363415     1.000000          0.556085   \n",
       "prediction proba               -0.832806     0.556085          1.000000   \n",
       "prediction                     -1.000000     0.363415          0.832806   \n",
       "\n",
       "                     prediction  \n",
       "constructive_binary   -1.000000  \n",
       "comment_len            0.363415  \n",
       "prediction proba       0.832806  \n",
       "prediction             1.000000  "
      ]
     },
     "execution_count": 47,
     "metadata": {},
     "output_type": "execute_result"
    }
   ],
   "source": [
    "bert_errors.corr()"
   ]
  },
  {
   "cell_type": "markdown",
   "metadata": {},
   "source": [
    "### All Plots"
   ]
  },
  {
   "cell_type": "code",
   "execution_count": 48,
   "metadata": {},
   "outputs": [],
   "source": [
    "all_errors = [feature_errors, gru_errors, c3_errors, bert_errors]\n",
    "plt_titles = ['Feature Based', 'biLSTM', 'CNN', 'BERT']"
   ]
  },
  {
   "cell_type": "code",
   "execution_count": 49,
   "metadata": {},
   "outputs": [],
   "source": [
    "def plot_all_hists(dfs, titles, bins = None):\n",
    "    fig = plt.figure()\n",
    "    c_vals = [0,1]\n",
    "    ax1 = fig.add_subplot(221)\n",
    "    ax2 = fig.add_subplot(222)\n",
    "    ax3 = fig.add_subplot(223)\n",
    "    ax4 = fig.add_subplot(224)\n",
    "    axs = [ax1, ax2, ax3, ax4]\n",
    "    for i,ax in enumerate(axs):\n",
    "        ax.title.set_text(titles[i])\n",
    "        ax.hist([dfs[i].loc[dfs[i].constructive_binary == x, 'comment_len'] for x in c_vals], bins = bins)\n",
    "    ax2.legend(['FP', 'FN'])\n",
    "    fig.tight_layout()\n",
    "    plt.show()"
   ]
  },
  {
   "cell_type": "code",
   "execution_count": 50,
   "metadata": {},
   "outputs": [
    {
     "data": {
      "image/png": "[encoded data removed]",
      "text/plain": [
       "<Figure size 432x288 with 4 Axes>"
      ]
     },
     "metadata": {},
     "output_type": "display_data"
    }
   ],
   "source": [
    "plot_all_hists(all_errors, plt_titles, bins = [10, 20, 30, 40, 50, 60, 70, 80, 90, 100])"
   ]
  },
  {
   "cell_type": "code",
   "execution_count": null,
   "metadata": {},
   "outputs": [],
   "source": []
  },
  {
   "cell_type": "code",
   "execution_count": null,
   "metadata": {},
   "outputs": [],
   "source": []
  }
 ],
 "metadata": {
  "kernelspec": {
   "display_name": "sfu_scripts",
   "language": "python",
   "name": "sfu_scripts"
  },
  "language_info": {
   "codemirror_mode": {
    "name": "ipython",
    "version": 3
   },
   "file_extension": ".py",
   "mimetype": "text/x-python",
   "name": "python",
   "nbconvert_exporter": "python",
   "pygments_lexer": "ipython3",
   "version": "3.6.5"
  }
 },
 "nbformat": 4,
 "nbformat_minor": 2
}
