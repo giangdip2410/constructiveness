{
 "cells": [
  {
   "cell_type": "code",
   "execution_count": 22,
   "metadata": {},
   "outputs": [],
   "source": [
    "import pandas as pd\n",
    "import numpy as np\n",
    "import os, sys \n",
    "sys.path.append(os.environ['HOME'] + '/src/models/')\n",
    "from deeplearning_models import DLTextClassifier\n",
    "from feature_based_models import FBConstructivenessClassifier\n",
    "from sklearn.model_selection import train_test_split"
   ]
  },
  {
   "cell_type": "code",
   "execution_count": 23,
   "metadata": {},
   "outputs": [],
   "source": [
    "import matplotlib.pyplot as plt\n",
    "%matplotlib inline\n",
    "\n",
    "# classifiers / models\n",
    "from sklearn.dummy import DummyClassifier\n",
    "from sklearn.linear_model import LinearRegression, LogisticRegression, SGDClassifier\n",
    "from sklearn.model_selection import ShuffleSplit\n",
    "from sklearn.svm import SVC, SVR\n",
    "from sklearn.naive_bayes import MultinomialNB\n",
    "from sklearn.ensemble import RandomForestClassifier\n",
    "from sklearn.neural_network import MLPClassifier\n",
    "from sklearn.preprocessing import StandardScaler\n",
    "\n",
    "# other\n",
    "from sklearn.preprocessing import normalize\n",
    "from sklearn.metrics import log_loss, accuracy_score\n",
    "from sklearn.model_selection import train_test_split, GridSearchCV, RandomizedSearchCV, cross_val_score\n",
    "import nltk\n",
    "import time\n",
    "\n",
    "import xgboost as xgb\n",
    "from sklearn.metrics import f1_score, classification_report"
   ]
  },
  {
   "cell_type": "markdown",
   "metadata": {},
   "source": [
    "### Train on C3 train and test on C3 test"
   ]
  },
  {
   "cell_type": "code",
   "execution_count": 24,
   "metadata": {},
   "outputs": [],
   "source": [
    "C3_train_df = pd.read_csv(os.environ['C3_TRAIN'])\n",
    "C3_train_df['pp_comment_text'] = C3_train_df['pp_comment_text'].astype(str)\n",
    "\n",
    "C3_test_df = pd.read_csv(os.environ['C3_TEST'])\n",
    "C3_test_df['pp_comment_text'] = C3_test_df['pp_comment_text'].astype(str)"
   ]
  },
  {
   "cell_type": "code",
   "execution_count": 25,
   "metadata": {},
   "outputs": [],
   "source": [
    "y_C3_train = C3_train_df.constructive_binary     \n",
    "X_C3_train = C3_train_df.drop(['constructive_binary'], axis = 1)\n",
    "\n",
    "y_C3_test = C3_test_df.constructive_binary     \n",
    "X_C3_test = C3_test_df.drop(['constructive_binary'], axis = 1)"
   ]
  },
  {
   "cell_type": "code",
   "execution_count": 26,
   "metadata": {},
   "outputs": [],
   "source": [
    "classifier = FBConstructivenessClassifier(X_C3_train, y_C3_train, X_C3_test, y_C3_test)"
   ]
  },
  {
   "cell_type": "code",
   "execution_count": 6,
   "metadata": {},
   "outputs": [
    {
     "name": "stdout",
     "output_type": "stream",
     "text": [
      "SVM :\n",
      "Classifier:  SGDClassifier(alpha=0.0001, average=False, class_weight=None, epsilon=0.1,\n",
      "       eta0=0.0, fit_intercept=True, l1_ratio=0.15,\n",
      "       learning_rate='optimal', loss='hinge', max_iter=None, n_iter=None,\n",
      "       n_jobs=1, penalty='l2', power_t=0.5, random_state=None,\n",
      "       shuffle=True, tol=None, verbose=0, warm_start=False)\n",
      "Feature set:  ['ngram_feats', 'tfidf_feats', 'length_feats', 'argumentation_feats', 'text_quality_feats', 'named_entity_feats', 'perspective_content_value_feats', 'perspective_aggressiveness_feats', 'perspecitive_toxicity_feats']\n",
      "COMMENTS COL:  pp_comment_text\n"
     ]
    },
    {
     "name": "stderr",
     "output_type": "stream",
     "text": [
      "/home/vkolhatk/anaconda3/envs/py35/lib/python3.5/site-packages/sklearn/linear_model/stochastic_gradient.py:128: FutureWarning: max_iter and tol parameters have been added in <class 'sklearn.linear_model.stochastic_gradient.SGDClassifier'> in 0.19. If both are left unset, they default to max_iter=5 and tol=None. If tol is not None, max_iter defaults to max_iter=1000. From 0.21, default max_iter will be 1000, and default tol will be 1e-3.\n",
      "  \"and default tol will be 1e-3.\" % type(self), FutureWarning)\n"
     ]
    },
    {
     "name": "stdout",
     "output_type": "stream",
     "text": [
      "Model trained and pickled in file:  /home/vkolhatk/dev/constructiveness/models/saved_model.h5\n",
      "Training accuracy:   1.00\n",
      "Validation accuracy: 0.92\n",
      "TRAIN CLASSIFICATION REPORT\n",
      "\n",
      "              precision    recall  f1-score   support\n",
      "\n",
      "        0.0       0.99      1.00      1.00      4391\n",
      "        1.0       1.00      1.00      1.00      5209\n",
      "\n",
      "avg / total       1.00      1.00      1.00      9600\n",
      "\n",
      "VALIDATION CLASSIFICATION REPORT\n",
      "\n",
      "              precision    recall  f1-score   support\n",
      "\n",
      "        0.0       0.89      0.92      0.91      1093\n",
      "        1.0       0.94      0.91      0.92      1307\n",
      "\n",
      "avg / total       0.92      0.92      0.92      2400\n",
      "\n",
      "sklearn micro-F1-Score: 0.91625\n",
      "Elapsed time: 42.2 s\n",
      "\n",
      "xgboost :\n",
      "Classifier:  XGBClassifier(base_score=0.5, booster='gbtree', colsample_bylevel=1,\n",
      "       colsample_bytree=1, gamma=0, learning_rate=0.1, max_delta_step=0,\n",
      "       max_depth=3, min_child_weight=1, missing=None, n_estimators=100,\n",
      "       n_jobs=1, nthread=None, objective='binary:logistic', random_state=0,\n",
      "       reg_alpha=0, reg_lambda=1, scale_pos_weight=1, seed=None,\n",
      "       silent=True, subsample=1)\n",
      "Feature set:  ['ngram_feats', 'tfidf_feats', 'length_feats', 'argumentation_feats', 'text_quality_feats', 'named_entity_feats', 'perspective_content_value_feats', 'perspective_aggressiveness_feats', 'perspecitive_toxicity_feats']\n",
      "COMMENTS COL:  pp_comment_text\n",
      "Model trained and pickled in file:  /home/vkolhatk/dev/constructiveness/models/saved_model.h5\n"
     ]
    },
    {
     "name": "stderr",
     "output_type": "stream",
     "text": [
      "/home/vkolhatk/anaconda3/envs/py35/lib/python3.5/site-packages/sklearn/preprocessing/label.py:151: DeprecationWarning: The truth value of an empty array is ambiguous. Returning False, but in future this will result in an error. Use `array.size > 0` to check that an array is not empty.\n",
      "  if diff:\n"
     ]
    },
    {
     "name": "stdout",
     "output_type": "stream",
     "text": [
      "Training accuracy:   0.95\n"
     ]
    },
    {
     "name": "stderr",
     "output_type": "stream",
     "text": [
      "/home/vkolhatk/anaconda3/envs/py35/lib/python3.5/site-packages/sklearn/preprocessing/label.py:151: DeprecationWarning: The truth value of an empty array is ambiguous. Returning False, but in future this will result in an error. Use `array.size > 0` to check that an array is not empty.\n",
      "  if diff:\n"
     ]
    },
    {
     "name": "stdout",
     "output_type": "stream",
     "text": [
      "Validation accuracy: 0.94\n"
     ]
    },
    {
     "name": "stderr",
     "output_type": "stream",
     "text": [
      "/home/vkolhatk/anaconda3/envs/py35/lib/python3.5/site-packages/sklearn/preprocessing/label.py:151: DeprecationWarning: The truth value of an empty array is ambiguous. Returning False, but in future this will result in an error. Use `array.size > 0` to check that an array is not empty.\n",
      "  if diff:\n"
     ]
    },
    {
     "name": "stdout",
     "output_type": "stream",
     "text": [
      "TRAIN CLASSIFICATION REPORT\n",
      "\n",
      "              precision    recall  f1-score   support\n",
      "\n",
      "        0.0       0.94      0.95      0.95      4391\n",
      "        1.0       0.96      0.95      0.96      5209\n",
      "\n",
      "avg / total       0.95      0.95      0.95      9600\n",
      "\n"
     ]
    },
    {
     "name": "stderr",
     "output_type": "stream",
     "text": [
      "/home/vkolhatk/anaconda3/envs/py35/lib/python3.5/site-packages/sklearn/preprocessing/label.py:151: DeprecationWarning: The truth value of an empty array is ambiguous. Returning False, but in future this will result in an error. Use `array.size > 0` to check that an array is not empty.\n",
      "  if diff:\n"
     ]
    },
    {
     "name": "stdout",
     "output_type": "stream",
     "text": [
      "VALIDATION CLASSIFICATION REPORT\n",
      "\n",
      "              precision    recall  f1-score   support\n",
      "\n",
      "        0.0       0.92      0.94      0.93      1093\n",
      "        1.0       0.95      0.93      0.94      1307\n",
      "\n",
      "avg / total       0.94      0.94      0.94      2400\n",
      "\n",
      "sklearn micro-F1-Score: 0.9375\n",
      "Elapsed time: 102.8 s\n",
      "\n",
      "logistic regression :\n",
      "Classifier:  LogisticRegression(C=1.0, class_weight=None, dual=False, fit_intercept=True,\n",
      "          intercept_scaling=1, max_iter=100, multi_class='ovr', n_jobs=1,\n",
      "          penalty='l2', random_state=None, solver='liblinear', tol=0.0001,\n",
      "          verbose=0, warm_start=False)\n",
      "Feature set:  ['ngram_feats', 'tfidf_feats', 'length_feats', 'argumentation_feats', 'text_quality_feats', 'named_entity_feats', 'perspective_content_value_feats', 'perspective_aggressiveness_feats', 'perspecitive_toxicity_feats']\n",
      "COMMENTS COL:  pp_comment_text\n",
      "Model trained and pickled in file:  /home/vkolhatk/dev/constructiveness/models/saved_model.h5\n",
      "Training accuracy:   1.00\n",
      "Validation accuracy: 0.93\n",
      "TRAIN CLASSIFICATION REPORT\n",
      "\n",
      "              precision    recall  f1-score   support\n",
      "\n",
      "        0.0       1.00      1.00      1.00      4391\n",
      "        1.0       1.00      1.00      1.00      5209\n",
      "\n",
      "avg / total       1.00      1.00      1.00      9600\n",
      "\n",
      "VALIDATION CLASSIFICATION REPORT\n",
      "\n",
      "              precision    recall  f1-score   support\n",
      "\n",
      "        0.0       0.91      0.93      0.92      1093\n",
      "        1.0       0.94      0.92      0.93      1307\n",
      "\n",
      "avg / total       0.93      0.93      0.93      2400\n",
      "\n",
      "sklearn micro-F1-Score: 0.9266666666666666\n",
      "Elapsed time: 46.9 s\n",
      "\n",
      "random forest :\n",
      "Classifier:  RandomForestClassifier(bootstrap=True, class_weight=None, criterion='gini',\n",
      "            max_depth=None, max_features='auto', max_leaf_nodes=None,\n",
      "            min_impurity_decrease=0.0, min_impurity_split=None,\n",
      "            min_samples_leaf=1, min_samples_split=2,\n",
      "            min_weight_fraction_leaf=0.0, n_estimators=10, n_jobs=1,\n",
      "            oob_score=False, random_state=None, verbose=0,\n",
      "            warm_start=False)\n",
      "Feature set:  ['ngram_feats', 'tfidf_feats', 'length_feats', 'argumentation_feats', 'text_quality_feats', 'named_entity_feats', 'perspective_content_value_feats', 'perspective_aggressiveness_feats', 'perspecitive_toxicity_feats']\n",
      "COMMENTS COL:  pp_comment_text\n",
      "Model trained and pickled in file:  /home/vkolhatk/dev/constructiveness/models/saved_model.h5\n",
      "Training accuracy:   0.99\n",
      "Validation accuracy: 0.80\n",
      "TRAIN CLASSIFICATION REPORT\n",
      "\n",
      "              precision    recall  f1-score   support\n",
      "\n",
      "        0.0       0.99      1.00      0.99      4391\n",
      "        1.0       1.00      0.99      0.99      5209\n",
      "\n",
      "avg / total       0.99      0.99      0.99      9600\n",
      "\n",
      "VALIDATION CLASSIFICATION REPORT\n",
      "\n",
      "              precision    recall  f1-score   support\n",
      "\n",
      "        0.0       0.70      0.96      0.81      1093\n",
      "        1.0       0.95      0.66      0.78      1307\n",
      "\n",
      "avg / total       0.84      0.80      0.79      2400\n",
      "\n",
      "sklearn micro-F1-Score: 0.79625\n",
      "Elapsed time: 52.4 s\n",
      "\n"
     ]
    }
   ],
   "source": [
    "models = {'logistic regression': LogisticRegression, \n",
    "          'SVM' : SGDClassifier, \n",
    "          'random forest' : RandomForestClassifier, \n",
    "          'xgboost' : xgb.XGBClassifier\n",
    "         }\n",
    "\n",
    "for model_name, model_class in models.items():\n",
    "    t = time.time()\n",
    "    print(model_name, \":\")\n",
    "    m = model_class()\n",
    "    pipeline = classifier.train_pipeline(classifier = model_class())    \n",
    "    classifier.show_scores(pipeline)\n",
    "    elapsed_time = time.time() - t\n",
    "    print(\"Elapsed time: %.1f s\" % elapsed_time)\n",
    "    print()"
   ]
  },
  {
   "cell_type": "code",
   "execution_count": 7,
   "metadata": {},
   "outputs": [
    {
     "name": "stdout",
     "output_type": "stream",
     "text": [
      "Classifier:  XGBClassifier(base_score=0.5, booster='gbtree', colsample_bylevel=1,\n",
      "       colsample_bytree=1, gamma=0, learning_rate=0.1, max_delta_step=0,\n",
      "       max_depth=3, min_child_weight=1, missing=None, n_estimators=100,\n",
      "       n_jobs=1, nthread=None, objective='binary:logistic', random_state=0,\n",
      "       reg_alpha=0, reg_lambda=1, scale_pos_weight=1, seed=None,\n",
      "       silent=True, subsample=1)\n",
      "Feature set:  ['ngram_feats', 'tfidf_feats', 'length_feats', 'argumentation_feats', 'text_quality_feats', 'named_entity_feats', 'perspective_content_value_feats', 'perspective_aggressiveness_feats', 'perspecitive_toxicity_feats']\n",
      "COMMENTS COL:  pp_comment_text\n",
      "Model trained and pickled in file:  /home/vkolhatk/dev/constructiveness/models/saved_model.h5\n"
     ]
    },
    {
     "name": "stderr",
     "output_type": "stream",
     "text": [
      "/home/vkolhatk/anaconda3/envs/py35/lib/python3.5/site-packages/sklearn/preprocessing/label.py:151: DeprecationWarning: The truth value of an empty array is ambiguous. Returning False, but in future this will result in an error. Use `array.size > 0` to check that an array is not empty.\n",
      "  if diff:\n"
     ]
    },
    {
     "name": "stdout",
     "output_type": "stream",
     "text": [
      "Training accuracy:   0.95\n"
     ]
    },
    {
     "name": "stderr",
     "output_type": "stream",
     "text": [
      "/home/vkolhatk/anaconda3/envs/py35/lib/python3.5/site-packages/sklearn/preprocessing/label.py:151: DeprecationWarning: The truth value of an empty array is ambiguous. Returning False, but in future this will result in an error. Use `array.size > 0` to check that an array is not empty.\n",
      "  if diff:\n"
     ]
    },
    {
     "name": "stdout",
     "output_type": "stream",
     "text": [
      "Validation accuracy: 0.94\n"
     ]
    },
    {
     "name": "stderr",
     "output_type": "stream",
     "text": [
      "/home/vkolhatk/anaconda3/envs/py35/lib/python3.5/site-packages/sklearn/preprocessing/label.py:151: DeprecationWarning: The truth value of an empty array is ambiguous. Returning False, but in future this will result in an error. Use `array.size > 0` to check that an array is not empty.\n",
      "  if diff:\n"
     ]
    },
    {
     "name": "stdout",
     "output_type": "stream",
     "text": [
      "TRAIN CLASSIFICATION REPORT\n",
      "\n",
      "              precision    recall  f1-score   support\n",
      "\n",
      "        0.0       0.94      0.95      0.95      4391\n",
      "        1.0       0.96      0.95      0.96      5209\n",
      "\n",
      "avg / total       0.95      0.95      0.95      9600\n",
      "\n"
     ]
    },
    {
     "name": "stderr",
     "output_type": "stream",
     "text": [
      "/home/vkolhatk/anaconda3/envs/py35/lib/python3.5/site-packages/sklearn/preprocessing/label.py:151: DeprecationWarning: The truth value of an empty array is ambiguous. Returning False, but in future this will result in an error. Use `array.size > 0` to check that an array is not empty.\n",
      "  if diff:\n"
     ]
    },
    {
     "name": "stdout",
     "output_type": "stream",
     "text": [
      "VALIDATION CLASSIFICATION REPORT\n",
      "\n",
      "              precision    recall  f1-score   support\n",
      "\n",
      "        0.0       0.92      0.94      0.93      1093\n",
      "        1.0       0.95      0.93      0.94      1307\n",
      "\n",
      "avg / total       0.94      0.94      0.94      2400\n",
      "\n",
      "sklearn micro-F1-Score: 0.9375\n"
     ]
    },
    {
     "name": "stderr",
     "output_type": "stream",
     "text": [
      "/home/vkolhatk/anaconda3/envs/py35/lib/python3.5/site-packages/sklearn/preprocessing/label.py:151: DeprecationWarning: The truth value of an empty array is ambiguous. Returning False, but in future this will result in an error. Use `array.size > 0` to check that an array is not empty.\n",
      "  if diff:\n"
     ]
    },
    {
     "name": "stdout",
     "output_type": "stream",
     "text": [
      "Predictions file written:  /home/vkolhatk/dev/constructiveness/models/feature_based_model_predictions.csv\n"
     ]
    }
   ],
   "source": [
    "pipeline = classifier.train_pipeline(classifier = xgb.XGBClassifier())    \n",
    "classifier.show_scores(pipeline)\n",
    "classifier.write_model_scores_df(pipeline, results_csv_path = os.environ['HOME'] + 'models/feature_based_model_predictions.csv')"
   ]
  },
  {
   "cell_type": "code",
   "execution_count": 13,
   "metadata": {},
   "outputs": [],
   "source": [
    "def run_experiments_on_feature_sets(fb_classifier,\n",
    "                                    classifier = xgb.XGBClassifier(),\n",
    "                                    feature_sets = [['ngram_feats'], \n",
    "                                                    ['tfidf_feats'], \n",
    "                                                    ['length_feats'], \n",
    "                                                    ['argumentation_feats'], \n",
    "                                                    ['text_quality_feats'], \n",
    "                                                    ['named_entity_feats'], \n",
    "                                                    ['perspective_content_value_feats'], \n",
    "                                                    ['perspective_aggressiveness_feats'], \n",
    "                                                    ['perspecitive_toxicity_feats']]):\n",
    "    \n",
    "    all_feats = []\n",
    "    for feature_set in feature_sets: \n",
    "        print('\\n\\nFeature set:', feature_set)\n",
    "        all_feats.extend(feature_set)\n",
    "        pipeline = fb_classifier.train_pipeline(classifier = classifier, \n",
    "                                             feature_set = feature_set)    \n",
    "        fb_classifier.show_scores(pipeline)\n",
    "\n",
    "    print('\\n\\nResults with all features: ', all_feats)    \n",
    "    pipeline = fb_classifier.train_pipeline(classifier = classifier, \n",
    "                                         feature_set = all_feats)    \n",
    "    fb_classifier.show_scores(pipeline)\n",
    "\n",
    "        "
   ]
  },
  {
   "cell_type": "markdown",
   "metadata": {},
   "source": [
    "### Train on C3 train and test on NYT"
   ]
  },
  {
   "cell_type": "code",
   "execution_count": 27,
   "metadata": {},
   "outputs": [],
   "source": [
    "C3_train_df = pd.read_csv(os.environ['C3_TRAIN'])\n",
    "C3_train_df['pp_comment_text'] = C3_train_df['pp_comment_text'].astype(str)\n",
    "\n",
    "#NYT_df = pd.read_csv(os.environ['NYT_YNACC'])\n",
    "NYT_df = pd.read_csv(os.environ['HOME'] + 'data/processed/NYT_YNACC_feats_preprocessed.csv')\n",
    "NYT_df['pp_comment_text'] = NYT_df['pp_comment_text'].astype(str)\n",
    "\n",
    "C3_test_df = pd.read_csv(os.environ['C3_TEST'])\n",
    "C3_test_df['pp_comment_text'] = C3_test_df['pp_comment_text'].astype(str)"
   ]
  },
  {
   "cell_type": "code",
   "execution_count": 28,
   "metadata": {},
   "outputs": [],
   "source": [
    "y_C3_train = C3_train_df.constructive_binary     \n",
    "X_C3_train = C3_train_df.drop(['constructive_binary'], axis = 1)\n",
    "\n",
    "y_NYT = NYT_df.constructive_binary\n",
    "X_NYT = NYT_df.drop(['constructive_binary'], axis = 1)\n",
    "\n",
    "y_C3_test = C3_test_df.constructive_binary     \n",
    "X_C3_test = C3_test_df.drop(['constructive_binary'], axis = 1)"
   ]
  },
  {
   "cell_type": "code",
   "execution_count": 29,
   "metadata": {},
   "outputs": [],
   "source": [
    "fb_classifier = FBConstructivenessClassifier(X_C3_train, y_C3_train, X_NYT, y_NYT)"
   ]
  },
  {
   "cell_type": "code",
   "execution_count": 17,
   "metadata": {},
   "outputs": [
    {
     "name": "stdout",
     "output_type": "stream",
     "text": [
      "\n",
      "\n",
      "Feature set: ['ngram_feats']\n",
      "Classifier:  XGBClassifier(base_score=0.5, booster='gbtree', colsample_bylevel=1,\n",
      "       colsample_bytree=1, gamma=0, learning_rate=0.1, max_delta_step=0,\n",
      "       max_depth=3, min_child_weight=1, missing=None, n_estimators=100,\n",
      "       n_jobs=1, nthread=None, objective='binary:logistic', random_state=0,\n",
      "       reg_alpha=0, reg_lambda=1, scale_pos_weight=1, seed=None,\n",
      "       silent=True, subsample=1)\n",
      "Feature set:  ['ngram_feats']\n",
      "COMMENTS COL:  pp_comment_text\n",
      "Model trained and pickled in file:  /home/vkolhatk/dev/constructiveness/models/saved_model.h5\n"
     ]
    },
    {
     "name": "stderr",
     "output_type": "stream",
     "text": [
      "/home/vkolhatk/anaconda3/envs/py35/lib/python3.5/site-packages/sklearn/preprocessing/label.py:151: DeprecationWarning: The truth value of an empty array is ambiguous. Returning False, but in future this will result in an error. Use `array.size > 0` to check that an array is not empty.\n",
      "  if diff:\n"
     ]
    },
    {
     "name": "stdout",
     "output_type": "stream",
     "text": [
      "Training accuracy:   0.83\n"
     ]
    },
    {
     "name": "stderr",
     "output_type": "stream",
     "text": [
      "/home/vkolhatk/anaconda3/envs/py35/lib/python3.5/site-packages/sklearn/preprocessing/label.py:151: DeprecationWarning: The truth value of an empty array is ambiguous. Returning False, but in future this will result in an error. Use `array.size > 0` to check that an array is not empty.\n",
      "  if diff:\n"
     ]
    },
    {
     "name": "stdout",
     "output_type": "stream",
     "text": [
      "Validation accuracy: 0.75\n"
     ]
    },
    {
     "name": "stderr",
     "output_type": "stream",
     "text": [
      "/home/vkolhatk/anaconda3/envs/py35/lib/python3.5/site-packages/sklearn/preprocessing/label.py:151: DeprecationWarning: The truth value of an empty array is ambiguous. Returning False, but in future this will result in an error. Use `array.size > 0` to check that an array is not empty.\n",
      "  if diff:\n"
     ]
    },
    {
     "name": "stdout",
     "output_type": "stream",
     "text": [
      "TRAIN CLASSIFICATION REPORT\n",
      "\n",
      "              precision    recall  f1-score   support\n",
      "\n",
      "        0.0       0.79      0.87      0.83      4391\n",
      "        1.0       0.88      0.81      0.84      5209\n",
      "\n",
      "avg / total       0.84      0.83      0.84      9600\n",
      "\n"
     ]
    },
    {
     "name": "stderr",
     "output_type": "stream",
     "text": [
      "/home/vkolhatk/anaconda3/envs/py35/lib/python3.5/site-packages/sklearn/preprocessing/label.py:151: DeprecationWarning: The truth value of an empty array is ambiguous. Returning False, but in future this will result in an error. Use `array.size > 0` to check that an array is not empty.\n",
      "  if diff:\n"
     ]
    },
    {
     "name": "stdout",
     "output_type": "stream",
     "text": [
      "VALIDATION CLASSIFICATION REPORT\n",
      "\n",
      "              precision    recall  f1-score   support\n",
      "\n",
      "        0.0       0.76      0.74      0.75     15178\n",
      "        1.0       0.75      0.77      0.76     15147\n",
      "\n",
      "avg / total       0.76      0.75      0.75     30325\n",
      "\n",
      "sklearn micro-F1-Score: 0.7547568013190435\n",
      "\n",
      "\n",
      "Feature set: ['tfidf_feats']\n",
      "Classifier:  XGBClassifier(base_score=0.5, booster='gbtree', colsample_bylevel=1,\n",
      "       colsample_bytree=1, gamma=0, learning_rate=0.1, max_delta_step=0,\n",
      "       max_depth=3, min_child_weight=1, missing=None, n_estimators=100,\n",
      "       n_jobs=1, nthread=None, objective='binary:logistic', random_state=0,\n",
      "       reg_alpha=0, reg_lambda=1, scale_pos_weight=1, seed=None,\n",
      "       silent=True, subsample=1)\n",
      "Feature set:  ['tfidf_feats']\n",
      "COMMENTS COL:  pp_comment_text\n",
      "Model trained and pickled in file:  /home/vkolhatk/dev/constructiveness/models/saved_model.h5\n"
     ]
    },
    {
     "name": "stderr",
     "output_type": "stream",
     "text": [
      "/home/vkolhatk/anaconda3/envs/py35/lib/python3.5/site-packages/sklearn/preprocessing/label.py:151: DeprecationWarning: The truth value of an empty array is ambiguous. Returning False, but in future this will result in an error. Use `array.size > 0` to check that an array is not empty.\n",
      "  if diff:\n"
     ]
    },
    {
     "name": "stdout",
     "output_type": "stream",
     "text": [
      "Training accuracy:   0.90\n"
     ]
    },
    {
     "name": "stderr",
     "output_type": "stream",
     "text": [
      "/home/vkolhatk/anaconda3/envs/py35/lib/python3.5/site-packages/sklearn/preprocessing/label.py:151: DeprecationWarning: The truth value of an empty array is ambiguous. Returning False, but in future this will result in an error. Use `array.size > 0` to check that an array is not empty.\n",
      "  if diff:\n"
     ]
    },
    {
     "name": "stdout",
     "output_type": "stream",
     "text": [
      "Validation accuracy: 0.67\n"
     ]
    },
    {
     "name": "stderr",
     "output_type": "stream",
     "text": [
      "/home/vkolhatk/anaconda3/envs/py35/lib/python3.5/site-packages/sklearn/preprocessing/label.py:151: DeprecationWarning: The truth value of an empty array is ambiguous. Returning False, but in future this will result in an error. Use `array.size > 0` to check that an array is not empty.\n",
      "  if diff:\n"
     ]
    },
    {
     "name": "stdout",
     "output_type": "stream",
     "text": [
      "TRAIN CLASSIFICATION REPORT\n",
      "\n",
      "              precision    recall  f1-score   support\n",
      "\n",
      "        0.0       0.83      0.97      0.89      4391\n",
      "        1.0       0.97      0.83      0.90      5209\n",
      "\n",
      "avg / total       0.91      0.90      0.90      9600\n",
      "\n"
     ]
    },
    {
     "name": "stderr",
     "output_type": "stream",
     "text": [
      "/home/vkolhatk/anaconda3/envs/py35/lib/python3.5/site-packages/sklearn/preprocessing/label.py:151: DeprecationWarning: The truth value of an empty array is ambiguous. Returning False, but in future this will result in an error. Use `array.size > 0` to check that an array is not empty.\n",
      "  if diff:\n"
     ]
    },
    {
     "name": "stdout",
     "output_type": "stream",
     "text": [
      "VALIDATION CLASSIFICATION REPORT\n",
      "\n",
      "              precision    recall  f1-score   support\n",
      "\n",
      "        0.0       0.61      0.96      0.75     15178\n",
      "        1.0       0.91      0.38      0.54     15147\n",
      "\n",
      "avg / total       0.76      0.67      0.64     30325\n",
      "\n",
      "sklearn micro-F1-Score: 0.6713932399010717\n",
      "\n",
      "\n",
      "Feature set: ['length_feats']\n",
      "Classifier:  XGBClassifier(base_score=0.5, booster='gbtree', colsample_bylevel=1,\n",
      "       colsample_bytree=1, gamma=0, learning_rate=0.1, max_delta_step=0,\n",
      "       max_depth=3, min_child_weight=1, missing=None, n_estimators=100,\n",
      "       n_jobs=1, nthread=None, objective='binary:logistic', random_state=0,\n",
      "       reg_alpha=0, reg_lambda=1, scale_pos_weight=1, seed=None,\n",
      "       silent=True, subsample=1)\n",
      "Feature set:  ['length_feats']\n",
      "COMMENTS COL:  pp_comment_text\n",
      "Model trained and pickled in file:  /home/vkolhatk/dev/constructiveness/models/saved_model.h5\n"
     ]
    },
    {
     "name": "stderr",
     "output_type": "stream",
     "text": [
      "/home/vkolhatk/anaconda3/envs/py35/lib/python3.5/site-packages/sklearn/preprocessing/label.py:151: DeprecationWarning: The truth value of an empty array is ambiguous. Returning False, but in future this will result in an error. Use `array.size > 0` to check that an array is not empty.\n",
      "  if diff:\n",
      "/home/vkolhatk/anaconda3/envs/py35/lib/python3.5/site-packages/sklearn/preprocessing/label.py:151: DeprecationWarning: The truth value of an empty array is ambiguous. Returning False, but in future this will result in an error. Use `array.size > 0` to check that an array is not empty.\n",
      "  if diff:\n",
      "/home/vkolhatk/anaconda3/envs/py35/lib/python3.5/site-packages/sklearn/preprocessing/label.py:151: DeprecationWarning: The truth value of an empty array is ambiguous. Returning False, but in future this will result in an error. Use `array.size > 0` to check that an array is not empty.\n",
      "  if diff:\n",
      "/home/vkolhatk/anaconda3/envs/py35/lib/python3.5/site-packages/sklearn/preprocessing/label.py:151: DeprecationWarning: The truth value of an empty array is ambiguous. Returning False, but in future this will result in an error. Use `array.size > 0` to check that an array is not empty.\n",
      "  if diff:\n"
     ]
    },
    {
     "name": "stdout",
     "output_type": "stream",
     "text": [
      "Training accuracy:   0.94\n",
      "Validation accuracy: 0.83\n",
      "TRAIN CLASSIFICATION REPORT\n",
      "\n",
      "              precision    recall  f1-score   support\n",
      "\n",
      "        0.0       0.93      0.94      0.94      4391\n",
      "        1.0       0.95      0.94      0.95      5209\n",
      "\n",
      "avg / total       0.94      0.94      0.94      9600\n",
      "\n",
      "VALIDATION CLASSIFICATION REPORT\n",
      "\n",
      "              precision    recall  f1-score   support\n",
      "\n",
      "        0.0       0.88      0.77      0.82     15178\n",
      "        1.0       0.79      0.89      0.84     15147\n",
      "\n",
      "avg / total       0.84      0.83      0.83     30325\n",
      "\n",
      "sklearn micro-F1-Score: 0.8307996702390767\n",
      "\n",
      "\n",
      "Feature set: ['argumentation_feats']\n",
      "Classifier:  XGBClassifier(base_score=0.5, booster='gbtree', colsample_bylevel=1,\n",
      "       colsample_bytree=1, gamma=0, learning_rate=0.1, max_delta_step=0,\n",
      "       max_depth=3, min_child_weight=1, missing=None, n_estimators=100,\n",
      "       n_jobs=1, nthread=None, objective='binary:logistic', random_state=0,\n",
      "       reg_alpha=0, reg_lambda=1, scale_pos_weight=1, seed=None,\n",
      "       silent=True, subsample=1)\n",
      "Feature set:  ['argumentation_feats']\n",
      "COMMENTS COL:  pp_comment_text\n",
      "Model trained and pickled in file:  /home/vkolhatk/dev/constructiveness/models/saved_model.h5\n",
      "Training accuracy:   0.77\n",
      "Validation accuracy: 0.76\n",
      "TRAIN CLASSIFICATION REPORT\n",
      "\n",
      "              precision    recall  f1-score   support\n",
      "\n",
      "        0.0       0.76      0.73      0.75      4391\n",
      "        1.0       0.78      0.81      0.79      5209\n",
      "\n",
      "avg / total       0.77      0.77      0.77      9600\n",
      "\n",
      "VALIDATION CLASSIFICATION REPORT\n",
      "\n",
      "              precision    recall  f1-score   support\n",
      "\n",
      "        0.0       0.82      0.67      0.74     15178\n",
      "        1.0       0.72      0.86      0.78     15147\n",
      "\n",
      "avg / total       0.77      0.76      0.76     30325\n",
      "\n",
      "sklearn micro-F1-Score: 0.7627370156636438\n",
      "\n",
      "\n",
      "Feature set: ['text_quality_feats']\n",
      "Classifier:  XGBClassifier(base_score=0.5, booster='gbtree', colsample_bylevel=1,\n",
      "       colsample_bytree=1, gamma=0, learning_rate=0.1, max_delta_step=0,\n",
      "       max_depth=3, min_child_weight=1, missing=None, n_estimators=100,\n",
      "       n_jobs=1, nthread=None, objective='binary:logistic', random_state=0,\n",
      "       reg_alpha=0, reg_lambda=1, scale_pos_weight=1, seed=None,\n",
      "       silent=True, subsample=1)\n",
      "Feature set:  ['text_quality_feats']\n",
      "COMMENTS COL:  pp_comment_text\n"
     ]
    },
    {
     "name": "stderr",
     "output_type": "stream",
     "text": [
      "/home/vkolhatk/anaconda3/envs/py35/lib/python3.5/site-packages/sklearn/preprocessing/label.py:151: DeprecationWarning: The truth value of an empty array is ambiguous. Returning False, but in future this will result in an error. Use `array.size > 0` to check that an array is not empty.\n",
      "  if diff:\n",
      "/home/vkolhatk/anaconda3/envs/py35/lib/python3.5/site-packages/sklearn/preprocessing/label.py:151: DeprecationWarning: The truth value of an empty array is ambiguous. Returning False, but in future this will result in an error. Use `array.size > 0` to check that an array is not empty.\n",
      "  if diff:\n",
      "/home/vkolhatk/anaconda3/envs/py35/lib/python3.5/site-packages/sklearn/preprocessing/label.py:151: DeprecationWarning: The truth value of an empty array is ambiguous. Returning False, but in future this will result in an error. Use `array.size > 0` to check that an array is not empty.\n",
      "  if diff:\n",
      "/home/vkolhatk/anaconda3/envs/py35/lib/python3.5/site-packages/sklearn/preprocessing/label.py:151: DeprecationWarning: The truth value of an empty array is ambiguous. Returning False, but in future this will result in an error. Use `array.size > 0` to check that an array is not empty.\n",
      "  if diff:\n"
     ]
    },
    {
     "name": "stdout",
     "output_type": "stream",
     "text": [
      "Model trained and pickled in file:  /home/vkolhatk/dev/constructiveness/models/saved_model.h5\n",
      "Training accuracy:   0.92\n",
      "Validation accuracy: 0.82\n",
      "TRAIN CLASSIFICATION REPORT\n",
      "\n",
      "              precision    recall  f1-score   support\n",
      "\n",
      "        0.0       0.91      0.92      0.91      4391\n",
      "        1.0       0.93      0.92      0.93      5209\n",
      "\n",
      "avg / total       0.92      0.92      0.92      9600\n",
      "\n",
      "VALIDATION CLASSIFICATION REPORT\n",
      "\n",
      "              precision    recall  f1-score   support\n",
      "\n",
      "        0.0       0.87      0.76      0.81     15178\n",
      "        1.0       0.79      0.89      0.84     15147\n",
      "\n",
      "avg / total       0.83      0.82      0.82     30325\n",
      "\n",
      "sklearn micro-F1-Score: 0.824732069249794\n",
      "\n",
      "\n",
      "Feature set: ['named_entity_feats']\n",
      "Classifier:  XGBClassifier(base_score=0.5, booster='gbtree', colsample_bylevel=1,\n",
      "       colsample_bytree=1, gamma=0, learning_rate=0.1, max_delta_step=0,\n",
      "       max_depth=3, min_child_weight=1, missing=None, n_estimators=100,\n",
      "       n_jobs=1, nthread=None, objective='binary:logistic', random_state=0,\n",
      "       reg_alpha=0, reg_lambda=1, scale_pos_weight=1, seed=None,\n",
      "       silent=True, subsample=1)\n",
      "Feature set:  ['named_entity_feats']\n",
      "COMMENTS COL:  pp_comment_text\n"
     ]
    },
    {
     "name": "stderr",
     "output_type": "stream",
     "text": [
      "/home/vkolhatk/anaconda3/envs/py35/lib/python3.5/site-packages/sklearn/preprocessing/label.py:151: DeprecationWarning: The truth value of an empty array is ambiguous. Returning False, but in future this will result in an error. Use `array.size > 0` to check that an array is not empty.\n",
      "  if diff:\n",
      "/home/vkolhatk/anaconda3/envs/py35/lib/python3.5/site-packages/sklearn/preprocessing/label.py:151: DeprecationWarning: The truth value of an empty array is ambiguous. Returning False, but in future this will result in an error. Use `array.size > 0` to check that an array is not empty.\n",
      "  if diff:\n",
      "/home/vkolhatk/anaconda3/envs/py35/lib/python3.5/site-packages/sklearn/preprocessing/label.py:151: DeprecationWarning: The truth value of an empty array is ambiguous. Returning False, but in future this will result in an error. Use `array.size > 0` to check that an array is not empty.\n",
      "  if diff:\n",
      "/home/vkolhatk/anaconda3/envs/py35/lib/python3.5/site-packages/sklearn/preprocessing/label.py:151: DeprecationWarning: The truth value of an empty array is ambiguous. Returning False, but in future this will result in an error. Use `array.size > 0` to check that an array is not empty.\n",
      "  if diff:\n"
     ]
    },
    {
     "name": "stdout",
     "output_type": "stream",
     "text": [
      "Model trained and pickled in file:  /home/vkolhatk/dev/constructiveness/models/saved_model.h5\n",
      "Training accuracy:   0.73\n",
      "Validation accuracy: 0.72\n",
      "TRAIN CLASSIFICATION REPORT\n",
      "\n",
      "              precision    recall  f1-score   support\n",
      "\n",
      "        0.0       0.66      0.86      0.75      4391\n",
      "        1.0       0.84      0.63      0.72      5209\n",
      "\n",
      "avg / total       0.76      0.73      0.73      9600\n",
      "\n",
      "VALIDATION CLASSIFICATION REPORT\n",
      "\n",
      "              precision    recall  f1-score   support\n",
      "\n",
      "        0.0       0.68      0.84      0.75     15178\n",
      "        1.0       0.79      0.60      0.68     15147\n",
      "\n",
      "avg / total       0.74      0.72      0.72     30325\n",
      "\n",
      "sklearn micro-F1-Score: 0.7226710634789777\n",
      "\n",
      "\n",
      "Feature set: ['perspective_content_value_feats']\n",
      "Classifier:  XGBClassifier(base_score=0.5, booster='gbtree', colsample_bylevel=1,\n",
      "       colsample_bytree=1, gamma=0, learning_rate=0.1, max_delta_step=0,\n",
      "       max_depth=3, min_child_weight=1, missing=None, n_estimators=100,\n",
      "       n_jobs=1, nthread=None, objective='binary:logistic', random_state=0,\n",
      "       reg_alpha=0, reg_lambda=1, scale_pos_weight=1, seed=None,\n",
      "       silent=True, subsample=1)\n",
      "Feature set:  ['perspective_content_value_feats']\n",
      "COMMENTS COL:  pp_comment_text\n"
     ]
    },
    {
     "name": "stderr",
     "output_type": "stream",
     "text": [
      "/home/vkolhatk/anaconda3/envs/py35/lib/python3.5/site-packages/sklearn/preprocessing/label.py:151: DeprecationWarning: The truth value of an empty array is ambiguous. Returning False, but in future this will result in an error. Use `array.size > 0` to check that an array is not empty.\n",
      "  if diff:\n",
      "/home/vkolhatk/anaconda3/envs/py35/lib/python3.5/site-packages/sklearn/preprocessing/label.py:151: DeprecationWarning: The truth value of an empty array is ambiguous. Returning False, but in future this will result in an error. Use `array.size > 0` to check that an array is not empty.\n",
      "  if diff:\n",
      "/home/vkolhatk/anaconda3/envs/py35/lib/python3.5/site-packages/sklearn/preprocessing/label.py:151: DeprecationWarning: The truth value of an empty array is ambiguous. Returning False, but in future this will result in an error. Use `array.size > 0` to check that an array is not empty.\n",
      "  if diff:\n",
      "/home/vkolhatk/anaconda3/envs/py35/lib/python3.5/site-packages/sklearn/preprocessing/label.py:151: DeprecationWarning: The truth value of an empty array is ambiguous. Returning False, but in future this will result in an error. Use `array.size > 0` to check that an array is not empty.\n",
      "  if diff:\n"
     ]
    },
    {
     "name": "stdout",
     "output_type": "stream",
     "text": [
      "Model trained and pickled in file:  /home/vkolhatk/dev/constructiveness/models/saved_model.h5\n",
      "Training accuracy:   0.89\n",
      "Validation accuracy: 0.83\n",
      "TRAIN CLASSIFICATION REPORT\n",
      "\n",
      "              precision    recall  f1-score   support\n",
      "\n",
      "        0.0       0.90      0.86      0.88      4391\n",
      "        1.0       0.89      0.92      0.90      5209\n",
      "\n",
      "avg / total       0.89      0.89      0.89      9600\n",
      "\n",
      "VALIDATION CLASSIFICATION REPORT\n",
      "\n",
      "              precision    recall  f1-score   support\n",
      "\n",
      "        0.0       0.88      0.75      0.81     15178\n",
      "        1.0       0.78      0.90      0.84     15147\n",
      "\n",
      "avg / total       0.83      0.83      0.82     30325\n",
      "\n",
      "sklearn micro-F1-Score: 0.8256553998351195\n",
      "\n",
      "\n",
      "Feature set: ['perspective_aggressiveness_feats']\n",
      "Classifier:  XGBClassifier(base_score=0.5, booster='gbtree', colsample_bylevel=1,\n",
      "       colsample_bytree=1, gamma=0, learning_rate=0.1, max_delta_step=0,\n",
      "       max_depth=3, min_child_weight=1, missing=None, n_estimators=100,\n",
      "       n_jobs=1, nthread=None, objective='binary:logistic', random_state=0,\n",
      "       reg_alpha=0, reg_lambda=1, scale_pos_weight=1, seed=None,\n",
      "       silent=True, subsample=1)\n",
      "Feature set:  ['perspective_aggressiveness_feats']\n",
      "COMMENTS COL:  pp_comment_text\n"
     ]
    },
    {
     "name": "stderr",
     "output_type": "stream",
     "text": [
      "/home/vkolhatk/anaconda3/envs/py35/lib/python3.5/site-packages/sklearn/preprocessing/label.py:151: DeprecationWarning: The truth value of an empty array is ambiguous. Returning False, but in future this will result in an error. Use `array.size > 0` to check that an array is not empty.\n",
      "  if diff:\n",
      "/home/vkolhatk/anaconda3/envs/py35/lib/python3.5/site-packages/sklearn/preprocessing/label.py:151: DeprecationWarning: The truth value of an empty array is ambiguous. Returning False, but in future this will result in an error. Use `array.size > 0` to check that an array is not empty.\n",
      "  if diff:\n",
      "/home/vkolhatk/anaconda3/envs/py35/lib/python3.5/site-packages/sklearn/preprocessing/label.py:151: DeprecationWarning: The truth value of an empty array is ambiguous. Returning False, but in future this will result in an error. Use `array.size > 0` to check that an array is not empty.\n",
      "  if diff:\n",
      "/home/vkolhatk/anaconda3/envs/py35/lib/python3.5/site-packages/sklearn/preprocessing/label.py:151: DeprecationWarning: The truth value of an empty array is ambiguous. Returning False, but in future this will result in an error. Use `array.size > 0` to check that an array is not empty.\n",
      "  if diff:\n"
     ]
    },
    {
     "name": "stdout",
     "output_type": "stream",
     "text": [
      "Model trained and pickled in file:  /home/vkolhatk/dev/constructiveness/models/saved_model.h5\n",
      "Training accuracy:   0.71\n",
      "Validation accuracy: 0.75\n",
      "TRAIN CLASSIFICATION REPORT\n",
      "\n",
      "              precision    recall  f1-score   support\n",
      "\n",
      "        0.0       0.67      0.71      0.69      4391\n",
      "        1.0       0.74      0.71      0.73      5209\n",
      "\n",
      "avg / total       0.71      0.71      0.71      9600\n",
      "\n",
      "VALIDATION CLASSIFICATION REPORT\n",
      "\n",
      "              precision    recall  f1-score   support\n",
      "\n",
      "        0.0       0.79      0.68      0.73     15178\n",
      "        1.0       0.72      0.82      0.77     15147\n",
      "\n",
      "avg / total       0.76      0.75      0.75     30325\n",
      "\n"
     ]
    },
    {
     "name": "stderr",
     "output_type": "stream",
     "text": [
      "/home/vkolhatk/anaconda3/envs/py35/lib/python3.5/site-packages/sklearn/preprocessing/label.py:151: DeprecationWarning: The truth value of an empty array is ambiguous. Returning False, but in future this will result in an error. Use `array.size > 0` to check that an array is not empty.\n",
      "  if diff:\n",
      "/home/vkolhatk/anaconda3/envs/py35/lib/python3.5/site-packages/sklearn/preprocessing/label.py:151: DeprecationWarning: The truth value of an empty array is ambiguous. Returning False, but in future this will result in an error. Use `array.size > 0` to check that an array is not empty.\n",
      "  if diff:\n",
      "/home/vkolhatk/anaconda3/envs/py35/lib/python3.5/site-packages/sklearn/preprocessing/label.py:151: DeprecationWarning: The truth value of an empty array is ambiguous. Returning False, but in future this will result in an error. Use `array.size > 0` to check that an array is not empty.\n",
      "  if diff:\n",
      "/home/vkolhatk/anaconda3/envs/py35/lib/python3.5/site-packages/sklearn/preprocessing/label.py:151: DeprecationWarning: The truth value of an empty array is ambiguous. Returning False, but in future this will result in an error. Use `array.size > 0` to check that an array is not empty.\n",
      "  if diff:\n"
     ]
    },
    {
     "name": "stdout",
     "output_type": "stream",
     "text": [
      "sklearn micro-F1-Score: 0.7513602638087387\n",
      "\n",
      "\n",
      "Feature set: ['perspecitive_toxicity_feats']\n",
      "Classifier:  XGBClassifier(base_score=0.5, booster='gbtree', colsample_bylevel=1,\n",
      "       colsample_bytree=1, gamma=0, learning_rate=0.1, max_delta_step=0,\n",
      "       max_depth=3, min_child_weight=1, missing=None, n_estimators=100,\n",
      "       n_jobs=1, nthread=None, objective='binary:logistic', random_state=0,\n",
      "       reg_alpha=0, reg_lambda=1, scale_pos_weight=1, seed=None,\n",
      "       silent=True, subsample=1)\n",
      "Feature set:  ['perspecitive_toxicity_feats']\n",
      "COMMENTS COL:  pp_comment_text\n",
      "Model trained and pickled in file:  /home/vkolhatk/dev/constructiveness/models/saved_model.h5\n",
      "Training accuracy:   0.75\n",
      "Validation accuracy: 0.77\n",
      "TRAIN CLASSIFICATION REPORT\n",
      "\n",
      "              precision    recall  f1-score   support\n",
      "\n",
      "        0.0       0.74      0.70      0.72      4391\n",
      "        1.0       0.76      0.80      0.78      5209\n",
      "\n",
      "avg / total       0.75      0.75      0.75      9600\n",
      "\n"
     ]
    },
    {
     "name": "stderr",
     "output_type": "stream",
     "text": [
      "/home/vkolhatk/anaconda3/envs/py35/lib/python3.5/site-packages/sklearn/preprocessing/label.py:151: DeprecationWarning: The truth value of an empty array is ambiguous. Returning False, but in future this will result in an error. Use `array.size > 0` to check that an array is not empty.\n",
      "  if diff:\n",
      "/home/vkolhatk/anaconda3/envs/py35/lib/python3.5/site-packages/sklearn/preprocessing/label.py:151: DeprecationWarning: The truth value of an empty array is ambiguous. Returning False, but in future this will result in an error. Use `array.size > 0` to check that an array is not empty.\n",
      "  if diff:\n",
      "/home/vkolhatk/anaconda3/envs/py35/lib/python3.5/site-packages/sklearn/preprocessing/label.py:151: DeprecationWarning: The truth value of an empty array is ambiguous. Returning False, but in future this will result in an error. Use `array.size > 0` to check that an array is not empty.\n",
      "  if diff:\n",
      "/home/vkolhatk/anaconda3/envs/py35/lib/python3.5/site-packages/sklearn/preprocessing/label.py:151: DeprecationWarning: The truth value of an empty array is ambiguous. Returning False, but in future this will result in an error. Use `array.size > 0` to check that an array is not empty.\n",
      "  if diff:\n"
     ]
    },
    {
     "name": "stdout",
     "output_type": "stream",
     "text": [
      "VALIDATION CLASSIFICATION REPORT\n",
      "\n",
      "              precision    recall  f1-score   support\n",
      "\n",
      "        0.0       0.80      0.72      0.76     15178\n",
      "        1.0       0.75      0.82      0.78     15147\n",
      "\n",
      "avg / total       0.77      0.77      0.77     30325\n",
      "\n",
      "sklearn micro-F1-Score: 0.7689035449299259\n",
      "\n",
      "\n",
      "Results with all features:  ['ngram_feats', 'tfidf_feats', 'length_feats', 'argumentation_feats', 'text_quality_feats', 'named_entity_feats', 'perspective_content_value_feats', 'perspective_aggressiveness_feats', 'perspecitive_toxicity_feats']\n",
      "Classifier:  XGBClassifier(base_score=0.5, booster='gbtree', colsample_bylevel=1,\n",
      "       colsample_bytree=1, gamma=0, learning_rate=0.1, max_delta_step=0,\n",
      "       max_depth=3, min_child_weight=1, missing=None, n_estimators=100,\n",
      "       n_jobs=1, nthread=None, objective='binary:logistic', random_state=0,\n",
      "       reg_alpha=0, reg_lambda=1, scale_pos_weight=1, seed=None,\n",
      "       silent=True, subsample=1)\n",
      "Feature set:  ['ngram_feats', 'tfidf_feats', 'length_feats', 'argumentation_feats', 'text_quality_feats', 'named_entity_feats', 'perspective_content_value_feats', 'perspective_aggressiveness_feats', 'perspecitive_toxicity_feats']\n",
      "COMMENTS COL:  pp_comment_text\n",
      "Model trained and pickled in file:  /home/vkolhatk/dev/constructiveness/models/saved_model.h5\n"
     ]
    },
    {
     "name": "stderr",
     "output_type": "stream",
     "text": [
      "/home/vkolhatk/anaconda3/envs/py35/lib/python3.5/site-packages/sklearn/preprocessing/label.py:151: DeprecationWarning: The truth value of an empty array is ambiguous. Returning False, but in future this will result in an error. Use `array.size > 0` to check that an array is not empty.\n",
      "  if diff:\n"
     ]
    },
    {
     "name": "stdout",
     "output_type": "stream",
     "text": [
      "Training accuracy:   0.95\n"
     ]
    },
    {
     "name": "stderr",
     "output_type": "stream",
     "text": [
      "/home/vkolhatk/anaconda3/envs/py35/lib/python3.5/site-packages/sklearn/preprocessing/label.py:151: DeprecationWarning: The truth value of an empty array is ambiguous. Returning False, but in future this will result in an error. Use `array.size > 0` to check that an array is not empty.\n",
      "  if diff:\n"
     ]
    },
    {
     "name": "stdout",
     "output_type": "stream",
     "text": [
      "Validation accuracy: 0.84\n"
     ]
    },
    {
     "name": "stderr",
     "output_type": "stream",
     "text": [
      "/home/vkolhatk/anaconda3/envs/py35/lib/python3.5/site-packages/sklearn/preprocessing/label.py:151: DeprecationWarning: The truth value of an empty array is ambiguous. Returning False, but in future this will result in an error. Use `array.size > 0` to check that an array is not empty.\n",
      "  if diff:\n"
     ]
    },
    {
     "name": "stdout",
     "output_type": "stream",
     "text": [
      "TRAIN CLASSIFICATION REPORT\n",
      "\n",
      "              precision    recall  f1-score   support\n",
      "\n",
      "        0.0       0.94      0.95      0.95      4391\n",
      "        1.0       0.96      0.95      0.96      5209\n",
      "\n",
      "avg / total       0.95      0.95      0.95      9600\n",
      "\n",
      "VALIDATION CLASSIFICATION REPORT\n",
      "\n",
      "              precision    recall  f1-score   support\n",
      "\n",
      "        0.0       0.88      0.77      0.82     15178\n",
      "        1.0       0.80      0.90      0.84     15147\n",
      "\n",
      "avg / total       0.84      0.84      0.83     30325\n",
      "\n",
      "sklearn micro-F1-Score: 0.8350865622423743\n"
     ]
    },
    {
     "name": "stderr",
     "output_type": "stream",
     "text": [
      "/home/vkolhatk/anaconda3/envs/py35/lib/python3.5/site-packages/sklearn/preprocessing/label.py:151: DeprecationWarning: The truth value of an empty array is ambiguous. Returning False, but in future this will result in an error. Use `array.size > 0` to check that an array is not empty.\n",
      "  if diff:\n"
     ]
    }
   ],
   "source": [
    "run_experiments_on_feature_sets(fb_classifier)"
   ]
  },
  {
   "cell_type": "code",
   "execution_count": 18,
   "metadata": {},
   "outputs": [
    {
     "name": "stdout",
     "output_type": "stream",
     "text": [
      "\n",
      "\n",
      "Feature set: ['ngram_feats']\n",
      "Classifier:  SGDClassifier(alpha=0.0001, average=False, class_weight=None, epsilon=0.1,\n",
      "       eta0=0.0, fit_intercept=True, l1_ratio=0.15,\n",
      "       learning_rate='optimal', loss='hinge', max_iter=None, n_iter=None,\n",
      "       n_jobs=1, penalty='l2', power_t=0.5, random_state=None,\n",
      "       shuffle=True, tol=None, verbose=0, warm_start=False)\n",
      "Feature set:  ['ngram_feats']\n",
      "COMMENTS COL:  pp_comment_text\n"
     ]
    },
    {
     "name": "stderr",
     "output_type": "stream",
     "text": [
      "/home/vkolhatk/anaconda3/envs/py35/lib/python3.5/site-packages/sklearn/linear_model/stochastic_gradient.py:128: FutureWarning: max_iter and tol parameters have been added in <class 'sklearn.linear_model.stochastic_gradient.SGDClassifier'> in 0.19. If both are left unset, they default to max_iter=5 and tol=None. If tol is not None, max_iter defaults to max_iter=1000. From 0.21, default max_iter will be 1000, and default tol will be 1e-3.\n",
      "  \"and default tol will be 1e-3.\" % type(self), FutureWarning)\n"
     ]
    },
    {
     "name": "stdout",
     "output_type": "stream",
     "text": [
      "Model trained and pickled in file:  /home/vkolhatk/dev/constructiveness/models/saved_model.h5\n",
      "Training accuracy:   1.00\n",
      "Validation accuracy: 0.81\n",
      "TRAIN CLASSIFICATION REPORT\n",
      "\n",
      "              precision    recall  f1-score   support\n",
      "\n",
      "        0.0       0.99      1.00      1.00      4391\n",
      "        1.0       1.00      0.99      1.00      5209\n",
      "\n",
      "avg / total       1.00      1.00      1.00      9600\n",
      "\n",
      "VALIDATION CLASSIFICATION REPORT\n",
      "\n",
      "              precision    recall  f1-score   support\n",
      "\n",
      "        0.0       0.82      0.80      0.81     15178\n",
      "        1.0       0.81      0.83      0.82     15147\n",
      "\n",
      "avg / total       0.81      0.81      0.81     30325\n",
      "\n",
      "sklearn micro-F1-Score: 0.8143775762572134\n",
      "\n",
      "\n",
      "Feature set: ['tfidf_feats']\n",
      "Classifier:  SGDClassifier(alpha=0.0001, average=False, class_weight=None, epsilon=0.1,\n",
      "       eta0=0.0, fit_intercept=True, l1_ratio=0.15,\n",
      "       learning_rate='optimal', loss='hinge', max_iter=None, n_iter=None,\n",
      "       n_jobs=1, penalty='l2', power_t=0.5, random_state=None,\n",
      "       shuffle=True, tol=None, verbose=0, warm_start=False)\n",
      "Feature set:  ['tfidf_feats']\n",
      "COMMENTS COL:  pp_comment_text\n"
     ]
    },
    {
     "name": "stderr",
     "output_type": "stream",
     "text": [
      "/home/vkolhatk/anaconda3/envs/py35/lib/python3.5/site-packages/sklearn/linear_model/stochastic_gradient.py:128: FutureWarning: max_iter and tol parameters have been added in <class 'sklearn.linear_model.stochastic_gradient.SGDClassifier'> in 0.19. If both are left unset, they default to max_iter=5 and tol=None. If tol is not None, max_iter defaults to max_iter=1000. From 0.21, default max_iter will be 1000, and default tol will be 1e-3.\n",
      "  \"and default tol will be 1e-3.\" % type(self), FutureWarning)\n"
     ]
    },
    {
     "name": "stdout",
     "output_type": "stream",
     "text": [
      "Model trained and pickled in file:  /home/vkolhatk/dev/constructiveness/models/saved_model.h5\n",
      "Training accuracy:   1.00\n",
      "Validation accuracy: 0.68\n",
      "TRAIN CLASSIFICATION REPORT\n",
      "\n",
      "              precision    recall  f1-score   support\n",
      "\n",
      "        0.0       1.00      1.00      1.00      4391\n",
      "        1.0       1.00      1.00      1.00      5209\n",
      "\n",
      "avg / total       1.00      1.00      1.00      9600\n",
      "\n",
      "VALIDATION CLASSIFICATION REPORT\n",
      "\n",
      "              precision    recall  f1-score   support\n",
      "\n",
      "        0.0       0.93      0.38      0.54     15178\n",
      "        1.0       0.61      0.97      0.75     15147\n",
      "\n",
      "avg / total       0.77      0.68      0.65     30325\n",
      "\n",
      "sklearn micro-F1-Score: 0.6763066776586975\n",
      "\n",
      "\n",
      "Feature set: ['length_feats']\n",
      "Classifier:  SGDClassifier(alpha=0.0001, average=False, class_weight=None, epsilon=0.1,\n",
      "       eta0=0.0, fit_intercept=True, l1_ratio=0.15,\n",
      "       learning_rate='optimal', loss='hinge', max_iter=None, n_iter=None,\n",
      "       n_jobs=1, penalty='l2', power_t=0.5, random_state=None,\n",
      "       shuffle=True, tol=None, verbose=0, warm_start=False)\n",
      "Feature set:  ['length_feats']\n",
      "COMMENTS COL:  pp_comment_text\n",
      "Model trained and pickled in file:  /home/vkolhatk/dev/constructiveness/models/saved_model.h5\n",
      "Training accuracy:   0.93\n",
      "Validation accuracy: 0.82\n",
      "TRAIN CLASSIFICATION REPORT\n",
      "\n",
      "              precision    recall  f1-score   support\n",
      "\n",
      "        0.0       0.95      0.88      0.92      4391\n",
      "        1.0       0.91      0.96      0.93      5209\n",
      "\n",
      "avg / total       0.93      0.93      0.93      9600\n",
      "\n",
      "VALIDATION CLASSIFICATION REPORT\n",
      "\n",
      "              precision    recall  f1-score   support\n",
      "\n",
      "        0.0       0.89      0.73      0.80     15178\n",
      "        1.0       0.77      0.91      0.84     15147\n",
      "\n",
      "avg / total       0.83      0.82      0.82     30325\n",
      "\n",
      "sklearn micro-F1-Score: 0.8218961253091509\n",
      "\n",
      "\n",
      "Feature set: ['argumentation_feats']\n",
      "Classifier:  SGDClassifier(alpha=0.0001, average=False, class_weight=None, epsilon=0.1,\n",
      "       eta0=0.0, fit_intercept=True, l1_ratio=0.15,\n",
      "       learning_rate='optimal', loss='hinge', max_iter=None, n_iter=None,\n",
      "       n_jobs=1, penalty='l2', power_t=0.5, random_state=None,\n",
      "       shuffle=True, tol=None, verbose=0, warm_start=False)\n",
      "Feature set:  ['argumentation_feats']\n",
      "COMMENTS COL:  pp_comment_text\n",
      "Model trained and pickled in file:  /home/vkolhatk/dev/constructiveness/models/saved_model.h5\n",
      "Training accuracy:   0.74\n"
     ]
    },
    {
     "name": "stderr",
     "output_type": "stream",
     "text": [
      "/home/vkolhatk/anaconda3/envs/py35/lib/python3.5/site-packages/sklearn/linear_model/stochastic_gradient.py:128: FutureWarning: max_iter and tol parameters have been added in <class 'sklearn.linear_model.stochastic_gradient.SGDClassifier'> in 0.19. If both are left unset, they default to max_iter=5 and tol=None. If tol is not None, max_iter defaults to max_iter=1000. From 0.21, default max_iter will be 1000, and default tol will be 1e-3.\n",
      "  \"and default tol will be 1e-3.\" % type(self), FutureWarning)\n",
      "/home/vkolhatk/anaconda3/envs/py35/lib/python3.5/site-packages/sklearn/linear_model/stochastic_gradient.py:128: FutureWarning: max_iter and tol parameters have been added in <class 'sklearn.linear_model.stochastic_gradient.SGDClassifier'> in 0.19. If both are left unset, they default to max_iter=5 and tol=None. If tol is not None, max_iter defaults to max_iter=1000. From 0.21, default max_iter will be 1000, and default tol will be 1e-3.\n",
      "  \"and default tol will be 1e-3.\" % type(self), FutureWarning)\n"
     ]
    },
    {
     "name": "stdout",
     "output_type": "stream",
     "text": [
      "Validation accuracy: 0.69\n",
      "TRAIN CLASSIFICATION REPORT\n",
      "\n",
      "              precision    recall  f1-score   support\n",
      "\n",
      "        0.0       0.92      0.47      0.62      4391\n",
      "        1.0       0.68      0.96      0.80      5209\n",
      "\n",
      "avg / total       0.79      0.74      0.72      9600\n",
      "\n",
      "VALIDATION CLASSIFICATION REPORT\n",
      "\n",
      "              precision    recall  f1-score   support\n",
      "\n",
      "        0.0       0.91      0.43      0.59     15178\n",
      "        1.0       0.63      0.96      0.76     15147\n",
      "\n",
      "avg / total       0.77      0.69      0.67     30325\n",
      "\n",
      "sklearn micro-F1-Score: 0.6945754328112119\n",
      "\n",
      "\n",
      "Feature set: ['text_quality_feats']\n",
      "Classifier:  SGDClassifier(alpha=0.0001, average=False, class_weight=None, epsilon=0.1,\n",
      "       eta0=0.0, fit_intercept=True, l1_ratio=0.15,\n",
      "       learning_rate='optimal', loss='hinge', max_iter=None, n_iter=None,\n",
      "       n_jobs=1, penalty='l2', power_t=0.5, random_state=None,\n",
      "       shuffle=True, tol=None, verbose=0, warm_start=False)\n",
      "Feature set:  ['text_quality_feats']\n",
      "COMMENTS COL:  pp_comment_text\n",
      "Model trained and pickled in file:  /home/vkolhatk/dev/constructiveness/models/saved_model.h5\n",
      "Training accuracy:   0.91\n",
      "Validation accuracy: 0.82\n",
      "TRAIN CLASSIFICATION REPORT\n",
      "\n",
      "              precision    recall  f1-score   support\n",
      "\n",
      "        0.0       0.91      0.89      0.90      4391\n",
      "        1.0       0.91      0.93      0.92      5209\n",
      "\n",
      "avg / total       0.91      0.91      0.91      9600\n",
      "\n",
      "VALIDATION CLASSIFICATION REPORT\n",
      "\n",
      "              precision    recall  f1-score   support\n",
      "\n",
      "        0.0       0.88      0.74      0.80     15178\n",
      "        1.0       0.78      0.90      0.83     15147\n",
      "\n",
      "avg / total       0.83      0.82      0.82     30325\n",
      "\n",
      "sklearn micro-F1-Score: 0.819159109645507\n",
      "\n",
      "\n",
      "Feature set: ['named_entity_feats']\n",
      "Classifier:  SGDClassifier(alpha=0.0001, average=False, class_weight=None, epsilon=0.1,\n",
      "       eta0=0.0, fit_intercept=True, l1_ratio=0.15,\n",
      "       learning_rate='optimal', loss='hinge', max_iter=None, n_iter=None,\n",
      "       n_jobs=1, penalty='l2', power_t=0.5, random_state=None,\n",
      "       shuffle=True, tol=None, verbose=0, warm_start=False)\n",
      "Feature set:  ['named_entity_feats']\n",
      "COMMENTS COL:  pp_comment_text\n",
      "Model trained and pickled in file:  /home/vkolhatk/dev/constructiveness/models/saved_model.h5\n",
      "Training accuracy:   0.73\n",
      "Validation accuracy: 0.72\n"
     ]
    },
    {
     "name": "stderr",
     "output_type": "stream",
     "text": [
      "/home/vkolhatk/anaconda3/envs/py35/lib/python3.5/site-packages/sklearn/linear_model/stochastic_gradient.py:128: FutureWarning: max_iter and tol parameters have been added in <class 'sklearn.linear_model.stochastic_gradient.SGDClassifier'> in 0.19. If both are left unset, they default to max_iter=5 and tol=None. If tol is not None, max_iter defaults to max_iter=1000. From 0.21, default max_iter will be 1000, and default tol will be 1e-3.\n",
      "  \"and default tol will be 1e-3.\" % type(self), FutureWarning)\n",
      "/home/vkolhatk/anaconda3/envs/py35/lib/python3.5/site-packages/sklearn/linear_model/stochastic_gradient.py:128: FutureWarning: max_iter and tol parameters have been added in <class 'sklearn.linear_model.stochastic_gradient.SGDClassifier'> in 0.19. If both are left unset, they default to max_iter=5 and tol=None. If tol is not None, max_iter defaults to max_iter=1000. From 0.21, default max_iter will be 1000, and default tol will be 1e-3.\n",
      "  \"and default tol will be 1e-3.\" % type(self), FutureWarning)\n",
      "/home/vkolhatk/anaconda3/envs/py35/lib/python3.5/site-packages/sklearn/linear_model/stochastic_gradient.py:128: FutureWarning: max_iter and tol parameters have been added in <class 'sklearn.linear_model.stochastic_gradient.SGDClassifier'> in 0.19. If both are left unset, they default to max_iter=5 and tol=None. If tol is not None, max_iter defaults to max_iter=1000. From 0.21, default max_iter will be 1000, and default tol will be 1e-3.\n",
      "  \"and default tol will be 1e-3.\" % type(self), FutureWarning)\n"
     ]
    },
    {
     "name": "stdout",
     "output_type": "stream",
     "text": [
      "TRAIN CLASSIFICATION REPORT\n",
      "\n",
      "              precision    recall  f1-score   support\n",
      "\n",
      "        0.0       0.74      0.62      0.68      4391\n",
      "        1.0       0.72      0.82      0.77      5209\n",
      "\n",
      "avg / total       0.73      0.73      0.73      9600\n",
      "\n",
      "VALIDATION CLASSIFICATION REPORT\n",
      "\n",
      "              precision    recall  f1-score   support\n",
      "\n",
      "        0.0       0.75      0.67      0.70     15178\n",
      "        1.0       0.70      0.78      0.74     15147\n",
      "\n",
      "avg / total       0.72      0.72      0.72     30325\n",
      "\n",
      "sklearn micro-F1-Score: 0.7206265457543282\n",
      "\n",
      "\n",
      "Feature set: ['perspective_content_value_feats']\n",
      "Classifier:  SGDClassifier(alpha=0.0001, average=False, class_weight=None, epsilon=0.1,\n",
      "       eta0=0.0, fit_intercept=True, l1_ratio=0.15,\n",
      "       learning_rate='optimal', loss='hinge', max_iter=None, n_iter=None,\n",
      "       n_jobs=1, penalty='l2', power_t=0.5, random_state=None,\n",
      "       shuffle=True, tol=None, verbose=0, warm_start=False)\n",
      "Feature set:  ['perspective_content_value_feats']\n",
      "COMMENTS COL:  pp_comment_text\n",
      "Model trained and pickled in file:  /home/vkolhatk/dev/constructiveness/models/saved_model.h5\n",
      "Training accuracy:   0.87\n",
      "Validation accuracy: 0.79\n",
      "TRAIN CLASSIFICATION REPORT\n",
      "\n",
      "              precision    recall  f1-score   support\n",
      "\n",
      "        0.0       0.87      0.84      0.85      4391\n",
      "        1.0       0.87      0.89      0.88      5209\n",
      "\n",
      "avg / total       0.87      0.87      0.87      9600\n",
      "\n",
      "VALIDATION CLASSIFICATION REPORT\n",
      "\n",
      "              precision    recall  f1-score   support\n",
      "\n",
      "        0.0       0.87      0.67      0.76     15178\n",
      "        1.0       0.73      0.90      0.81     15147\n",
      "\n",
      "avg / total       0.80      0.79      0.78     30325\n",
      "\n",
      "sklearn micro-F1-Score: 0.7867106347897774\n",
      "\n",
      "\n",
      "Feature set: ['perspective_aggressiveness_feats']\n",
      "Classifier:  SGDClassifier(alpha=0.0001, average=False, class_weight=None, epsilon=0.1,\n",
      "       eta0=0.0, fit_intercept=True, l1_ratio=0.15,\n",
      "       learning_rate='optimal', loss='hinge', max_iter=None, n_iter=None,\n",
      "       n_jobs=1, penalty='l2', power_t=0.5, random_state=None,\n",
      "       shuffle=True, tol=None, verbose=0, warm_start=False)\n",
      "Feature set:  ['perspective_aggressiveness_feats']\n",
      "COMMENTS COL:  pp_comment_text\n",
      "Model trained and pickled in file:  /home/vkolhatk/dev/constructiveness/models/saved_model.h5\n",
      "Training accuracy:   0.60\n",
      "Validation accuracy: 0.75\n"
     ]
    },
    {
     "name": "stderr",
     "output_type": "stream",
     "text": [
      "/home/vkolhatk/anaconda3/envs/py35/lib/python3.5/site-packages/sklearn/linear_model/stochastic_gradient.py:128: FutureWarning: max_iter and tol parameters have been added in <class 'sklearn.linear_model.stochastic_gradient.SGDClassifier'> in 0.19. If both are left unset, they default to max_iter=5 and tol=None. If tol is not None, max_iter defaults to max_iter=1000. From 0.21, default max_iter will be 1000, and default tol will be 1e-3.\n",
      "  \"and default tol will be 1e-3.\" % type(self), FutureWarning)\n",
      "/home/vkolhatk/anaconda3/envs/py35/lib/python3.5/site-packages/sklearn/linear_model/stochastic_gradient.py:128: FutureWarning: max_iter and tol parameters have been added in <class 'sklearn.linear_model.stochastic_gradient.SGDClassifier'> in 0.19. If both are left unset, they default to max_iter=5 and tol=None. If tol is not None, max_iter defaults to max_iter=1000. From 0.21, default max_iter will be 1000, and default tol will be 1e-3.\n",
      "  \"and default tol will be 1e-3.\" % type(self), FutureWarning)\n"
     ]
    },
    {
     "name": "stdout",
     "output_type": "stream",
     "text": [
      "TRAIN CLASSIFICATION REPORT\n",
      "\n",
      "              precision    recall  f1-score   support\n",
      "\n",
      "        0.0       0.62      0.35      0.44      4391\n",
      "        1.0       0.60      0.82      0.69      5209\n",
      "\n",
      "avg / total       0.61      0.60      0.58      9600\n",
      "\n",
      "VALIDATION CLASSIFICATION REPORT\n",
      "\n",
      "              precision    recall  f1-score   support\n",
      "\n",
      "        0.0       0.89      0.56      0.69     15178\n",
      "        1.0       0.68      0.93      0.78     15147\n",
      "\n",
      "avg / total       0.78      0.75      0.74     30325\n",
      "\n",
      "sklearn micro-F1-Score: 0.7458532563891178\n",
      "\n",
      "\n",
      "Feature set: ['perspecitive_toxicity_feats']\n",
      "Classifier:  SGDClassifier(alpha=0.0001, average=False, class_weight=None, epsilon=0.1,\n",
      "       eta0=0.0, fit_intercept=True, l1_ratio=0.15,\n",
      "       learning_rate='optimal', loss='hinge', max_iter=None, n_iter=None,\n",
      "       n_jobs=1, penalty='l2', power_t=0.5, random_state=None,\n",
      "       shuffle=True, tol=None, verbose=0, warm_start=False)\n",
      "Feature set:  ['perspecitive_toxicity_feats']\n",
      "COMMENTS COL:  pp_comment_text\n",
      "Model trained and pickled in file:  /home/vkolhatk/dev/constructiveness/models/saved_model.h5\n",
      "Training accuracy:   0.66\n",
      "Validation accuracy: 0.62\n",
      "TRAIN CLASSIFICATION REPORT\n",
      "\n",
      "              precision    recall  f1-score   support\n",
      "\n",
      "        0.0       0.62      0.68      0.65      4391\n",
      "        1.0       0.71      0.64      0.67      5209\n",
      "\n",
      "avg / total       0.67      0.66      0.66      9600\n",
      "\n",
      "VALIDATION CLASSIFICATION REPORT\n",
      "\n",
      "              precision    recall  f1-score   support\n",
      "\n",
      "        0.0       0.62      0.65      0.63     15178\n",
      "        1.0       0.63      0.60      0.62     15147\n",
      "\n",
      "avg / total       0.63      0.62      0.62     30325\n",
      "\n",
      "sklearn micro-F1-Score: 0.6249958779884583\n",
      "\n",
      "\n",
      "Results with all features:  ['ngram_feats', 'tfidf_feats', 'length_feats', 'argumentation_feats', 'text_quality_feats', 'named_entity_feats', 'perspective_content_value_feats', 'perspective_aggressiveness_feats', 'perspecitive_toxicity_feats']\n",
      "Classifier:  SGDClassifier(alpha=0.0001, average=False, class_weight=None, epsilon=0.1,\n",
      "       eta0=0.0, fit_intercept=True, l1_ratio=0.15,\n",
      "       learning_rate='optimal', loss='hinge', max_iter=None, n_iter=None,\n",
      "       n_jobs=1, penalty='l2', power_t=0.5, random_state=None,\n",
      "       shuffle=True, tol=None, verbose=0, warm_start=False)\n",
      "Feature set:  ['ngram_feats', 'tfidf_feats', 'length_feats', 'argumentation_feats', 'text_quality_feats', 'named_entity_feats', 'perspective_content_value_feats', 'perspective_aggressiveness_feats', 'perspecitive_toxicity_feats']\n",
      "COMMENTS COL:  pp_comment_text\n"
     ]
    },
    {
     "name": "stderr",
     "output_type": "stream",
     "text": [
      "/home/vkolhatk/anaconda3/envs/py35/lib/python3.5/site-packages/sklearn/linear_model/stochastic_gradient.py:128: FutureWarning: max_iter and tol parameters have been added in <class 'sklearn.linear_model.stochastic_gradient.SGDClassifier'> in 0.19. If both are left unset, they default to max_iter=5 and tol=None. If tol is not None, max_iter defaults to max_iter=1000. From 0.21, default max_iter will be 1000, and default tol will be 1e-3.\n",
      "  \"and default tol will be 1e-3.\" % type(self), FutureWarning)\n"
     ]
    },
    {
     "name": "stdout",
     "output_type": "stream",
     "text": [
      "Model trained and pickled in file:  /home/vkolhatk/dev/constructiveness/models/saved_model.h5\n",
      "Training accuracy:   1.00\n",
      "Validation accuracy: 0.82\n",
      "TRAIN CLASSIFICATION REPORT\n",
      "\n",
      "              precision    recall  f1-score   support\n",
      "\n",
      "        0.0       1.00      0.99      1.00      4391\n",
      "        1.0       1.00      1.00      1.00      5209\n",
      "\n",
      "avg / total       1.00      1.00      1.00      9600\n",
      "\n",
      "VALIDATION CLASSIFICATION REPORT\n",
      "\n",
      "              precision    recall  f1-score   support\n",
      "\n",
      "        0.0       0.88      0.74      0.80     15178\n",
      "        1.0       0.78      0.90      0.83     15147\n",
      "\n",
      "avg / total       0.83      0.82      0.82     30325\n",
      "\n",
      "sklearn micro-F1-Score: 0.8199175597691674\n"
     ]
    }
   ],
   "source": [
    "run_experiments_on_feature_sets(fb_classifier, classifier=SGDClassifier())"
   ]
  },
  {
   "cell_type": "markdown",
   "metadata": {},
   "source": [
    "### Train on C3 train and test on C3 test"
   ]
  },
  {
   "cell_type": "code",
   "execution_count": 30,
   "metadata": {},
   "outputs": [],
   "source": [
    "fb_classifier = FBConstructivenessClassifier(X_C3_train, y_C3_train, X_C3_test, y_C3_test)"
   ]
  },
  {
   "cell_type": "code",
   "execution_count": 20,
   "metadata": {},
   "outputs": [
    {
     "name": "stdout",
     "output_type": "stream",
     "text": [
      "\n",
      "\n",
      "Feature set: ['ngram_feats']\n",
      "Classifier:  SGDClassifier(alpha=0.0001, average=False, class_weight=None, epsilon=0.1,\n",
      "       eta0=0.0, fit_intercept=True, l1_ratio=0.15,\n",
      "       learning_rate='optimal', loss='hinge', max_iter=None, n_iter=None,\n",
      "       n_jobs=1, penalty='l2', power_t=0.5, random_state=None,\n",
      "       shuffle=True, tol=None, verbose=0, warm_start=False)\n",
      "Feature set:  ['ngram_feats']\n",
      "COMMENTS COL:  pp_comment_text\n"
     ]
    },
    {
     "name": "stderr",
     "output_type": "stream",
     "text": [
      "/home/vkolhatk/anaconda3/envs/py35/lib/python3.5/site-packages/sklearn/linear_model/stochastic_gradient.py:128: FutureWarning: max_iter and tol parameters have been added in <class 'sklearn.linear_model.stochastic_gradient.SGDClassifier'> in 0.19. If both are left unset, they default to max_iter=5 and tol=None. If tol is not None, max_iter defaults to max_iter=1000. From 0.21, default max_iter will be 1000, and default tol will be 1e-3.\n",
      "  \"and default tol will be 1e-3.\" % type(self), FutureWarning)\n"
     ]
    },
    {
     "name": "stdout",
     "output_type": "stream",
     "text": [
      "Model trained and pickled in file:  /home/vkolhatk/dev/constructiveness/models/saved_model.h5\n",
      "Training accuracy:   1.00\n",
      "Validation accuracy: 0.88\n",
      "TRAIN CLASSIFICATION REPORT\n",
      "\n",
      "              precision    recall  f1-score   support\n",
      "\n",
      "        0.0       0.99      1.00      1.00      4391\n",
      "        1.0       1.00      0.99      1.00      5209\n",
      "\n",
      "avg / total       1.00      1.00      1.00      9600\n",
      "\n",
      "VALIDATION CLASSIFICATION REPORT\n",
      "\n",
      "              precision    recall  f1-score   support\n",
      "\n",
      "        0.0       0.83      0.93      0.88      1093\n",
      "        1.0       0.94      0.84      0.88      1307\n",
      "\n",
      "avg / total       0.89      0.88      0.88      2400\n",
      "\n",
      "sklearn micro-F1-Score: 0.8804166666666666\n",
      "\n",
      "\n",
      "Feature set: ['tfidf_feats']\n",
      "Classifier:  SGDClassifier(alpha=0.0001, average=False, class_weight=None, epsilon=0.1,\n",
      "       eta0=0.0, fit_intercept=True, l1_ratio=0.15,\n",
      "       learning_rate='optimal', loss='hinge', max_iter=None, n_iter=None,\n",
      "       n_jobs=1, penalty='l2', power_t=0.5, random_state=None,\n",
      "       shuffle=True, tol=None, verbose=0, warm_start=False)\n",
      "Feature set:  ['tfidf_feats']\n",
      "COMMENTS COL:  pp_comment_text\n"
     ]
    },
    {
     "name": "stderr",
     "output_type": "stream",
     "text": [
      "/home/vkolhatk/anaconda3/envs/py35/lib/python3.5/site-packages/sklearn/linear_model/stochastic_gradient.py:128: FutureWarning: max_iter and tol parameters have been added in <class 'sklearn.linear_model.stochastic_gradient.SGDClassifier'> in 0.19. If both are left unset, they default to max_iter=5 and tol=None. If tol is not None, max_iter defaults to max_iter=1000. From 0.21, default max_iter will be 1000, and default tol will be 1e-3.\n",
      "  \"and default tol will be 1e-3.\" % type(self), FutureWarning)\n"
     ]
    },
    {
     "name": "stdout",
     "output_type": "stream",
     "text": [
      "Model trained and pickled in file:  /home/vkolhatk/dev/constructiveness/models/saved_model.h5\n",
      "Training accuracy:   1.00\n",
      "Validation accuracy: 0.72\n",
      "TRAIN CLASSIFICATION REPORT\n",
      "\n",
      "              precision    recall  f1-score   support\n",
      "\n",
      "        0.0       1.00      1.00      1.00      4391\n",
      "        1.0       1.00      1.00      1.00      5209\n",
      "\n",
      "avg / total       1.00      1.00      1.00      9600\n",
      "\n",
      "VALIDATION CLASSIFICATION REPORT\n",
      "\n",
      "              precision    recall  f1-score   support\n",
      "\n",
      "        0.0       0.95      0.40      0.56      1093\n",
      "        1.0       0.66      0.98      0.79      1307\n",
      "\n",
      "avg / total       0.79      0.72      0.69      2400\n",
      "\n",
      "sklearn micro-F1-Score: 0.7179166666666665\n",
      "\n",
      "\n",
      "Feature set: ['length_feats']\n",
      "Classifier:  SGDClassifier(alpha=0.0001, average=False, class_weight=None, epsilon=0.1,\n",
      "       eta0=0.0, fit_intercept=True, l1_ratio=0.15,\n",
      "       learning_rate='optimal', loss='hinge', max_iter=None, n_iter=None,\n",
      "       n_jobs=1, penalty='l2', power_t=0.5, random_state=None,\n",
      "       shuffle=True, tol=None, verbose=0, warm_start=False)\n",
      "Feature set:  ['length_feats']\n",
      "COMMENTS COL:  pp_comment_text\n",
      "Model trained and pickled in file:  /home/vkolhatk/dev/constructiveness/models/saved_model.h5\n",
      "Training accuracy:   0.93\n",
      "Validation accuracy: 0.93\n",
      "TRAIN CLASSIFICATION REPORT\n",
      "\n",
      "              precision    recall  f1-score   support\n",
      "\n",
      "        0.0       0.93      0.92      0.93      4391\n",
      "        1.0       0.94      0.94      0.94      5209\n",
      "\n",
      "avg / total       0.93      0.93      0.93      9600\n",
      "\n",
      "VALIDATION CLASSIFICATION REPORT\n",
      "\n",
      "              precision    recall  f1-score   support\n",
      "\n",
      "        0.0       0.93      0.93      0.93      1093\n",
      "        1.0       0.94      0.94      0.94      1307\n",
      "\n",
      "avg / total       0.93      0.93      0.93      2400\n",
      "\n",
      "sklearn micro-F1-Score: 0.93375\n",
      "\n",
      "\n",
      "Feature set: ['argumentation_feats']\n",
      "Classifier:  SGDClassifier(alpha=0.0001, average=False, class_weight=None, epsilon=0.1,\n",
      "       eta0=0.0, fit_intercept=True, l1_ratio=0.15,\n",
      "       learning_rate='optimal', loss='hinge', max_iter=None, n_iter=None,\n",
      "       n_jobs=1, penalty='l2', power_t=0.5, random_state=None,\n",
      "       shuffle=True, tol=None, verbose=0, warm_start=False)\n",
      "Feature set:  ['argumentation_feats']\n",
      "COMMENTS COL:  pp_comment_text\n",
      "Model trained and pickled in file:  /home/vkolhatk/dev/constructiveness/models/saved_model.h5\n",
      "Training accuracy:   0.77\n",
      "Validation accuracy: 0.76\n",
      "TRAIN CLASSIFICATION REPORT\n",
      "\n",
      "              precision    recall  f1-score   support\n",
      "\n",
      "        0.0       0.76      0.73      0.75      4391\n",
      "        1.0       0.78      0.81      0.79      5209\n",
      "\n",
      "avg / total       0.77      0.77      0.77      9600\n",
      "\n",
      "VALIDATION CLASSIFICATION REPORT\n",
      "\n",
      "              precision    recall  f1-score   support\n",
      "\n",
      "        0.0       0.74      0.73      0.74      1093\n",
      "        1.0       0.78      0.79      0.78      1307\n",
      "\n",
      "avg / total       0.76      0.76      0.76      2400\n",
      "\n",
      "sklearn micro-F1-Score: 0.7633333333333333\n",
      "\n",
      "\n",
      "Feature set: ['text_quality_feats']\n",
      "Classifier:  SGDClassifier(alpha=0.0001, average=False, class_weight=None, epsilon=0.1,\n",
      "       eta0=0.0, fit_intercept=True, l1_ratio=0.15,\n",
      "       learning_rate='optimal', loss='hinge', max_iter=None, n_iter=None,\n",
      "       n_jobs=1, penalty='l2', power_t=0.5, random_state=None,\n",
      "       shuffle=True, tol=None, verbose=0, warm_start=False)\n",
      "Feature set:  ['text_quality_feats']\n",
      "COMMENTS COL:  pp_comment_text\n",
      "Model trained and pickled in file:  /home/vkolhatk/dev/constructiveness/models/saved_model.h5\n",
      "Training accuracy:   0.90\n"
     ]
    },
    {
     "name": "stderr",
     "output_type": "stream",
     "text": [
      "/home/vkolhatk/anaconda3/envs/py35/lib/python3.5/site-packages/sklearn/linear_model/stochastic_gradient.py:128: FutureWarning: max_iter and tol parameters have been added in <class 'sklearn.linear_model.stochastic_gradient.SGDClassifier'> in 0.19. If both are left unset, they default to max_iter=5 and tol=None. If tol is not None, max_iter defaults to max_iter=1000. From 0.21, default max_iter will be 1000, and default tol will be 1e-3.\n",
      "  \"and default tol will be 1e-3.\" % type(self), FutureWarning)\n",
      "/home/vkolhatk/anaconda3/envs/py35/lib/python3.5/site-packages/sklearn/linear_model/stochastic_gradient.py:128: FutureWarning: max_iter and tol parameters have been added in <class 'sklearn.linear_model.stochastic_gradient.SGDClassifier'> in 0.19. If both are left unset, they default to max_iter=5 and tol=None. If tol is not None, max_iter defaults to max_iter=1000. From 0.21, default max_iter will be 1000, and default tol will be 1e-3.\n",
      "  \"and default tol will be 1e-3.\" % type(self), FutureWarning)\n",
      "/home/vkolhatk/anaconda3/envs/py35/lib/python3.5/site-packages/sklearn/linear_model/stochastic_gradient.py:128: FutureWarning: max_iter and tol parameters have been added in <class 'sklearn.linear_model.stochastic_gradient.SGDClassifier'> in 0.19. If both are left unset, they default to max_iter=5 and tol=None. If tol is not None, max_iter defaults to max_iter=1000. From 0.21, default max_iter will be 1000, and default tol will be 1e-3.\n",
      "  \"and default tol will be 1e-3.\" % type(self), FutureWarning)\n"
     ]
    },
    {
     "name": "stdout",
     "output_type": "stream",
     "text": [
      "Validation accuracy: 0.90\n",
      "TRAIN CLASSIFICATION REPORT\n",
      "\n",
      "              precision    recall  f1-score   support\n",
      "\n",
      "        0.0       0.86      0.95      0.90      4391\n",
      "        1.0       0.95      0.87      0.91      5209\n",
      "\n",
      "avg / total       0.91      0.90      0.90      9600\n",
      "\n",
      "VALIDATION CLASSIFICATION REPORT\n",
      "\n",
      "              precision    recall  f1-score   support\n",
      "\n",
      "        0.0       0.85      0.95      0.90      1093\n",
      "        1.0       0.96      0.86      0.91      1307\n",
      "\n",
      "avg / total       0.91      0.90      0.90      2400\n",
      "\n",
      "sklearn micro-F1-Score: 0.9045833333333332\n",
      "\n",
      "\n",
      "Feature set: ['named_entity_feats']\n",
      "Classifier:  SGDClassifier(alpha=0.0001, average=False, class_weight=None, epsilon=0.1,\n",
      "       eta0=0.0, fit_intercept=True, l1_ratio=0.15,\n",
      "       learning_rate='optimal', loss='hinge', max_iter=None, n_iter=None,\n",
      "       n_jobs=1, penalty='l2', power_t=0.5, random_state=None,\n",
      "       shuffle=True, tol=None, verbose=0, warm_start=False)\n",
      "Feature set:  ['named_entity_feats']\n",
      "COMMENTS COL:  pp_comment_text\n",
      "Model trained and pickled in file:  /home/vkolhatk/dev/constructiveness/models/saved_model.h5\n",
      "Training accuracy:   0.73\n",
      "Validation accuracy: 0.73\n",
      "TRAIN CLASSIFICATION REPORT\n",
      "\n",
      "              precision    recall  f1-score   support\n",
      "\n",
      "        0.0       0.74      0.62      0.68      4391\n",
      "        1.0       0.72      0.82      0.77      5209\n",
      "\n",
      "avg / total       0.73      0.73      0.73      9600\n",
      "\n",
      "VALIDATION CLASSIFICATION REPORT\n",
      "\n",
      "              precision    recall  f1-score   support\n",
      "\n",
      "        0.0       0.74      0.64      0.69      1093\n",
      "        1.0       0.73      0.81      0.77      1307\n",
      "\n",
      "avg / total       0.73      0.73      0.73      2400\n",
      "\n",
      "sklearn micro-F1-Score: 0.7333333333333333\n",
      "\n",
      "\n",
      "Feature set: ['perspective_content_value_feats']\n",
      "Classifier:  SGDClassifier(alpha=0.0001, average=False, class_weight=None, epsilon=0.1,\n",
      "       eta0=0.0, fit_intercept=True, l1_ratio=0.15,\n",
      "       learning_rate='optimal', loss='hinge', max_iter=None, n_iter=None,\n",
      "       n_jobs=1, penalty='l2', power_t=0.5, random_state=None,\n",
      "       shuffle=True, tol=None, verbose=0, warm_start=False)\n",
      "Feature set:  ['perspective_content_value_feats']\n",
      "COMMENTS COL:  pp_comment_text\n",
      "Model trained and pickled in file:  /home/vkolhatk/dev/constructiveness/models/saved_model.h5\n",
      "Training accuracy:   0.86\n",
      "Validation accuracy: 0.88\n",
      "TRAIN CLASSIFICATION REPORT\n",
      "\n",
      "              precision    recall  f1-score   support\n",
      "\n",
      "        0.0       0.87      0.83      0.85      4391\n",
      "        1.0       0.86      0.90      0.88      5209\n",
      "\n",
      "avg / total       0.86      0.86      0.86      9600\n",
      "\n",
      "VALIDATION CLASSIFICATION REPORT\n",
      "\n",
      "              precision    recall  f1-score   support\n",
      "\n",
      "        0.0       0.88      0.86      0.87      1093\n",
      "        1.0       0.88      0.90      0.89      1307\n",
      "\n",
      "avg / total       0.88      0.88      0.88      2400\n",
      "\n",
      "sklearn micro-F1-Score: 0.87875\n",
      "\n",
      "\n",
      "Feature set: ['perspective_aggressiveness_feats']\n",
      "Classifier:  SGDClassifier(alpha=0.0001, average=False, class_weight=None, epsilon=0.1,\n",
      "       eta0=0.0, fit_intercept=True, l1_ratio=0.15,\n",
      "       learning_rate='optimal', loss='hinge', max_iter=None, n_iter=None,\n",
      "       n_jobs=1, penalty='l2', power_t=0.5, random_state=None,\n",
      "       shuffle=True, tol=None, verbose=0, warm_start=False)\n",
      "Feature set:  ['perspective_aggressiveness_feats']\n",
      "COMMENTS COL:  pp_comment_text\n",
      "Model trained and pickled in file:  /home/vkolhatk/dev/constructiveness/models/saved_model.h5\n",
      "Training accuracy:   0.60\n",
      "Validation accuracy: 0.60\n",
      "TRAIN CLASSIFICATION REPORT\n",
      "\n",
      "              precision    recall  f1-score   support\n",
      "\n",
      "        0.0       0.61      0.38      0.47      4391\n",
      "        1.0       0.60      0.79      0.69      5209\n",
      "\n",
      "avg / total       0.61      0.60      0.59      9600\n",
      "\n",
      "VALIDATION CLASSIFICATION REPORT\n",
      "\n",
      "              precision    recall  f1-score   support\n",
      "\n",
      "        0.0       0.60      0.37      0.45      1093\n",
      "        1.0       0.60      0.80      0.68      1307\n",
      "\n",
      "avg / total       0.60      0.60      0.58      2400\n",
      "\n",
      "sklearn micro-F1-Score: 0.6\n",
      "\n",
      "\n",
      "Feature set: ['perspecitive_toxicity_feats']\n",
      "Classifier:  SGDClassifier(alpha=0.0001, average=False, class_weight=None, epsilon=0.1,\n",
      "       eta0=0.0, fit_intercept=True, l1_ratio=0.15,\n",
      "       learning_rate='optimal', loss='hinge', max_iter=None, n_iter=None,\n",
      "       n_jobs=1, penalty='l2', power_t=0.5, random_state=None,\n",
      "       shuffle=True, tol=None, verbose=0, warm_start=False)\n",
      "Feature set:  ['perspecitive_toxicity_feats']\n",
      "COMMENTS COL:  pp_comment_text\n"
     ]
    },
    {
     "name": "stderr",
     "output_type": "stream",
     "text": [
      "/home/vkolhatk/anaconda3/envs/py35/lib/python3.5/site-packages/sklearn/linear_model/stochastic_gradient.py:128: FutureWarning: max_iter and tol parameters have been added in <class 'sklearn.linear_model.stochastic_gradient.SGDClassifier'> in 0.19. If both are left unset, they default to max_iter=5 and tol=None. If tol is not None, max_iter defaults to max_iter=1000. From 0.21, default max_iter will be 1000, and default tol will be 1e-3.\n",
      "  \"and default tol will be 1e-3.\" % type(self), FutureWarning)\n",
      "/home/vkolhatk/anaconda3/envs/py35/lib/python3.5/site-packages/sklearn/linear_model/stochastic_gradient.py:128: FutureWarning: max_iter and tol parameters have been added in <class 'sklearn.linear_model.stochastic_gradient.SGDClassifier'> in 0.19. If both are left unset, they default to max_iter=5 and tol=None. If tol is not None, max_iter defaults to max_iter=1000. From 0.21, default max_iter will be 1000, and default tol will be 1e-3.\n",
      "  \"and default tol will be 1e-3.\" % type(self), FutureWarning)\n",
      "/home/vkolhatk/anaconda3/envs/py35/lib/python3.5/site-packages/sklearn/linear_model/stochastic_gradient.py:128: FutureWarning: max_iter and tol parameters have been added in <class 'sklearn.linear_model.stochastic_gradient.SGDClassifier'> in 0.19. If both are left unset, they default to max_iter=5 and tol=None. If tol is not None, max_iter defaults to max_iter=1000. From 0.21, default max_iter will be 1000, and default tol will be 1e-3.\n",
      "  \"and default tol will be 1e-3.\" % type(self), FutureWarning)\n",
      "/home/vkolhatk/anaconda3/envs/py35/lib/python3.5/site-packages/sklearn/linear_model/stochastic_gradient.py:128: FutureWarning: max_iter and tol parameters have been added in <class 'sklearn.linear_model.stochastic_gradient.SGDClassifier'> in 0.19. If both are left unset, they default to max_iter=5 and tol=None. If tol is not None, max_iter defaults to max_iter=1000. From 0.21, default max_iter will be 1000, and default tol will be 1e-3.\n",
      "  \"and default tol will be 1e-3.\" % type(self), FutureWarning)\n"
     ]
    },
    {
     "name": "stdout",
     "output_type": "stream",
     "text": [
      "Model trained and pickled in file:  /home/vkolhatk/dev/constructiveness/models/saved_model.h5\n",
      "Training accuracy:   0.67\n",
      "Validation accuracy: 0.67\n",
      "TRAIN CLASSIFICATION REPORT\n",
      "\n",
      "              precision    recall  f1-score   support\n",
      "\n",
      "        0.0       0.63      0.67      0.65      4391\n",
      "        1.0       0.71      0.67      0.69      5209\n",
      "\n",
      "avg / total       0.67      0.67      0.67      9600\n",
      "\n",
      "VALIDATION CLASSIFICATION REPORT\n",
      "\n",
      "              precision    recall  f1-score   support\n",
      "\n",
      "        0.0       0.63      0.67      0.65      1093\n",
      "        1.0       0.71      0.66      0.68      1307\n",
      "\n",
      "avg / total       0.67      0.67      0.67      2400\n",
      "\n",
      "sklearn micro-F1-Score: 0.6670833333333334\n",
      "\n",
      "\n",
      "Results with all features:  ['ngram_feats', 'tfidf_feats', 'length_feats', 'argumentation_feats', 'text_quality_feats', 'named_entity_feats', 'perspective_content_value_feats', 'perspective_aggressiveness_feats', 'perspecitive_toxicity_feats']\n",
      "Classifier:  SGDClassifier(alpha=0.0001, average=False, class_weight=None, epsilon=0.1,\n",
      "       eta0=0.0, fit_intercept=True, l1_ratio=0.15,\n",
      "       learning_rate='optimal', loss='hinge', max_iter=None, n_iter=None,\n",
      "       n_jobs=1, penalty='l2', power_t=0.5, random_state=None,\n",
      "       shuffle=True, tol=None, verbose=0, warm_start=False)\n",
      "Feature set:  ['ngram_feats', 'tfidf_feats', 'length_feats', 'argumentation_feats', 'text_quality_feats', 'named_entity_feats', 'perspective_content_value_feats', 'perspective_aggressiveness_feats', 'perspecitive_toxicity_feats']\n",
      "COMMENTS COL:  pp_comment_text\n"
     ]
    },
    {
     "name": "stderr",
     "output_type": "stream",
     "text": [
      "/home/vkolhatk/anaconda3/envs/py35/lib/python3.5/site-packages/sklearn/linear_model/stochastic_gradient.py:128: FutureWarning: max_iter and tol parameters have been added in <class 'sklearn.linear_model.stochastic_gradient.SGDClassifier'> in 0.19. If both are left unset, they default to max_iter=5 and tol=None. If tol is not None, max_iter defaults to max_iter=1000. From 0.21, default max_iter will be 1000, and default tol will be 1e-3.\n",
      "  \"and default tol will be 1e-3.\" % type(self), FutureWarning)\n"
     ]
    },
    {
     "name": "stdout",
     "output_type": "stream",
     "text": [
      "Model trained and pickled in file:  /home/vkolhatk/dev/constructiveness/models/saved_model.h5\n",
      "Training accuracy:   1.00\n",
      "Validation accuracy: 0.91\n",
      "TRAIN CLASSIFICATION REPORT\n",
      "\n",
      "              precision    recall  f1-score   support\n",
      "\n",
      "        0.0       1.00      1.00      1.00      4391\n",
      "        1.0       1.00      1.00      1.00      5209\n",
      "\n",
      "avg / total       1.00      1.00      1.00      9600\n",
      "\n",
      "VALIDATION CLASSIFICATION REPORT\n",
      "\n",
      "              precision    recall  f1-score   support\n",
      "\n",
      "        0.0       0.89      0.92      0.90      1093\n",
      "        1.0       0.93      0.90      0.92      1307\n",
      "\n",
      "avg / total       0.91      0.91      0.91      2400\n",
      "\n",
      "sklearn micro-F1-Score: 0.9091666666666667\n"
     ]
    }
   ],
   "source": [
    "run_experiments_on_feature_sets(fb_classifier, classifier=SGDClassifier())"
   ]
  },
  {
   "cell_type": "code",
   "execution_count": 31,
   "metadata": {},
   "outputs": [
    {
     "name": "stdout",
     "output_type": "stream",
     "text": [
      "\n",
      "\n",
      "Feature set: ['ngram_feats']\n",
      "Classifier:  XGBClassifier(base_score=0.5, booster='gbtree', colsample_bylevel=1,\n",
      "       colsample_bytree=1, gamma=0, learning_rate=0.1, max_delta_step=0,\n",
      "       max_depth=3, min_child_weight=1, missing=None, n_estimators=100,\n",
      "       n_jobs=1, nthread=None, objective='binary:logistic', random_state=0,\n",
      "       reg_alpha=0, reg_lambda=1, scale_pos_weight=1, seed=None,\n",
      "       silent=True, subsample=1)\n",
      "Feature set:  ['ngram_feats']\n",
      "COMMENTS COL:  pp_comment_text\n",
      "Model trained and pickled in file:  /home/vkolhatk/dev/constructiveness/models/saved_model.h5\n"
     ]
    },
    {
     "name": "stderr",
     "output_type": "stream",
     "text": [
      "/home/vkolhatk/anaconda3/envs/py35/lib/python3.5/site-packages/sklearn/preprocessing/label.py:151: DeprecationWarning: The truth value of an empty array is ambiguous. Returning False, but in future this will result in an error. Use `array.size > 0` to check that an array is not empty.\n",
      "  if diff:\n"
     ]
    },
    {
     "name": "stdout",
     "output_type": "stream",
     "text": [
      "Training accuracy:   0.83\n"
     ]
    },
    {
     "name": "stderr",
     "output_type": "stream",
     "text": [
      "/home/vkolhatk/anaconda3/envs/py35/lib/python3.5/site-packages/sklearn/preprocessing/label.py:151: DeprecationWarning: The truth value of an empty array is ambiguous. Returning False, but in future this will result in an error. Use `array.size > 0` to check that an array is not empty.\n",
      "  if diff:\n"
     ]
    },
    {
     "name": "stdout",
     "output_type": "stream",
     "text": [
      "Validation accuracy: 0.81\n"
     ]
    },
    {
     "name": "stderr",
     "output_type": "stream",
     "text": [
      "/home/vkolhatk/anaconda3/envs/py35/lib/python3.5/site-packages/sklearn/preprocessing/label.py:151: DeprecationWarning: The truth value of an empty array is ambiguous. Returning False, but in future this will result in an error. Use `array.size > 0` to check that an array is not empty.\n",
      "  if diff:\n"
     ]
    },
    {
     "name": "stdout",
     "output_type": "stream",
     "text": [
      "TRAIN CLASSIFICATION REPORT\n",
      "\n",
      "              precision    recall  f1-score   support\n",
      "\n",
      "        0.0       0.79      0.87      0.83      4391\n",
      "        1.0       0.88      0.81      0.84      5209\n",
      "\n",
      "avg / total       0.84      0.83      0.84      9600\n",
      "\n"
     ]
    },
    {
     "name": "stderr",
     "output_type": "stream",
     "text": [
      "/home/vkolhatk/anaconda3/envs/py35/lib/python3.5/site-packages/sklearn/preprocessing/label.py:151: DeprecationWarning: The truth value of an empty array is ambiguous. Returning False, but in future this will result in an error. Use `array.size > 0` to check that an array is not empty.\n",
      "  if diff:\n"
     ]
    },
    {
     "name": "stdout",
     "output_type": "stream",
     "text": [
      "VALIDATION CLASSIFICATION REPORT\n",
      "\n",
      "              precision    recall  f1-score   support\n",
      "\n",
      "        0.0       0.77      0.84      0.80      1093\n",
      "        1.0       0.86      0.79      0.82      1307\n",
      "\n",
      "avg / total       0.82      0.81      0.81      2400\n",
      "\n",
      "sklearn micro-F1-Score: 0.81375\n",
      "\n",
      "\n",
      "Feature set: ['tfidf_feats']\n",
      "Classifier:  XGBClassifier(base_score=0.5, booster='gbtree', colsample_bylevel=1,\n",
      "       colsample_bytree=1, gamma=0, learning_rate=0.1, max_delta_step=0,\n",
      "       max_depth=3, min_child_weight=1, missing=None, n_estimators=100,\n",
      "       n_jobs=1, nthread=None, objective='binary:logistic', random_state=0,\n",
      "       reg_alpha=0, reg_lambda=1, scale_pos_weight=1, seed=None,\n",
      "       silent=True, subsample=1)\n",
      "Feature set:  ['tfidf_feats']\n",
      "COMMENTS COL:  pp_comment_text\n",
      "Model trained and pickled in file:  /home/vkolhatk/dev/constructiveness/models/saved_model.h5\n"
     ]
    },
    {
     "name": "stderr",
     "output_type": "stream",
     "text": [
      "/home/vkolhatk/anaconda3/envs/py35/lib/python3.5/site-packages/sklearn/preprocessing/label.py:151: DeprecationWarning: The truth value of an empty array is ambiguous. Returning False, but in future this will result in an error. Use `array.size > 0` to check that an array is not empty.\n",
      "  if diff:\n"
     ]
    },
    {
     "name": "stdout",
     "output_type": "stream",
     "text": [
      "Training accuracy:   0.90\n"
     ]
    },
    {
     "name": "stderr",
     "output_type": "stream",
     "text": [
      "/home/vkolhatk/anaconda3/envs/py35/lib/python3.5/site-packages/sklearn/preprocessing/label.py:151: DeprecationWarning: The truth value of an empty array is ambiguous. Returning False, but in future this will result in an error. Use `array.size > 0` to check that an array is not empty.\n",
      "  if diff:\n"
     ]
    },
    {
     "name": "stdout",
     "output_type": "stream",
     "text": [
      "Validation accuracy: 0.60\n"
     ]
    },
    {
     "name": "stderr",
     "output_type": "stream",
     "text": [
      "/home/vkolhatk/anaconda3/envs/py35/lib/python3.5/site-packages/sklearn/preprocessing/label.py:151: DeprecationWarning: The truth value of an empty array is ambiguous. Returning False, but in future this will result in an error. Use `array.size > 0` to check that an array is not empty.\n",
      "  if diff:\n"
     ]
    },
    {
     "name": "stdout",
     "output_type": "stream",
     "text": [
      "TRAIN CLASSIFICATION REPORT\n",
      "\n",
      "              precision    recall  f1-score   support\n",
      "\n",
      "        0.0       0.83      0.97      0.89      4391\n",
      "        1.0       0.97      0.83      0.90      5209\n",
      "\n",
      "avg / total       0.91      0.90      0.90      9600\n",
      "\n"
     ]
    },
    {
     "name": "stderr",
     "output_type": "stream",
     "text": [
      "/home/vkolhatk/anaconda3/envs/py35/lib/python3.5/site-packages/sklearn/preprocessing/label.py:151: DeprecationWarning: The truth value of an empty array is ambiguous. Returning False, but in future this will result in an error. Use `array.size > 0` to check that an array is not empty.\n",
      "  if diff:\n"
     ]
    },
    {
     "name": "stdout",
     "output_type": "stream",
     "text": [
      "VALIDATION CLASSIFICATION REPORT\n",
      "\n",
      "              precision    recall  f1-score   support\n",
      "\n",
      "        0.0       0.53      1.00      0.70      1093\n",
      "        1.0       0.99      0.27      0.43      1307\n",
      "\n",
      "avg / total       0.78      0.60      0.55      2400\n",
      "\n",
      "sklearn micro-F1-Score: 0.6025\n",
      "\n",
      "\n",
      "Feature set: ['length_feats']\n",
      "Classifier:  XGBClassifier(base_score=0.5, booster='gbtree', colsample_bylevel=1,\n",
      "       colsample_bytree=1, gamma=0, learning_rate=0.1, max_delta_step=0,\n",
      "       max_depth=3, min_child_weight=1, missing=None, n_estimators=100,\n",
      "       n_jobs=1, nthread=None, objective='binary:logistic', random_state=0,\n",
      "       reg_alpha=0, reg_lambda=1, scale_pos_weight=1, seed=None,\n",
      "       silent=True, subsample=1)\n",
      "Feature set:  ['length_feats']\n",
      "COMMENTS COL:  pp_comment_text\n",
      "Model trained and pickled in file:  /home/vkolhatk/dev/constructiveness/models/saved_model.h5\n"
     ]
    },
    {
     "name": "stderr",
     "output_type": "stream",
     "text": [
      "/home/vkolhatk/anaconda3/envs/py35/lib/python3.5/site-packages/sklearn/preprocessing/label.py:151: DeprecationWarning: The truth value of an empty array is ambiguous. Returning False, but in future this will result in an error. Use `array.size > 0` to check that an array is not empty.\n",
      "  if diff:\n",
      "/home/vkolhatk/anaconda3/envs/py35/lib/python3.5/site-packages/sklearn/preprocessing/label.py:151: DeprecationWarning: The truth value of an empty array is ambiguous. Returning False, but in future this will result in an error. Use `array.size > 0` to check that an array is not empty.\n",
      "  if diff:\n",
      "/home/vkolhatk/anaconda3/envs/py35/lib/python3.5/site-packages/sklearn/preprocessing/label.py:151: DeprecationWarning: The truth value of an empty array is ambiguous. Returning False, but in future this will result in an error. Use `array.size > 0` to check that an array is not empty.\n",
      "  if diff:\n",
      "/home/vkolhatk/anaconda3/envs/py35/lib/python3.5/site-packages/sklearn/preprocessing/label.py:151: DeprecationWarning: The truth value of an empty array is ambiguous. Returning False, but in future this will result in an error. Use `array.size > 0` to check that an array is not empty.\n",
      "  if diff:\n"
     ]
    },
    {
     "name": "stdout",
     "output_type": "stream",
     "text": [
      "Training accuracy:   0.94\n",
      "Validation accuracy: 0.93\n",
      "TRAIN CLASSIFICATION REPORT\n",
      "\n",
      "              precision    recall  f1-score   support\n",
      "\n",
      "        0.0       0.93      0.94      0.94      4391\n",
      "        1.0       0.95      0.94      0.95      5209\n",
      "\n",
      "avg / total       0.94      0.94      0.94      9600\n",
      "\n",
      "VALIDATION CLASSIFICATION REPORT\n",
      "\n",
      "              precision    recall  f1-score   support\n",
      "\n",
      "        0.0       0.92      0.93      0.93      1093\n",
      "        1.0       0.94      0.94      0.94      1307\n",
      "\n",
      "avg / total       0.93      0.93      0.93      2400\n",
      "\n",
      "sklearn micro-F1-Score: 0.9345833333333333\n",
      "\n",
      "\n",
      "Feature set: ['argumentation_feats']\n",
      "Classifier:  XGBClassifier(base_score=0.5, booster='gbtree', colsample_bylevel=1,\n",
      "       colsample_bytree=1, gamma=0, learning_rate=0.1, max_delta_step=0,\n",
      "       max_depth=3, min_child_weight=1, missing=None, n_estimators=100,\n",
      "       n_jobs=1, nthread=None, objective='binary:logistic', random_state=0,\n",
      "       reg_alpha=0, reg_lambda=1, scale_pos_weight=1, seed=None,\n",
      "       silent=True, subsample=1)\n",
      "Feature set:  ['argumentation_feats']\n",
      "COMMENTS COL:  pp_comment_text\n",
      "Model trained and pickled in file:  /home/vkolhatk/dev/constructiveness/models/saved_model.h5\n"
     ]
    },
    {
     "name": "stderr",
     "output_type": "stream",
     "text": [
      "/home/vkolhatk/anaconda3/envs/py35/lib/python3.5/site-packages/sklearn/preprocessing/label.py:151: DeprecationWarning: The truth value of an empty array is ambiguous. Returning False, but in future this will result in an error. Use `array.size > 0` to check that an array is not empty.\n",
      "  if diff:\n",
      "/home/vkolhatk/anaconda3/envs/py35/lib/python3.5/site-packages/sklearn/preprocessing/label.py:151: DeprecationWarning: The truth value of an empty array is ambiguous. Returning False, but in future this will result in an error. Use `array.size > 0` to check that an array is not empty.\n",
      "  if diff:\n",
      "/home/vkolhatk/anaconda3/envs/py35/lib/python3.5/site-packages/sklearn/preprocessing/label.py:151: DeprecationWarning: The truth value of an empty array is ambiguous. Returning False, but in future this will result in an error. Use `array.size > 0` to check that an array is not empty.\n",
      "  if diff:\n",
      "/home/vkolhatk/anaconda3/envs/py35/lib/python3.5/site-packages/sklearn/preprocessing/label.py:151: DeprecationWarning: The truth value of an empty array is ambiguous. Returning False, but in future this will result in an error. Use `array.size > 0` to check that an array is not empty.\n",
      "  if diff:\n"
     ]
    },
    {
     "name": "stdout",
     "output_type": "stream",
     "text": [
      "Training accuracy:   0.77\n",
      "Validation accuracy: 0.76\n",
      "TRAIN CLASSIFICATION REPORT\n",
      "\n",
      "              precision    recall  f1-score   support\n",
      "\n",
      "        0.0       0.76      0.73      0.75      4391\n",
      "        1.0       0.78      0.81      0.79      5209\n",
      "\n",
      "avg / total       0.77      0.77      0.77      9600\n",
      "\n",
      "VALIDATION CLASSIFICATION REPORT\n",
      "\n",
      "              precision    recall  f1-score   support\n",
      "\n",
      "        0.0       0.74      0.73      0.74      1093\n",
      "        1.0       0.78      0.79      0.78      1307\n",
      "\n",
      "avg / total       0.76      0.76      0.76      2400\n",
      "\n",
      "sklearn micro-F1-Score: 0.7633333333333333\n",
      "\n",
      "\n",
      "Feature set: ['text_quality_feats']\n",
      "Classifier:  XGBClassifier(base_score=0.5, booster='gbtree', colsample_bylevel=1,\n",
      "       colsample_bytree=1, gamma=0, learning_rate=0.1, max_delta_step=0,\n",
      "       max_depth=3, min_child_weight=1, missing=None, n_estimators=100,\n",
      "       n_jobs=1, nthread=None, objective='binary:logistic', random_state=0,\n",
      "       reg_alpha=0, reg_lambda=1, scale_pos_weight=1, seed=None,\n",
      "       silent=True, subsample=1)\n",
      "Feature set:  ['text_quality_feats']\n",
      "COMMENTS COL:  pp_comment_text\n",
      "Model trained and pickled in file:  /home/vkolhatk/dev/constructiveness/models/saved_model.h5\n"
     ]
    },
    {
     "name": "stderr",
     "output_type": "stream",
     "text": [
      "/home/vkolhatk/anaconda3/envs/py35/lib/python3.5/site-packages/sklearn/preprocessing/label.py:151: DeprecationWarning: The truth value of an empty array is ambiguous. Returning False, but in future this will result in an error. Use `array.size > 0` to check that an array is not empty.\n",
      "  if diff:\n",
      "/home/vkolhatk/anaconda3/envs/py35/lib/python3.5/site-packages/sklearn/preprocessing/label.py:151: DeprecationWarning: The truth value of an empty array is ambiguous. Returning False, but in future this will result in an error. Use `array.size > 0` to check that an array is not empty.\n",
      "  if diff:\n",
      "/home/vkolhatk/anaconda3/envs/py35/lib/python3.5/site-packages/sklearn/preprocessing/label.py:151: DeprecationWarning: The truth value of an empty array is ambiguous. Returning False, but in future this will result in an error. Use `array.size > 0` to check that an array is not empty.\n",
      "  if diff:\n",
      "/home/vkolhatk/anaconda3/envs/py35/lib/python3.5/site-packages/sklearn/preprocessing/label.py:151: DeprecationWarning: The truth value of an empty array is ambiguous. Returning False, but in future this will result in an error. Use `array.size > 0` to check that an array is not empty.\n",
      "  if diff:\n",
      "/home/vkolhatk/anaconda3/envs/py35/lib/python3.5/site-packages/sklearn/preprocessing/label.py:151: DeprecationWarning: The truth value of an empty array is ambiguous. Returning False, but in future this will result in an error. Use `array.size > 0` to check that an array is not empty.\n",
      "  if diff:\n",
      "/home/vkolhatk/anaconda3/envs/py35/lib/python3.5/site-packages/sklearn/preprocessing/label.py:151: DeprecationWarning: The truth value of an empty array is ambiguous. Returning False, but in future this will result in an error. Use `array.size > 0` to check that an array is not empty.\n",
      "  if diff:\n",
      "/home/vkolhatk/anaconda3/envs/py35/lib/python3.5/site-packages/sklearn/preprocessing/label.py:151: DeprecationWarning: The truth value of an empty array is ambiguous. Returning False, but in future this will result in an error. Use `array.size > 0` to check that an array is not empty.\n",
      "  if diff:\n",
      "/home/vkolhatk/anaconda3/envs/py35/lib/python3.5/site-packages/sklearn/preprocessing/label.py:151: DeprecationWarning: The truth value of an empty array is ambiguous. Returning False, but in future this will result in an error. Use `array.size > 0` to check that an array is not empty.\n",
      "  if diff:\n"
     ]
    },
    {
     "name": "stdout",
     "output_type": "stream",
     "text": [
      "Training accuracy:   0.92\n",
      "Validation accuracy: 0.92\n",
      "TRAIN CLASSIFICATION REPORT\n",
      "\n",
      "              precision    recall  f1-score   support\n",
      "\n",
      "        0.0       0.91      0.92      0.91      4391\n",
      "        1.0       0.93      0.92      0.93      5209\n",
      "\n",
      "avg / total       0.92      0.92      0.92      9600\n",
      "\n",
      "VALIDATION CLASSIFICATION REPORT\n",
      "\n",
      "              precision    recall  f1-score   support\n",
      "\n",
      "        0.0       0.90      0.92      0.91      1093\n",
      "        1.0       0.93      0.91      0.92      1307\n",
      "\n",
      "avg / total       0.92      0.92      0.92      2400\n",
      "\n",
      "sklearn micro-F1-Score: 0.9154166666666665\n",
      "\n",
      "\n",
      "Feature set: ['named_entity_feats']\n",
      "Classifier:  XGBClassifier(base_score=0.5, booster='gbtree', colsample_bylevel=1,\n",
      "       colsample_bytree=1, gamma=0, learning_rate=0.1, max_delta_step=0,\n",
      "       max_depth=3, min_child_weight=1, missing=None, n_estimators=100,\n",
      "       n_jobs=1, nthread=None, objective='binary:logistic', random_state=0,\n",
      "       reg_alpha=0, reg_lambda=1, scale_pos_weight=1, seed=None,\n",
      "       silent=True, subsample=1)\n",
      "Feature set:  ['named_entity_feats']\n",
      "COMMENTS COL:  pp_comment_text\n",
      "Model trained and pickled in file:  /home/vkolhatk/dev/constructiveness/models/saved_model.h5\n",
      "Training accuracy:   0.73\n",
      "Validation accuracy: 0.73\n",
      "TRAIN CLASSIFICATION REPORT\n",
      "\n",
      "              precision    recall  f1-score   support\n",
      "\n",
      "        0.0       0.66      0.86      0.75      4391\n",
      "        1.0       0.84      0.63      0.72      5209\n",
      "\n",
      "avg / total       0.76      0.73      0.73      9600\n",
      "\n",
      "VALIDATION CLASSIFICATION REPORT\n",
      "\n",
      "              precision    recall  f1-score   support\n",
      "\n",
      "        0.0       0.66      0.86      0.74      1093\n",
      "        1.0       0.84      0.62      0.72      1307\n",
      "\n",
      "avg / total       0.76      0.73      0.73      2400\n",
      "\n",
      "sklearn micro-F1-Score: 0.73125\n",
      "\n",
      "\n",
      "Feature set: ['perspective_content_value_feats']\n",
      "Classifier:  XGBClassifier(base_score=0.5, booster='gbtree', colsample_bylevel=1,\n",
      "       colsample_bytree=1, gamma=0, learning_rate=0.1, max_delta_step=0,\n",
      "       max_depth=3, min_child_weight=1, missing=None, n_estimators=100,\n",
      "       n_jobs=1, nthread=None, objective='binary:logistic', random_state=0,\n",
      "       reg_alpha=0, reg_lambda=1, scale_pos_weight=1, seed=None,\n",
      "       silent=True, subsample=1)\n",
      "Feature set:  ['perspective_content_value_feats']\n",
      "COMMENTS COL:  pp_comment_text\n",
      "Model trained and pickled in file:  /home/vkolhatk/dev/constructiveness/models/saved_model.h5\n",
      "Training accuracy:   0.89\n",
      "Validation accuracy: 0.89\n",
      "TRAIN CLASSIFICATION REPORT\n",
      "\n",
      "              precision    recall  f1-score   support\n",
      "\n",
      "        0.0       0.90      0.86      0.88      4391\n",
      "        1.0       0.89      0.92      0.90      5209\n",
      "\n",
      "avg / total       0.89      0.89      0.89      9600\n",
      "\n",
      "VALIDATION CLASSIFICATION REPORT\n",
      "\n",
      "              precision    recall  f1-score   support\n",
      "\n",
      "        0.0       0.89      0.87      0.88      1093\n",
      "        1.0       0.89      0.91      0.90      1307\n",
      "\n",
      "avg / total       0.89      0.89      0.89      2400\n",
      "\n",
      "sklearn micro-F1-Score: 0.8920833333333333\n",
      "\n",
      "\n",
      "Feature set: ['perspective_aggressiveness_feats']\n",
      "Classifier:  XGBClassifier(base_score=0.5, booster='gbtree', colsample_bylevel=1,\n",
      "       colsample_bytree=1, gamma=0, learning_rate=0.1, max_delta_step=0,\n",
      "       max_depth=3, min_child_weight=1, missing=None, n_estimators=100,\n",
      "       n_jobs=1, nthread=None, objective='binary:logistic', random_state=0,\n",
      "       reg_alpha=0, reg_lambda=1, scale_pos_weight=1, seed=None,\n",
      "       silent=True, subsample=1)\n",
      "Feature set:  ['perspective_aggressiveness_feats']\n",
      "COMMENTS COL:  pp_comment_text\n"
     ]
    },
    {
     "name": "stderr",
     "output_type": "stream",
     "text": [
      "/home/vkolhatk/anaconda3/envs/py35/lib/python3.5/site-packages/sklearn/preprocessing/label.py:151: DeprecationWarning: The truth value of an empty array is ambiguous. Returning False, but in future this will result in an error. Use `array.size > 0` to check that an array is not empty.\n",
      "  if diff:\n",
      "/home/vkolhatk/anaconda3/envs/py35/lib/python3.5/site-packages/sklearn/preprocessing/label.py:151: DeprecationWarning: The truth value of an empty array is ambiguous. Returning False, but in future this will result in an error. Use `array.size > 0` to check that an array is not empty.\n",
      "  if diff:\n",
      "/home/vkolhatk/anaconda3/envs/py35/lib/python3.5/site-packages/sklearn/preprocessing/label.py:151: DeprecationWarning: The truth value of an empty array is ambiguous. Returning False, but in future this will result in an error. Use `array.size > 0` to check that an array is not empty.\n",
      "  if diff:\n",
      "/home/vkolhatk/anaconda3/envs/py35/lib/python3.5/site-packages/sklearn/preprocessing/label.py:151: DeprecationWarning: The truth value of an empty array is ambiguous. Returning False, but in future this will result in an error. Use `array.size > 0` to check that an array is not empty.\n",
      "  if diff:\n"
     ]
    },
    {
     "name": "stdout",
     "output_type": "stream",
     "text": [
      "Model trained and pickled in file:  /home/vkolhatk/dev/constructiveness/models/saved_model.h5\n",
      "Training accuracy:   0.71\n",
      "Validation accuracy: 0.69\n",
      "TRAIN CLASSIFICATION REPORT\n",
      "\n",
      "              precision    recall  f1-score   support\n",
      "\n",
      "        0.0       0.67      0.71      0.69      4391\n",
      "        1.0       0.74      0.71      0.73      5209\n",
      "\n",
      "avg / total       0.71      0.71      0.71      9600\n",
      "\n",
      "VALIDATION CLASSIFICATION REPORT\n",
      "\n",
      "              precision    recall  f1-score   support\n",
      "\n",
      "        0.0       0.64      0.70      0.67      1093\n",
      "        1.0       0.73      0.67      0.70      1307\n",
      "\n",
      "avg / total       0.69      0.69      0.69      2400\n",
      "\n",
      "sklearn micro-F1-Score: 0.6870833333333334\n",
      "\n",
      "\n",
      "Feature set: ['perspecitive_toxicity_feats']\n",
      "Classifier:  XGBClassifier(base_score=0.5, booster='gbtree', colsample_bylevel=1,\n",
      "       colsample_bytree=1, gamma=0, learning_rate=0.1, max_delta_step=0,\n",
      "       max_depth=3, min_child_weight=1, missing=None, n_estimators=100,\n",
      "       n_jobs=1, nthread=None, objective='binary:logistic', random_state=0,\n",
      "       reg_alpha=0, reg_lambda=1, scale_pos_weight=1, seed=None,\n",
      "       silent=True, subsample=1)\n",
      "Feature set:  ['perspecitive_toxicity_feats']\n",
      "COMMENTS COL:  pp_comment_text\n"
     ]
    },
    {
     "name": "stderr",
     "output_type": "stream",
     "text": [
      "/home/vkolhatk/anaconda3/envs/py35/lib/python3.5/site-packages/sklearn/preprocessing/label.py:151: DeprecationWarning: The truth value of an empty array is ambiguous. Returning False, but in future this will result in an error. Use `array.size > 0` to check that an array is not empty.\n",
      "  if diff:\n",
      "/home/vkolhatk/anaconda3/envs/py35/lib/python3.5/site-packages/sklearn/preprocessing/label.py:151: DeprecationWarning: The truth value of an empty array is ambiguous. Returning False, but in future this will result in an error. Use `array.size > 0` to check that an array is not empty.\n",
      "  if diff:\n",
      "/home/vkolhatk/anaconda3/envs/py35/lib/python3.5/site-packages/sklearn/preprocessing/label.py:151: DeprecationWarning: The truth value of an empty array is ambiguous. Returning False, but in future this will result in an error. Use `array.size > 0` to check that an array is not empty.\n",
      "  if diff:\n",
      "/home/vkolhatk/anaconda3/envs/py35/lib/python3.5/site-packages/sklearn/preprocessing/label.py:151: DeprecationWarning: The truth value of an empty array is ambiguous. Returning False, but in future this will result in an error. Use `array.size > 0` to check that an array is not empty.\n",
      "  if diff:\n"
     ]
    },
    {
     "name": "stdout",
     "output_type": "stream",
     "text": [
      "Model trained and pickled in file:  /home/vkolhatk/dev/constructiveness/models/saved_model.h5\n",
      "Training accuracy:   0.75\n",
      "Validation accuracy: 0.72\n",
      "TRAIN CLASSIFICATION REPORT\n",
      "\n",
      "              precision    recall  f1-score   support\n",
      "\n",
      "        0.0       0.74      0.70      0.72      4391\n",
      "        1.0       0.76      0.80      0.78      5209\n",
      "\n",
      "avg / total       0.75      0.75      0.75      9600\n",
      "\n",
      "VALIDATION CLASSIFICATION REPORT\n",
      "\n",
      "              precision    recall  f1-score   support\n",
      "\n",
      "        0.0       0.71      0.67      0.69      1093\n",
      "        1.0       0.74      0.77      0.75      1307\n",
      "\n",
      "avg / total       0.72      0.72      0.72      2400\n",
      "\n",
      "sklearn micro-F1-Score: 0.7237499999999999\n",
      "\n",
      "\n",
      "Results with all features:  ['ngram_feats', 'tfidf_feats', 'length_feats', 'argumentation_feats', 'text_quality_feats', 'named_entity_feats', 'perspective_content_value_feats', 'perspective_aggressiveness_feats', 'perspecitive_toxicity_feats']\n",
      "Classifier:  XGBClassifier(base_score=0.5, booster='gbtree', colsample_bylevel=1,\n",
      "       colsample_bytree=1, gamma=0, learning_rate=0.1, max_delta_step=0,\n",
      "       max_depth=3, min_child_weight=1, missing=None, n_estimators=100,\n",
      "       n_jobs=1, nthread=None, objective='binary:logistic', random_state=0,\n",
      "       reg_alpha=0, reg_lambda=1, scale_pos_weight=1, seed=None,\n",
      "       silent=True, subsample=1)\n",
      "Feature set:  ['ngram_feats', 'tfidf_feats', 'length_feats', 'argumentation_feats', 'text_quality_feats', 'named_entity_feats', 'perspective_content_value_feats', 'perspective_aggressiveness_feats', 'perspecitive_toxicity_feats']\n",
      "COMMENTS COL:  pp_comment_text\n"
     ]
    },
    {
     "name": "stderr",
     "output_type": "stream",
     "text": [
      "/home/vkolhatk/anaconda3/envs/py35/lib/python3.5/site-packages/sklearn/preprocessing/label.py:151: DeprecationWarning: The truth value of an empty array is ambiguous. Returning False, but in future this will result in an error. Use `array.size > 0` to check that an array is not empty.\n",
      "  if diff:\n",
      "/home/vkolhatk/anaconda3/envs/py35/lib/python3.5/site-packages/sklearn/preprocessing/label.py:151: DeprecationWarning: The truth value of an empty array is ambiguous. Returning False, but in future this will result in an error. Use `array.size > 0` to check that an array is not empty.\n",
      "  if diff:\n",
      "/home/vkolhatk/anaconda3/envs/py35/lib/python3.5/site-packages/sklearn/preprocessing/label.py:151: DeprecationWarning: The truth value of an empty array is ambiguous. Returning False, but in future this will result in an error. Use `array.size > 0` to check that an array is not empty.\n",
      "  if diff:\n",
      "/home/vkolhatk/anaconda3/envs/py35/lib/python3.5/site-packages/sklearn/preprocessing/label.py:151: DeprecationWarning: The truth value of an empty array is ambiguous. Returning False, but in future this will result in an error. Use `array.size > 0` to check that an array is not empty.\n",
      "  if diff:\n"
     ]
    },
    {
     "name": "stdout",
     "output_type": "stream",
     "text": [
      "Model trained and pickled in file:  /home/vkolhatk/dev/constructiveness/models/saved_model.h5\n"
     ]
    },
    {
     "name": "stderr",
     "output_type": "stream",
     "text": [
      "/home/vkolhatk/anaconda3/envs/py35/lib/python3.5/site-packages/sklearn/preprocessing/label.py:151: DeprecationWarning: The truth value of an empty array is ambiguous. Returning False, but in future this will result in an error. Use `array.size > 0` to check that an array is not empty.\n",
      "  if diff:\n"
     ]
    },
    {
     "name": "stdout",
     "output_type": "stream",
     "text": [
      "Training accuracy:   0.95\n"
     ]
    },
    {
     "name": "stderr",
     "output_type": "stream",
     "text": [
      "/home/vkolhatk/anaconda3/envs/py35/lib/python3.5/site-packages/sklearn/preprocessing/label.py:151: DeprecationWarning: The truth value of an empty array is ambiguous. Returning False, but in future this will result in an error. Use `array.size > 0` to check that an array is not empty.\n",
      "  if diff:\n"
     ]
    },
    {
     "name": "stdout",
     "output_type": "stream",
     "text": [
      "Validation accuracy: 0.94\n"
     ]
    },
    {
     "name": "stderr",
     "output_type": "stream",
     "text": [
      "/home/vkolhatk/anaconda3/envs/py35/lib/python3.5/site-packages/sklearn/preprocessing/label.py:151: DeprecationWarning: The truth value of an empty array is ambiguous. Returning False, but in future this will result in an error. Use `array.size > 0` to check that an array is not empty.\n",
      "  if diff:\n"
     ]
    },
    {
     "name": "stdout",
     "output_type": "stream",
     "text": [
      "TRAIN CLASSIFICATION REPORT\n",
      "\n",
      "              precision    recall  f1-score   support\n",
      "\n",
      "        0.0       0.94      0.95      0.95      4391\n",
      "        1.0       0.96      0.95      0.96      5209\n",
      "\n",
      "avg / total       0.95      0.95      0.95      9600\n",
      "\n",
      "VALIDATION CLASSIFICATION REPORT\n",
      "\n",
      "              precision    recall  f1-score   support\n",
      "\n",
      "        0.0       0.92      0.94      0.93      1093\n",
      "        1.0       0.95      0.93      0.94      1307\n",
      "\n",
      "avg / total       0.94      0.94      0.94      2400\n",
      "\n",
      "sklearn micro-F1-Score: 0.9375\n"
     ]
    },
    {
     "name": "stderr",
     "output_type": "stream",
     "text": [
      "/home/vkolhatk/anaconda3/envs/py35/lib/python3.5/site-packages/sklearn/preprocessing/label.py:151: DeprecationWarning: The truth value of an empty array is ambiguous. Returning False, but in future this will result in an error. Use `array.size > 0` to check that an array is not empty.\n",
      "  if diff:\n"
     ]
    }
   ],
   "source": [
    "run_experiments_on_feature_sets(fb_classifier)"
   ]
  },
  {
   "cell_type": "markdown",
   "metadata": {},
   "source": [
    "### Train on NYT and test on C3 test "
   ]
  },
  {
   "cell_type": "code",
   "execution_count": null,
   "metadata": {},
   "outputs": [
    {
     "name": "stdout",
     "output_type": "stream",
     "text": [
      "\n",
      "\n",
      "Feature set: ['ngram_feats']\n",
      "Classifier:  SGDClassifier(alpha=0.0001, average=False, class_weight=None, epsilon=0.1,\n",
      "       eta0=0.0, fit_intercept=True, l1_ratio=0.15,\n",
      "       learning_rate='optimal', loss='hinge', max_iter=None, n_iter=None,\n",
      "       n_jobs=1, penalty='l2', power_t=0.5, random_state=None,\n",
      "       shuffle=True, tol=None, verbose=0, warm_start=False)\n",
      "Feature set:  ['ngram_feats']\n",
      "COMMENTS COL:  pp_comment_text\n"
     ]
    },
    {
     "name": "stderr",
     "output_type": "stream",
     "text": [
      "/home/vkolhatk/anaconda3/envs/py35/lib/python3.5/site-packages/sklearn/linear_model/stochastic_gradient.py:128: FutureWarning: max_iter and tol parameters have been added in <class 'sklearn.linear_model.stochastic_gradient.SGDClassifier'> in 0.19. If both are left unset, they default to max_iter=5 and tol=None. If tol is not None, max_iter defaults to max_iter=1000. From 0.21, default max_iter will be 1000, and default tol will be 1e-3.\n",
      "  \"and default tol will be 1e-3.\" % type(self), FutureWarning)\n"
     ]
    },
    {
     "name": "stdout",
     "output_type": "stream",
     "text": [
      "Model trained and pickled in file:  /home/vkolhatk/dev/constructiveness/models/saved_model.h5\n",
      "Training accuracy:   0.99\n",
      "Validation accuracy: 0.83\n",
      "TRAIN CLASSIFICATION REPORT\n",
      "\n",
      "              precision    recall  f1-score   support\n",
      "\n",
      "        0.0       0.98      1.00      0.99     15178\n",
      "        1.0       1.00      0.98      0.99     15147\n",
      "\n",
      "avg / total       0.99      0.99      0.99     30325\n",
      "\n",
      "VALIDATION CLASSIFICATION REPORT\n",
      "\n",
      "              precision    recall  f1-score   support\n",
      "\n",
      "        0.0       0.77      0.90      0.83      1093\n",
      "        1.0       0.91      0.78      0.84      1307\n",
      "\n",
      "avg / total       0.85      0.83      0.84      2400\n",
      "\n",
      "sklearn micro-F1-Score: 0.835\n",
      "\n",
      "\n",
      "Feature set: ['tfidf_feats']\n",
      "Classifier:  SGDClassifier(alpha=0.0001, average=False, class_weight=None, epsilon=0.1,\n",
      "       eta0=0.0, fit_intercept=True, l1_ratio=0.15,\n",
      "       learning_rate='optimal', loss='hinge', max_iter=None, n_iter=None,\n",
      "       n_jobs=1, penalty='l2', power_t=0.5, random_state=None,\n",
      "       shuffle=True, tol=None, verbose=0, warm_start=False)\n",
      "Feature set:  ['tfidf_feats']\n",
      "COMMENTS COL:  pp_comment_text\n"
     ]
    },
    {
     "name": "stderr",
     "output_type": "stream",
     "text": [
      "/home/vkolhatk/anaconda3/envs/py35/lib/python3.5/site-packages/sklearn/linear_model/stochastic_gradient.py:128: FutureWarning: max_iter and tol parameters have been added in <class 'sklearn.linear_model.stochastic_gradient.SGDClassifier'> in 0.19. If both are left unset, they default to max_iter=5 and tol=None. If tol is not None, max_iter defaults to max_iter=1000. From 0.21, default max_iter will be 1000, and default tol will be 1e-3.\n",
      "  \"and default tol will be 1e-3.\" % type(self), FutureWarning)\n"
     ]
    },
    {
     "name": "stdout",
     "output_type": "stream",
     "text": [
      "Model trained and pickled in file:  /home/vkolhatk/dev/constructiveness/models/saved_model.h5\n",
      "Training accuracy:   0.97\n",
      "Validation accuracy: 0.72\n",
      "TRAIN CLASSIFICATION REPORT\n",
      "\n",
      "              precision    recall  f1-score   support\n",
      "\n",
      "        0.0       0.97      0.98      0.97     15178\n",
      "        1.0       0.98      0.97      0.97     15147\n",
      "\n",
      "avg / total       0.97      0.97      0.97     30325\n",
      "\n",
      "VALIDATION CLASSIFICATION REPORT\n",
      "\n",
      "              precision    recall  f1-score   support\n",
      "\n",
      "        0.0       0.88      0.45      0.59      1093\n",
      "        1.0       0.67      0.95      0.79      1307\n",
      "\n",
      "avg / total       0.77      0.72      0.70      2400\n",
      "\n",
      "sklearn micro-F1-Score: 0.7208333333333333\n",
      "\n",
      "\n",
      "Feature set: ['length_feats']\n",
      "Classifier:  SGDClassifier(alpha=0.0001, average=False, class_weight=None, epsilon=0.1,\n",
      "       eta0=0.0, fit_intercept=True, l1_ratio=0.15,\n",
      "       learning_rate='optimal', loss='hinge', max_iter=None, n_iter=None,\n",
      "       n_jobs=1, penalty='l2', power_t=0.5, random_state=None,\n",
      "       shuffle=True, tol=None, verbose=0, warm_start=False)\n",
      "Feature set:  ['length_feats']\n",
      "COMMENTS COL:  pp_comment_text\n",
      "Model trained and pickled in file:  /home/vkolhatk/dev/constructiveness/models/saved_model.h5\n"
     ]
    },
    {
     "name": "stderr",
     "output_type": "stream",
     "text": [
      "/home/vkolhatk/anaconda3/envs/py35/lib/python3.5/site-packages/sklearn/linear_model/stochastic_gradient.py:128: FutureWarning: max_iter and tol parameters have been added in <class 'sklearn.linear_model.stochastic_gradient.SGDClassifier'> in 0.19. If both are left unset, they default to max_iter=5 and tol=None. If tol is not None, max_iter defaults to max_iter=1000. From 0.21, default max_iter will be 1000, and default tol will be 1e-3.\n",
      "  \"and default tol will be 1e-3.\" % type(self), FutureWarning)\n"
     ]
    },
    {
     "name": "stdout",
     "output_type": "stream",
     "text": [
      "Training accuracy:   0.84\n",
      "Validation accuracy: 0.86\n",
      "TRAIN CLASSIFICATION REPORT\n",
      "\n",
      "              precision    recall  f1-score   support\n",
      "\n",
      "        0.0       0.85      0.81      0.83     15178\n",
      "        1.0       0.82      0.86      0.84     15147\n",
      "\n",
      "avg / total       0.84      0.84      0.84     30325\n",
      "\n",
      "VALIDATION CLASSIFICATION REPORT\n",
      "\n",
      "              precision    recall  f1-score   support\n",
      "\n",
      "        0.0       0.82      0.89      0.85      1093\n",
      "        1.0       0.90      0.83      0.86      1307\n",
      "\n",
      "avg / total       0.86      0.86      0.86      2400\n",
      "\n",
      "sklearn micro-F1-Score: 0.8583333333333333\n",
      "\n",
      "\n",
      "Feature set: ['argumentation_feats']\n",
      "Classifier:  SGDClassifier(alpha=0.0001, average=False, class_weight=None, epsilon=0.1,\n",
      "       eta0=0.0, fit_intercept=True, l1_ratio=0.15,\n",
      "       learning_rate='optimal', loss='hinge', max_iter=None, n_iter=None,\n",
      "       n_jobs=1, penalty='l2', power_t=0.5, random_state=None,\n",
      "       shuffle=True, tol=None, verbose=0, warm_start=False)\n",
      "Feature set:  ['argumentation_feats']\n",
      "COMMENTS COL:  pp_comment_text\n",
      "Model trained and pickled in file:  /home/vkolhatk/dev/constructiveness/models/saved_model.h5\n",
      "Training accuracy:   0.76\n",
      "Validation accuracy: 0.75\n",
      "TRAIN CLASSIFICATION REPORT\n",
      "\n",
      "              precision    recall  f1-score   support\n",
      "\n",
      "        0.0       0.80      0.70      0.75     15178\n",
      "        1.0       0.73      0.82      0.77     15147\n",
      "\n",
      "avg / total       0.76      0.76      0.76     30325\n",
      "\n",
      "VALIDATION CLASSIFICATION REPORT\n",
      "\n",
      "              precision    recall  f1-score   support\n",
      "\n",
      "        0.0       0.71      0.76      0.74      1093\n",
      "        1.0       0.79      0.74      0.76      1307\n",
      "\n",
      "avg / total       0.75      0.75      0.75      2400\n",
      "\n",
      "sklearn micro-F1-Score: 0.7508333333333334\n",
      "\n",
      "\n",
      "Feature set: ['text_quality_feats']\n",
      "Classifier:  SGDClassifier(alpha=0.0001, average=False, class_weight=None, epsilon=0.1,\n",
      "       eta0=0.0, fit_intercept=True, l1_ratio=0.15,\n",
      "       learning_rate='optimal', loss='hinge', max_iter=None, n_iter=None,\n",
      "       n_jobs=1, penalty='l2', power_t=0.5, random_state=None,\n",
      "       shuffle=True, tol=None, verbose=0, warm_start=False)\n",
      "Feature set:  ['text_quality_feats']\n",
      "COMMENTS COL:  pp_comment_text\n",
      "Model trained and pickled in file:  /home/vkolhatk/dev/constructiveness/models/saved_model.h5\n",
      "Training accuracy:   0.83\n",
      "Validation accuracy: 0.87\n"
     ]
    },
    {
     "name": "stderr",
     "output_type": "stream",
     "text": [
      "/home/vkolhatk/anaconda3/envs/py35/lib/python3.5/site-packages/sklearn/linear_model/stochastic_gradient.py:128: FutureWarning: max_iter and tol parameters have been added in <class 'sklearn.linear_model.stochastic_gradient.SGDClassifier'> in 0.19. If both are left unset, they default to max_iter=5 and tol=None. If tol is not None, max_iter defaults to max_iter=1000. From 0.21, default max_iter will be 1000, and default tol will be 1e-3.\n",
      "  \"and default tol will be 1e-3.\" % type(self), FutureWarning)\n",
      "/home/vkolhatk/anaconda3/envs/py35/lib/python3.5/site-packages/sklearn/linear_model/stochastic_gradient.py:128: FutureWarning: max_iter and tol parameters have been added in <class 'sklearn.linear_model.stochastic_gradient.SGDClassifier'> in 0.19. If both are left unset, they default to max_iter=5 and tol=None. If tol is not None, max_iter defaults to max_iter=1000. From 0.21, default max_iter will be 1000, and default tol will be 1e-3.\n",
      "  \"and default tol will be 1e-3.\" % type(self), FutureWarning)\n",
      "/home/vkolhatk/anaconda3/envs/py35/lib/python3.5/site-packages/sklearn/linear_model/stochastic_gradient.py:128: FutureWarning: max_iter and tol parameters have been added in <class 'sklearn.linear_model.stochastic_gradient.SGDClassifier'> in 0.19. If both are left unset, they default to max_iter=5 and tol=None. If tol is not None, max_iter defaults to max_iter=1000. From 0.21, default max_iter will be 1000, and default tol will be 1e-3.\n",
      "  \"and default tol will be 1e-3.\" % type(self), FutureWarning)\n"
     ]
    },
    {
     "name": "stdout",
     "output_type": "stream",
     "text": [
      "TRAIN CLASSIFICATION REPORT\n",
      "\n",
      "              precision    recall  f1-score   support\n",
      "\n",
      "        0.0       0.84      0.82      0.83     15178\n",
      "        1.0       0.83      0.84      0.84     15147\n",
      "\n",
      "avg / total       0.83      0.83      0.83     30325\n",
      "\n",
      "VALIDATION CLASSIFICATION REPORT\n",
      "\n",
      "              precision    recall  f1-score   support\n",
      "\n",
      "        0.0       0.80      0.95      0.87      1093\n",
      "        1.0       0.95      0.80      0.87      1307\n",
      "\n",
      "avg / total       0.88      0.87      0.87      2400\n",
      "\n",
      "sklearn micro-F1-Score: 0.87\n",
      "\n",
      "\n",
      "Feature set: ['named_entity_feats']\n",
      "Classifier:  SGDClassifier(alpha=0.0001, average=False, class_weight=None, epsilon=0.1,\n",
      "       eta0=0.0, fit_intercept=True, l1_ratio=0.15,\n",
      "       learning_rate='optimal', loss='hinge', max_iter=None, n_iter=None,\n",
      "       n_jobs=1, penalty='l2', power_t=0.5, random_state=None,\n",
      "       shuffle=True, tol=None, verbose=0, warm_start=False)\n",
      "Feature set:  ['named_entity_feats']\n",
      "COMMENTS COL:  pp_comment_text\n",
      "Model trained and pickled in file:  /home/vkolhatk/dev/constructiveness/models/saved_model.h5\n",
      "Training accuracy:   0.72\n",
      "Validation accuracy: 0.73\n",
      "TRAIN CLASSIFICATION REPORT\n",
      "\n",
      "              precision    recall  f1-score   support\n",
      "\n",
      "        0.0       0.68      0.84      0.75     15178\n",
      "        1.0       0.79      0.60      0.68     15147\n",
      "\n",
      "avg / total       0.74      0.72      0.72     30325\n",
      "\n",
      "VALIDATION CLASSIFICATION REPORT\n",
      "\n",
      "              precision    recall  f1-score   support\n",
      "\n",
      "        0.0       0.66      0.86      0.74      1093\n",
      "        1.0       0.84      0.62      0.72      1307\n",
      "\n",
      "avg / total       0.76      0.73      0.73      2400\n",
      "\n",
      "sklearn micro-F1-Score: 0.73125\n",
      "\n",
      "\n",
      "Feature set: ['perspective_content_value_feats']\n",
      "Classifier:  SGDClassifier(alpha=0.0001, average=False, class_weight=None, epsilon=0.1,\n",
      "       eta0=0.0, fit_intercept=True, l1_ratio=0.15,\n",
      "       learning_rate='optimal', loss='hinge', max_iter=None, n_iter=None,\n",
      "       n_jobs=1, penalty='l2', power_t=0.5, random_state=None,\n",
      "       shuffle=True, tol=None, verbose=0, warm_start=False)\n",
      "Feature set:  ['perspective_content_value_feats']\n",
      "COMMENTS COL:  pp_comment_text\n",
      "Model trained and pickled in file:  /home/vkolhatk/dev/constructiveness/models/saved_model.h5\n",
      "Training accuracy:   0.86\n",
      "Validation accuracy: 0.73\n",
      "TRAIN CLASSIFICATION REPORT\n",
      "\n",
      "              precision    recall  f1-score   support\n",
      "\n",
      "        0.0       0.83      0.91      0.87     15178\n",
      "        1.0       0.90      0.81      0.86     15147\n",
      "\n",
      "avg / total       0.87      0.86      0.86     30325\n",
      "\n",
      "VALIDATION CLASSIFICATION REPORT\n",
      "\n",
      "              precision    recall  f1-score   support\n",
      "\n",
      "        0.0       0.65      0.90      0.76      1093\n",
      "        1.0       0.88      0.60      0.71      1307\n",
      "\n",
      "avg / total       0.77      0.73      0.73      2400\n",
      "\n",
      "sklearn micro-F1-Score: 0.7345833333333335\n",
      "\n",
      "\n",
      "Feature set: ['perspective_aggressiveness_feats']\n",
      "Classifier:  SGDClassifier(alpha=0.0001, average=False, class_weight=None, epsilon=0.1,\n",
      "       eta0=0.0, fit_intercept=True, l1_ratio=0.15,\n",
      "       learning_rate='optimal', loss='hinge', max_iter=None, n_iter=None,\n",
      "       n_jobs=1, penalty='l2', power_t=0.5, random_state=None,\n",
      "       shuffle=True, tol=None, verbose=0, warm_start=False)\n",
      "Feature set:  ['perspective_aggressiveness_feats']\n",
      "COMMENTS COL:  pp_comment_text\n",
      "Model trained and pickled in file:  /home/vkolhatk/dev/constructiveness/models/saved_model.h5\n"
     ]
    },
    {
     "name": "stderr",
     "output_type": "stream",
     "text": [
      "/home/vkolhatk/anaconda3/envs/py35/lib/python3.5/site-packages/sklearn/linear_model/stochastic_gradient.py:128: FutureWarning: max_iter and tol parameters have been added in <class 'sklearn.linear_model.stochastic_gradient.SGDClassifier'> in 0.19. If both are left unset, they default to max_iter=5 and tol=None. If tol is not None, max_iter defaults to max_iter=1000. From 0.21, default max_iter will be 1000, and default tol will be 1e-3.\n",
      "  \"and default tol will be 1e-3.\" % type(self), FutureWarning)\n",
      "/home/vkolhatk/anaconda3/envs/py35/lib/python3.5/site-packages/sklearn/linear_model/stochastic_gradient.py:128: FutureWarning: max_iter and tol parameters have been added in <class 'sklearn.linear_model.stochastic_gradient.SGDClassifier'> in 0.19. If both are left unset, they default to max_iter=5 and tol=None. If tol is not None, max_iter defaults to max_iter=1000. From 0.21, default max_iter will be 1000, and default tol will be 1e-3.\n",
      "  \"and default tol will be 1e-3.\" % type(self), FutureWarning)\n",
      "/home/vkolhatk/anaconda3/envs/py35/lib/python3.5/site-packages/sklearn/linear_model/stochastic_gradient.py:128: FutureWarning: max_iter and tol parameters have been added in <class 'sklearn.linear_model.stochastic_gradient.SGDClassifier'> in 0.19. If both are left unset, they default to max_iter=5 and tol=None. If tol is not None, max_iter defaults to max_iter=1000. From 0.21, default max_iter will be 1000, and default tol will be 1e-3.\n",
      "  \"and default tol will be 1e-3.\" % type(self), FutureWarning)\n"
     ]
    },
    {
     "name": "stdout",
     "output_type": "stream",
     "text": [
      "Training accuracy:   0.78\n",
      "Validation accuracy: 0.61\n",
      "TRAIN CLASSIFICATION REPORT\n",
      "\n",
      "              precision    recall  f1-score   support\n",
      "\n",
      "        0.0       0.84      0.70      0.77     15178\n",
      "        1.0       0.74      0.87      0.80     15147\n",
      "\n",
      "avg / total       0.79      0.78      0.78     30325\n",
      "\n",
      "VALIDATION CLASSIFICATION REPORT\n",
      "\n",
      "              precision    recall  f1-score   support\n",
      "\n",
      "        0.0       0.58      0.52      0.55      1093\n",
      "        1.0       0.63      0.69      0.66      1307\n",
      "\n",
      "avg / total       0.61      0.61      0.61      2400\n",
      "\n",
      "sklearn micro-F1-Score: 0.61125\n",
      "\n",
      "\n",
      "Feature set: ['perspecitive_toxicity_feats']\n",
      "Classifier:  SGDClassifier(alpha=0.0001, average=False, class_weight=None, epsilon=0.1,\n",
      "       eta0=0.0, fit_intercept=True, l1_ratio=0.15,\n",
      "       learning_rate='optimal', loss='hinge', max_iter=None, n_iter=None,\n",
      "       n_jobs=1, penalty='l2', power_t=0.5, random_state=None,\n",
      "       shuffle=True, tol=None, verbose=0, warm_start=False)\n",
      "Feature set:  ['perspecitive_toxicity_feats']\n",
      "COMMENTS COL:  pp_comment_text\n",
      "Model trained and pickled in file:  /home/vkolhatk/dev/constructiveness/models/saved_model.h5\n",
      "Training accuracy:   0.78\n",
      "Validation accuracy: 0.65\n",
      "TRAIN CLASSIFICATION REPORT\n",
      "\n",
      "              precision    recall  f1-score   support\n",
      "\n",
      "        0.0       0.74      0.88      0.80     15178\n",
      "        1.0       0.85      0.69      0.76     15147\n",
      "\n",
      "avg / total       0.79      0.78      0.78     30325\n",
      "\n",
      "VALIDATION CLASSIFICATION REPORT\n",
      "\n",
      "              precision    recall  f1-score   support\n",
      "\n",
      "        0.0       0.59      0.80      0.68      1093\n",
      "        1.0       0.76      0.54      0.63      1307\n",
      "\n",
      "avg / total       0.68      0.65      0.65      2400\n",
      "\n",
      "sklearn micro-F1-Score: 0.6545833333333333\n",
      "\n",
      "\n",
      "Results with all features:  ['ngram_feats', 'tfidf_feats', 'length_feats', 'argumentation_feats', 'text_quality_feats', 'named_entity_feats', 'perspective_content_value_feats', 'perspective_aggressiveness_feats', 'perspecitive_toxicity_feats']\n",
      "Classifier:  SGDClassifier(alpha=0.0001, average=False, class_weight=None, epsilon=0.1,\n",
      "       eta0=0.0, fit_intercept=True, l1_ratio=0.15,\n",
      "       learning_rate='optimal', loss='hinge', max_iter=None, n_iter=None,\n",
      "       n_jobs=1, penalty='l2', power_t=0.5, random_state=None,\n",
      "       shuffle=True, tol=None, verbose=0, warm_start=False)\n",
      "Feature set:  ['ngram_feats', 'tfidf_feats', 'length_feats', 'argumentation_feats', 'text_quality_feats', 'named_entity_feats', 'perspective_content_value_feats', 'perspective_aggressiveness_feats', 'perspecitive_toxicity_feats']\n",
      "COMMENTS COL:  pp_comment_text\n"
     ]
    },
    {
     "name": "stderr",
     "output_type": "stream",
     "text": [
      "/home/vkolhatk/anaconda3/envs/py35/lib/python3.5/site-packages/sklearn/linear_model/stochastic_gradient.py:128: FutureWarning: max_iter and tol parameters have been added in <class 'sklearn.linear_model.stochastic_gradient.SGDClassifier'> in 0.19. If both are left unset, they default to max_iter=5 and tol=None. If tol is not None, max_iter defaults to max_iter=1000. From 0.21, default max_iter will be 1000, and default tol will be 1e-3.\n",
      "  \"and default tol will be 1e-3.\" % type(self), FutureWarning)\n"
     ]
    },
    {
     "name": "stdout",
     "output_type": "stream",
     "text": [
      "Model trained and pickled in file:  /home/vkolhatk/dev/constructiveness/models/saved_model.h5\n",
      "Training accuracy:   1.00\n",
      "Validation accuracy: 0.78\n",
      "TRAIN CLASSIFICATION REPORT\n",
      "\n",
      "              precision    recall  f1-score   support\n",
      "\n",
      "        0.0       1.00      1.00      1.00     15178\n",
      "        1.0       1.00      1.00      1.00     15147\n",
      "\n",
      "avg / total       1.00      1.00      1.00     30325\n",
      "\n",
      "VALIDATION CLASSIFICATION REPORT\n",
      "\n",
      "              precision    recall  f1-score   support\n",
      "\n",
      "        0.0       0.79      0.70      0.74      1093\n",
      "        1.0       0.77      0.84      0.80      1307\n",
      "\n",
      "avg / total       0.78      0.78      0.78      2400\n",
      "\n",
      "sklearn micro-F1-Score: 0.7770833333333333\n"
     ]
    }
   ],
   "source": [
    "fb_classifier = FBConstructivenessClassifier(X_NYT, y_NYT, X_C3_test, y_C3_test)\n",
    "\n",
    "run_experiments_on_feature_sets(fb_classifier, classifier=SGDClassifier())"
   ]
  },
  {
   "cell_type": "code",
   "execution_count": null,
   "metadata": {},
   "outputs": [
    {
     "name": "stdout",
     "output_type": "stream",
     "text": [
      "\n",
      "\n",
      "Feature set: ['ngram_feats']\n",
      "Classifier:  XGBClassifier(base_score=0.5, booster='gbtree', colsample_bylevel=1,\n",
      "       colsample_bytree=1, gamma=0, learning_rate=0.1, max_delta_step=0,\n",
      "       max_depth=3, min_child_weight=1, missing=None, n_estimators=100,\n",
      "       n_jobs=1, nthread=None, objective='binary:logistic', random_state=0,\n",
      "       reg_alpha=0, reg_lambda=1, scale_pos_weight=1, seed=None,\n",
      "       silent=True, subsample=1)\n",
      "Feature set:  ['ngram_feats']\n",
      "COMMENTS COL:  pp_comment_text\n",
      "Model trained and pickled in file:  /home/vkolhatk/dev/constructiveness/models/saved_model.h5\n"
     ]
    },
    {
     "name": "stderr",
     "output_type": "stream",
     "text": [
      "/home/vkolhatk/anaconda3/envs/py35/lib/python3.5/site-packages/sklearn/preprocessing/label.py:151: DeprecationWarning: The truth value of an empty array is ambiguous. Returning False, but in future this will result in an error. Use `array.size > 0` to check that an array is not empty.\n",
      "  if diff:\n"
     ]
    },
    {
     "name": "stdout",
     "output_type": "stream",
     "text": [
      "Training accuracy:   0.83\n"
     ]
    },
    {
     "name": "stderr",
     "output_type": "stream",
     "text": [
      "/home/vkolhatk/anaconda3/envs/py35/lib/python3.5/site-packages/sklearn/preprocessing/label.py:151: DeprecationWarning: The truth value of an empty array is ambiguous. Returning False, but in future this will result in an error. Use `array.size > 0` to check that an array is not empty.\n",
      "  if diff:\n"
     ]
    },
    {
     "name": "stdout",
     "output_type": "stream",
     "text": [
      "Validation accuracy: 0.75\n"
     ]
    },
    {
     "name": "stderr",
     "output_type": "stream",
     "text": [
      "/home/vkolhatk/anaconda3/envs/py35/lib/python3.5/site-packages/sklearn/preprocessing/label.py:151: DeprecationWarning: The truth value of an empty array is ambiguous. Returning False, but in future this will result in an error. Use `array.size > 0` to check that an array is not empty.\n",
      "  if diff:\n"
     ]
    },
    {
     "name": "stdout",
     "output_type": "stream",
     "text": [
      "TRAIN CLASSIFICATION REPORT\n",
      "\n",
      "              precision    recall  f1-score   support\n",
      "\n",
      "        0.0       0.78      0.91      0.84     15178\n",
      "        1.0       0.90      0.75      0.81     15147\n",
      "\n",
      "avg / total       0.84      0.83      0.83     30325\n",
      "\n"
     ]
    },
    {
     "name": "stderr",
     "output_type": "stream",
     "text": [
      "/home/vkolhatk/anaconda3/envs/py35/lib/python3.5/site-packages/sklearn/preprocessing/label.py:151: DeprecationWarning: The truth value of an empty array is ambiguous. Returning False, but in future this will result in an error. Use `array.size > 0` to check that an array is not empty.\n",
      "  if diff:\n"
     ]
    },
    {
     "name": "stdout",
     "output_type": "stream",
     "text": [
      "VALIDATION CLASSIFICATION REPORT\n",
      "\n",
      "              precision    recall  f1-score   support\n",
      "\n",
      "        0.0       0.67      0.89      0.76      1093\n",
      "        1.0       0.87      0.63      0.73      1307\n",
      "\n",
      "avg / total       0.78      0.75      0.74      2400\n",
      "\n",
      "sklearn micro-F1-Score: 0.7466666666666667\n",
      "\n",
      "\n",
      "Feature set: ['tfidf_feats']\n",
      "Classifier:  XGBClassifier(base_score=0.5, booster='gbtree', colsample_bylevel=1,\n",
      "       colsample_bytree=1, gamma=0, learning_rate=0.1, max_delta_step=0,\n",
      "       max_depth=3, min_child_weight=1, missing=None, n_estimators=100,\n",
      "       n_jobs=1, nthread=None, objective='binary:logistic', random_state=0,\n",
      "       reg_alpha=0, reg_lambda=1, scale_pos_weight=1, seed=None,\n",
      "       silent=True, subsample=1)\n",
      "Feature set:  ['tfidf_feats']\n",
      "COMMENTS COL:  pp_comment_text\n",
      "Model trained and pickled in file:  /home/vkolhatk/dev/constructiveness/models/saved_model.h5\n"
     ]
    },
    {
     "name": "stderr",
     "output_type": "stream",
     "text": [
      "/home/vkolhatk/anaconda3/envs/py35/lib/python3.5/site-packages/sklearn/preprocessing/label.py:151: DeprecationWarning: The truth value of an empty array is ambiguous. Returning False, but in future this will result in an error. Use `array.size > 0` to check that an array is not empty.\n",
      "  if diff:\n"
     ]
    },
    {
     "name": "stdout",
     "output_type": "stream",
     "text": [
      "Training accuracy:   0.84\n"
     ]
    },
    {
     "name": "stderr",
     "output_type": "stream",
     "text": [
      "/home/vkolhatk/anaconda3/envs/py35/lib/python3.5/site-packages/sklearn/preprocessing/label.py:151: DeprecationWarning: The truth value of an empty array is ambiguous. Returning False, but in future this will result in an error. Use `array.size > 0` to check that an array is not empty.\n",
      "  if diff:\n"
     ]
    },
    {
     "name": "stdout",
     "output_type": "stream",
     "text": [
      "Validation accuracy: 0.64\n"
     ]
    }
   ],
   "source": [
    "run_experiments_on_feature_sets(fb_classifier)"
   ]
  },
  {
   "cell_type": "markdown",
   "metadata": {},
   "source": [
    "### Train on C3 train and test on NYT"
   ]
  },
  {
   "cell_type": "code",
   "execution_count": null,
   "metadata": {},
   "outputs": [],
   "source": []
  }
 ],
 "metadata": {
  "kernelspec": {
   "display_name": "Python 3",
   "language": "python",
   "name": "python3"
  },
  "language_info": {
   "codemirror_mode": {
    "name": "ipython",
    "version": 3
   },
   "file_extension": ".py",
   "mimetype": "text/x-python",
   "name": "python",
   "nbconvert_exporter": "python",
   "pygments_lexer": "ipython3",
   "version": "3.5.4"
  }
 },
 "nbformat": 4,
 "nbformat_minor": 2
}
